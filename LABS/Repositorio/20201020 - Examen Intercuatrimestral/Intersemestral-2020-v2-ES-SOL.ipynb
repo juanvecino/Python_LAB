{
 "cells": [
  {
   "cell_type": "markdown",
   "metadata": {},
   "source": [
    "# Examen Inter-semestral\n",
    "# Fundamentos de la Informática\n",
    "# 20-Oct-2019\n",
    "\n",
    "## *Rellena la siguiente información*:\n",
    "\n",
    "### Nombre completo:\n",
    "### Grupo:"
   ]
  },
  {
   "cell_type": "markdown",
   "metadata": {},
   "source": [
    "#### Problema 1 (2 ptos.)\n",
    "\n",
    "Disponemos de una baraja francesa formada por cuatro palos y 13 valores. Podemos simularlo con las siguientes variables\n",
    "\n",
    "* Palos: Corazones, Rombos, Picas, Treboles\n",
    "\n",
    "        palos=[\"♥\",\"♦\",\"♣\",\"♠\"]\n",
    "    \n",
    "* Valores: Del 1 al 13 (del 1 al 10 más Jota (11), Dama (12) y Rey(13))\n",
    "\n",
    "Genera todas las posibles combinaciones y almacénalas en una variable de tipo lista de tuplas similar a esta:\n",
    "\n",
    "        baraja=[(\"♥\",1,\"♥1\"),(\"♥\",2,\"♥2\"),...,(\"♠\",13,\"♠13\")]"
   ]
  },
  {
   "cell_type": "markdown",
   "metadata": {},
   "source": [
    "#### SOLUCION"
   ]
  },
  {
   "cell_type": "code",
   "execution_count": 9,
   "metadata": {},
   "outputs": [
    {
     "name": "stdout",
     "output_type": "stream",
     "text": [
      "[('♥', 1, '♥1'), ('♥', 2, '♥2'), ('♥', 3, '♥3'), ('♥', 4, '♥4'), ('♥', 5, '♥5'), ('♥', 6, '♥6'), ('♥', 7, '♥7'), ('♥', 8, '♥8'), ('♥', 9, '♥9'), ('♥', 10, '♥10'), ('♥', 11, '♥11'), ('♥', 12, '♥12'), ('♥', 13, '♥13'), ('♦', 1, '♦1'), ('♦', 2, '♦2'), ('♦', 3, '♦3'), ('♦', 4, '♦4'), ('♦', 5, '♦5'), ('♦', 6, '♦6'), ('♦', 7, '♦7'), ('♦', 8, '♦8'), ('♦', 9, '♦9'), ('♦', 10, '♦10'), ('♦', 11, '♦11'), ('♦', 12, '♦12'), ('♦', 13, '♦13'), ('♣', 1, '♣1'), ('♣', 2, '♣2'), ('♣', 3, '♣3'), ('♣', 4, '♣4'), ('♣', 5, '♣5'), ('♣', 6, '♣6'), ('♣', 7, '♣7'), ('♣', 8, '♣8'), ('♣', 9, '♣9'), ('♣', 10, '♣10'), ('♣', 11, '♣11'), ('♣', 12, '♣12'), ('♣', 13, '♣13'), ('♠', 1, '♠1'), ('♠', 2, '♠2'), ('♠', 3, '♠3'), ('♠', 4, '♠4'), ('♠', 5, '♠5'), ('♠', 6, '♠6'), ('♠', 7, '♠7'), ('♠', 8, '♠8'), ('♠', 9, '♠9'), ('♠', 10, '♠10'), ('♠', 11, '♠11'), ('♠', 12, '♠12'), ('♠', 13, '♠13')]\n"
     ]
    }
   ],
   "source": [
    "baraja=[]\n",
    "for p in [\"♥\",\"♦\",\"♣\",\"♠\"]:\n",
    "    for v in range(1,14):\n",
    "        baraja.append((p,v,p+str(v)))\n",
    "print(baraja)"
   ]
  },
  {
   "cell_type": "markdown",
   "metadata": {},
   "source": [
    "#### Problema 2 (4 ptos.)\n",
    "\n",
    "Queremos un código que genere un cartón de bingo aleatorio. El cartón de bingo tiene que tener 4 filas y 6 columnas. Los números tiene que ser 24 números aleatorios del 0 al 100 sin que se repita ninguno. El resultado del código debe imprimir un cartón como este:\n",
    "\n",
    "    | 26|  3| 79| 82| 61|100|\n",
    "    | 72| 92| 49| 60|  0| 21|\n",
    "    |  8| 51| 36| 33| 78| 65|\n",
    "    | 25|  1| 73|  5| 77|  4|\n",
    "    \n",
    "Recuerda que las funciones vistas en los laboratorios de la librería RANDOM pueden resultarte de utilidad (shuffle, sample, randint,...)"
   ]
  },
  {
   "cell_type": "markdown",
   "metadata": {},
   "source": [
    "#### SOLUCION: "
   ]
  },
  {
   "cell_type": "code",
   "execution_count": 10,
   "metadata": {},
   "outputs": [
    {
     "name": "stdout",
     "output_type": "stream",
     "text": [
      "[40, 48, 67, 94, 65, 50, 28, 95, 46, 88, 21, 7, 43, 91, 61, 29, 17, 84, 78, 6, 33, 60, 16, 24]\n"
     ]
    }
   ],
   "source": [
    "import random as rnd\n",
    "numeros=[]\n",
    "while len(numeros)!=24:\n",
    "    number=rnd.randint(0,100)\n",
    "    if number not in numeros:\n",
    "        numeros.append(number)\n",
    "print(numeros)"
   ]
  },
  {
   "cell_type": "code",
   "execution_count": 11,
   "metadata": {},
   "outputs": [
    {
     "name": "stdout",
     "output_type": "stream",
     "text": [
      "| 40| 48| 67| 94| 65| 50|\n",
      "| 28| 95| 46| 88| 21|  7|\n",
      "| 43| 91| 61| 29| 17| 84|\n",
      "| 78|  6| 33| 60| 16| 24|\n"
     ]
    }
   ],
   "source": [
    "for i in range(4):\n",
    "    print(\"|{0:3d}|{1:3d}|{2:3d}|{3:3d}|{4:3d}|{5:3d}|\".format(numeros[i*6+0],numeros[i*6+1],numeros[i*6+2],numeros[i*6+3],numeros[i*6+4],numeros[i*6+5]))"
   ]
  },
  {
   "cell_type": "markdown",
   "metadata": {},
   "source": [
    "#### Problema 3 (2 ptos.)\n",
    "\n",
    "Modifica el código proporcionado para conseguir el siguiente efecto:\n",
    "\n",
    "              d\n",
    "             ad\n",
    "            dad\n",
    "           idad\n",
    "          sidad\n",
    "         rsidad\n",
    "        ersidad\n",
    "       versidad\n",
    "      iversidad\n",
    "     niversidad\n",
    "    Universidad"
   ]
  },
  {
   "cell_type": "code",
   "execution_count": 3,
   "metadata": {
    "scrolled": false
   },
   "outputs": [
    {
     "name": "stdout",
     "output_type": "stream",
     "text": [
      "          U\n",
      "         Un\n",
      "        Uni\n",
      "       Univ\n",
      "      Unive\n",
      "     Univer\n",
      "    Univers\n",
      "   Universi\n",
      "  Universid\n",
      " Universida\n",
      "Universidad\n"
     ]
    }
   ],
   "source": [
    "sentence=\"Universidad\"\n",
    "for character in range (1,len(sentence)+1):\n",
    "    print(\"%11s\" % sentence[:character])"
   ]
  },
  {
   "cell_type": "markdown",
   "metadata": {},
   "source": [
    "#### SOLUCION."
   ]
  },
  {
   "cell_type": "code",
   "execution_count": 44,
   "metadata": {
    "scrolled": true
   },
   "outputs": [
    {
     "name": "stdout",
     "output_type": "stream",
     "text": [
      "          d\n",
      "         ad\n",
      "        dad\n",
      "       idad\n",
      "      sidad\n",
      "     rsidad\n",
      "    ersidad\n",
      "   versidad\n",
      "  iversidad\n",
      " niversidad\n",
      "Universidad\n"
     ]
    }
   ],
   "source": [
    "sentence=\"Universidad\"\n",
    "for character in range (1,len(sentence)+1):\n",
    "    print(\"%11s\" % sentence[len(sentence)-character:])"
   ]
  },
  {
   "cell_type": "markdown",
   "metadata": {},
   "source": [
    "#### Problema 4 (1 ptos.)\n",
    "\n",
    "Queremos crear un diccionario con las siguientes claves (clientes) y valores (telefonos). Explica por qué no hace lo esperado y corrígelo."
   ]
  },
  {
   "cell_type": "code",
   "execution_count": 11,
   "metadata": {},
   "outputs": [
    {
     "ename": "IndexError",
     "evalue": "list index out of range",
     "output_type": "error",
     "traceback": [
      "\u001b[1;31m---------------------------------------------------------------------------\u001b[0m",
      "\u001b[1;31mIndexError\u001b[0m                                Traceback (most recent call last)",
      "\u001b[1;32m<ipython-input-11-2a42f0b98ee1>\u001b[0m in \u001b[0;36m<module>\u001b[1;34m\u001b[0m\n\u001b[0;32m      3\u001b[0m \u001b[0musuarios\u001b[0m\u001b[1;33m=\u001b[0m\u001b[1;33m{\u001b[0m\u001b[1;33m}\u001b[0m\u001b[1;33m\u001b[0m\u001b[1;33m\u001b[0m\u001b[0m\n\u001b[0;32m      4\u001b[0m \u001b[1;32mfor\u001b[0m \u001b[0mi\u001b[0m \u001b[1;32min\u001b[0m \u001b[0mrange\u001b[0m\u001b[1;33m(\u001b[0m\u001b[0mlen\u001b[0m\u001b[1;33m(\u001b[0m\u001b[0mclientes\u001b[0m\u001b[1;33m)\u001b[0m\u001b[1;33m)\u001b[0m\u001b[1;33m:\u001b[0m\u001b[1;33m\u001b[0m\u001b[1;33m\u001b[0m\u001b[0m\n\u001b[1;32m----> 5\u001b[1;33m     \u001b[0musuarios\u001b[0m\u001b[1;33m[\u001b[0m\u001b[0mi\u001b[0m\u001b[1;33m]\u001b[0m\u001b[1;33m=\u001b[0m\u001b[0mtelefonos\u001b[0m\u001b[1;33m[\u001b[0m\u001b[0mi\u001b[0m\u001b[1;33m]\u001b[0m\u001b[1;33m\u001b[0m\u001b[1;33m\u001b[0m\u001b[0m\n\u001b[0m\u001b[0;32m      6\u001b[0m \u001b[0mprint\u001b[0m\u001b[1;33m(\u001b[0m\u001b[0musuarios\u001b[0m\u001b[1;33m)\u001b[0m\u001b[1;33m\u001b[0m\u001b[1;33m\u001b[0m\u001b[0m\n",
      "\u001b[1;31mIndexError\u001b[0m: list index out of range"
     ]
    }
   ],
   "source": [
    "telefonos=[66675665, 67889990, 657456655, 6234456458]\n",
    "clientes=[\"Paco\", \"Elisa\",\"David\", \"Rocio\",\"Frachesca\"]\n",
    "usuarios={}\n",
    "for i in range(len(clientes)):\n",
    "    usuarios[i]=telefonos[i]\n",
    "print(usuarios)"
   ]
  },
  {
   "cell_type": "markdown",
   "metadata": {},
   "source": [
    "#### SOLUCION:\n",
    "\n",
    "* Hay un elemento más en clientes que en teléfonos\n",
    "* Estamos usando como clave un índice, no el nombre del cliente"
   ]
  },
  {
   "cell_type": "code",
   "execution_count": 12,
   "metadata": {},
   "outputs": [
    {
     "name": "stdout",
     "output_type": "stream",
     "text": [
      "{'Paco': 66675665, 'Elisa': 67889990, 'David': 657456655, 'Rocio': 6234456458, 'Frachesca': 1111111111}\n"
     ]
    }
   ],
   "source": [
    "telefonos=[66675665, 67889990, 657456655, 6234456458, 1111111111]\n",
    "clientes=[\"Paco\", \"Elisa\",\"David\", \"Rocio\",\"Frachesca\"]\n",
    "usuarios={}\n",
    "for i in range(len(clientes)):\n",
    "    usuarios[clientes[i]]=telefonos[i]\n",
    "print(usuarios)"
   ]
  },
  {
   "cell_type": "markdown",
   "metadata": {},
   "source": [
    "#### Problema 5 (1 ptos.)\n",
    "\n",
    "Queremos elevar una lista de números reales a la cuarta potencia, pero nuestra distribución de python no dispone de la librería NUMPY. Realizar un código que permita elevar una lista de valores sin hacer uso de esta librería."
   ]
  },
  {
   "cell_type": "code",
   "execution_count": 13,
   "metadata": {},
   "outputs": [
    {
     "data": {
      "text/plain": [
       "[1, 16, 81, 256, 625, 1296]"
      ]
     },
     "execution_count": 13,
     "metadata": {},
     "output_type": "execute_result"
    }
   ],
   "source": [
    "import math\n",
    "lista=[1,2,3,4,5,6]\n",
    "out=[]\n",
    "for i in lista:\n",
    "    out.append(i**4)\n",
    "out"
   ]
  }
 ],
 "metadata": {
  "kernelspec": {
   "display_name": "Python 3",
   "language": "python",
   "name": "python3"
  },
  "language_info": {
   "codemirror_mode": {
    "name": "ipython",
    "version": 3
   },
   "file_extension": ".py",
   "mimetype": "text/x-python",
   "name": "python",
   "nbconvert_exporter": "python",
   "pygments_lexer": "ipython3",
   "version": "3.8.3"
  }
 },
 "nbformat": 4,
 "nbformat_minor": 4
}
