{
 "cells": [
  {
   "cell_type": "markdown",
   "metadata": {},
   "source": [
    "## Lab3: Data Types and Data Structures\n",
    "\n",
    "* Sutdent: Juan Vecino\n",
    "* Group: B\n",
    "* Date = 22/09/2020"
   ]
  },
  {
   "cell_type": "markdown",
   "metadata": {},
   "source": [
    "### Lab 3.2 Vowels and consonants classifier"
   ]
  },
  {
   "cell_type": "code",
   "execution_count": 28,
   "metadata": {},
   "outputs": [
    {
     "name": "stdout",
     "output_type": "stream",
     "text": [
      "Write a sentence please:\n",
      "Hola QUE tal GENTE?\n",
      "Las vocales que ha utilizado son:\n",
      "-Las minúsciulas:['o', 'a', 'a']\n",
      "-Las mayúsculas:['U', 'E', 'E', 'E']\n",
      "\n",
      "Y de las consonantes:\n",
      "Las minúsculas:['l', ' ', ' ', 't', 'l', ' ', '?']\n",
      "Las mayúsculas:['H', 'Q', 'G', 'N', 'T']\n"
     ]
    }
   ],
   "source": [
    "vowels = \"a\",\"e\",\"i\",\"o\",\"u\",\"A\",\"E\",\"I\",\"O\",\"U\"\n",
    "\n",
    "vowels_list_lower = []\n",
    "consonant_list_lower = []\n",
    "vowels_list_upper = []\n",
    "consonant_list_upper = []\n",
    "\n",
    "sentence = input(\"Write a sentence please:\\n\")\n",
    "\n",
    "for character in sentence:\n",
    "    if character in vowels:\n",
    "        if character.islower() == True:\n",
    "            vowels_list_lower.append(character)\n",
    "        else:\n",
    "            vowels_list_upper.append(character)\n",
    "            \n",
    "    else:\n",
    "        if character.isupper() == True:\n",
    "            consonant_list_upper.append(character)\n",
    "        else: \n",
    "            consonant_list_lower.append(character)\n",
    "print(\"Las vocales que ha utilizado son:\\n-Las minúsciulas:{}\\n-Las mayúsculas:{}\\n\\nY de las consonantes:\\nLas minúsculas:{}\\nLas mayúsculas:{}\".format(vowels_list_lower,vowels_list_upper,consonant_list_lower,consonant_list_upper))"
   ]
  },
  {
   "cell_type": "markdown",
   "metadata": {},
   "source": [
    "## Lab 3.3 Matrix multiplication"
   ]
  },
  {
   "cell_type": "code",
   "execution_count": 87,
   "metadata": {
    "scrolled": false
   },
   "outputs": [
    {
     "name": "stdout",
     "output_type": "stream",
     "text": [
      "[[12 11  4]\n",
      " [23 19 10]\n",
      " [40 40  8]]\n",
      "\n",
      "Bien chaval!\n",
      " :)\n"
     ]
    }
   ],
   "source": [
    "import numpy as np\n",
    "A = np.array([[1,2,1],[3,3,4],[0,8,0]])\n",
    "B = np.array([[0,0,1],[5,5,1],[2,1,1]])\n",
    "C = np.array([[0,0,0],[0,0,0],[0,0,0]])\n",
    "\n",
    "if len(A) == len(B[0]):\n",
    "    for columna in range(0,len(A)):\n",
    "        for fila in range(0,len(B[0])):\n",
    "            for valor in range(0,len(A[0])):\n",
    "                C[fila][columna] += A[fila][valor]*B[valor][columna]\n",
    "else:\n",
    "    print('No se pueden multiplicar estos vectores')\n",
    "print(C)\n",
    "if C.all() == (np.dot(A,B)).all():\n",
    "    print('\\nBien chaval!\\n :)')"
   ]
  },
  {
   "cell_type": "markdown",
   "metadata": {},
   "source": [
    "## Lab 3.4 Hands on lists methods"
   ]
  },
  {
   "cell_type": "code",
   "execution_count": 139,
   "metadata": {},
   "outputs": [
    {
     "name": "stdout",
     "output_type": "stream",
     "text": [
      "[] ['25', 'Perro', '6.7'] ['25', 'Perro', '6.7']\n",
      "Que quieres añadir a la lista?\n",
      "gato\n",
      "['25', 'Perro', '6.7', 'gato']\n",
      "['25', 'Perro', '6.7', 'gato']\n",
      "['25', 'Perro', '6.7', 'gato', 'leon', 'jirafa']\n",
      "['25', '6.7', 'Perro', 'gato', 'jirafa', 'leon']\n",
      "['leon', 'jirafa', 'gato', 'Perro', '6.7', '25']\n",
      "['leon', 'jirafa', 'zebra', 'gato', 'Perro', '6.7', '25']\n",
      "['leon', 'jirafa', 'zebra', 'gato', 'Perro', '25']\n",
      "['leon', 'jirafa', 'zebra', 'gato', 'Perro', '25']\n",
      "['leon', 'jirafa', 'zebra', 'gato', 'Perro']\n",
      "2\n"
     ]
    }
   ],
   "source": [
    "lista = ['25', 'Perro', '6.7']\n",
    "print(lista[:0],lista[:],lista[:3])\n",
    "\n",
    "lista.append(input('Que quieres añadir a la lista?\\n'))\n",
    "print(lista)\n",
    "lista.extend(['leon', 'jirafa'])\n",
    "print(lista)\n",
    "#No se puede hacer si la toda la sita no es del mismo tipo.\n",
    "lista.sort()\n",
    "print(lista)\n",
    "lista.reverse()\n",
    "print(lista)\n",
    "lista.insert(2,'zebra')\n",
    "print(lista)\n",
    "lista.remove('6.7')\n",
    "print(lista)\n",
    "lista.count('Perro')\n",
    "print(lista)\n",
    "lista.pop()\n",
    "print(lista)\n",
    "index = lista.index('zebra')\n",
    "print(index)"
   ]
  },
  {
   "cell_type": "markdown",
   "metadata": {},
   "source": [
    "## Lab 3.5. Saving student grades with dictionaries"
   ]
  },
  {
   "cell_type": "code",
   "execution_count": 50,
   "metadata": {},
   "outputs": [
    {
     "name": "stdout",
     "output_type": "stream",
     "text": [
      "Student: Juan got and average: 9.166666666666666\n",
      "Student: Esther got and average: 7.766666666666667\n",
      "Student: Pedro got and average: 6.866666666666667\n"
     ]
    },
    {
     "data": {
      "text/plain": [
       "7.933333333333334"
      ]
     },
     "execution_count": 50,
     "metadata": {},
     "output_type": "execute_result"
    }
   ],
   "source": [
    "import numpy as np\n",
    "\n",
    "student1 = {'Name': 'Juan', 'ID':1234,'Grades':[9.3,9.7,8.5]}\n",
    "student2 = {'Name': 'Esther', 'ID':4573,'Grades': [10.0,7.6,5.7]}\n",
    "student3 = {'Name': 'Pedro', 'ID':1234,'Grades': [8.4,9.3,2.9]}\n",
    "student_data = {}\n",
    "mean_total = []\n",
    "\n",
    "student_data = dict(student1),dict(student2),dict(student3)\n",
    "\n",
    "for i in student_data:\n",
    "    mean = np.mean(i['Grades'])\n",
    "    mean_total.append(np.mean(i['Grades']))\n",
    "    print('Student:',i['Name'], 'got and average:', mean)\n",
    "\n",
    "np.mean(mean_total)"
   ]
  },
  {
   "cell_type": "markdown",
   "metadata": {},
   "source": [
    "## Lab 3.6. Counting letters using a dictionary"
   ]
  },
  {
   "cell_type": "code",
   "execution_count": 5,
   "metadata": {
    "scrolled": false
   },
   "outputs": [
    {
     "name": "stdout",
     "output_type": "stream",
     "text": [
      "{'M': 1, 'i': 8, 's': 8, 'p': 2, ' ': 9, 't': 6, 'h': 2, 'e': 7, 'c': 1, 'o': 2, 'n': 4, 'd': 2, 'l': 1, 'g': 1, 'r': 2, 'v': 1, 'U': 1, 'S': 1, 'a': 1}\n"
     ]
    }
   ],
   "source": [
    "sentence= 'Mississippi is the second longest river in the United States'\n",
    "rivers = {}\n",
    "\n",
    "for character in sentence:\n",
    "    rivers[character] = rivers.get(character,0)+ 1\n",
    "    #El hecho de poner .get(character , 0), nos dice que sio el valor es nulo se le añada el valor 0\n",
    "    # FORMA LARGA:\n",
    "    #if rivers.get(character)== None:\n",
    "    #    rivers[character] = 0\n",
    "    #else:\n",
    "    #    rivers[character] += 1\n",
    "print(rivers)"
   ]
  }
 ],
 "metadata": {
  "kernelspec": {
   "display_name": "Python 3",
   "language": "python",
   "name": "python3"
  },
  "language_info": {
   "codemirror_mode": {
    "name": "ipython",
    "version": 3
   },
   "file_extension": ".py",
   "mimetype": "text/x-python",
   "name": "python",
   "nbconvert_exporter": "python",
   "pygments_lexer": "ipython3",
   "version": "3.8.3"
  }
 },
 "nbformat": 4,
 "nbformat_minor": 4
}
