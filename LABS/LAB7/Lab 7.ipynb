{
 "cells": [
  {
   "cell_type": "markdown",
   "metadata": {},
   "source": [
    "## Lab7: Files\n",
    "\n",
    "### Student: Juan C.  Vecino\n",
    "\n",
    "### Group: Turno 2\n",
    "\n",
    "### Date: 06/10/2020"
   ]
  },
  {
   "cell_type": "markdown",
   "metadata": {},
   "source": [
    "## Lab 7.2 Create a text file (1pt.)"
   ]
  },
  {
   "cell_type": "code",
   "execution_count": 41,
   "metadata": {
    "scrolled": true
   },
   "outputs": [
    {
     "name": "stdout",
     "output_type": "stream",
     "text": [
      "Esta es mi primera fila\n",
      "Esta es la segundo\n",
      "Esta es la tercera, al cual tiene estos números:\n",
      "0\n",
      "1\n",
      "2\n",
      "3\n",
      "4\n",
      "5\n",
      "6\n",
      "7\n",
      "8\n",
      "9\n",
      "{'Juan': 'Chico', 'Pedro': 'Chico'}\n"
     ]
    }
   ],
   "source": [
    "lista= []\n",
    "for i in range(10):\n",
    "    lista.append(str(i))\n",
    "diccio= {'Juan':'Chico','Pedro':'Chico'}\n",
    "with open('my_first_file.txt','r+') as file1:\n",
    "    file1.write('Esta es mi primera fila\\nEsta es la segundo\\nEsta es la tercera, al cual tiene estos números:\\n')\n",
    "    file1.write('\\n'.join(lista))\n",
    "    file1.write('\\n')\n",
    "    file1.write(str(diccio))\n",
    "    print(file1.read())"
   ]
  },
  {
   "cell_type": "markdown",
   "metadata": {},
   "source": [
    "### Lab 7.3 Readinf a text file (1 pt.)"
   ]
  },
  {
   "cell_type": "code",
   "execution_count": 55,
   "metadata": {},
   "outputs": [
    {
     "name": "stdout",
     "output_type": "stream",
     "text": [
      "Las primeras lienas del quijote son:\n",
      " -------------------------------------\n",
      "\n",
      "El ingenioso hidalgo don Quijote de la Mancha\n",
      "\n",
      "Capítulo primero. Que trata de la condición y ejercicio del famoso hidalgo\n",
      "don Quijote de la Mancha\n",
      "\n",
      "\n",
      "En un lugar de la Mancha, de cuyo nombre no quiero acordarme, no ha mucho\n",
      "tiempo que vivía un hidalgo de los de lanza en astillero, adarga antigua,\n",
      "rocín flaco y galgo corredor. Una olla de algo más vaca que carnero,\n",
      "salpicón las más noches, duelos y quebrantos los sábados, lantejas los\n",
      "\n"
     ]
    }
   ],
   "source": [
    "with open('El Quijote.txt','r',encoding='utf8') as quijote:\n",
    "    lineas = quijote.readlines()\n",
    "    principio= 'Las primeras lienas del quijote son:\\n'\n",
    "    print(principio,len(principio)*'-', end=('\\n\\n'))\n",
    "    print(''.join(lineas[0:10]))"
   ]
  },
  {
   "cell_type": "markdown",
   "metadata": {},
   "source": [
    "### Lab 7.4 Get words from a long file"
   ]
  },
  {
   "cell_type": "code",
   "execution_count": 28,
   "metadata": {},
   "outputs": [
    {
     "name": "stdout",
     "output_type": "stream",
     "text": [
      "['El', 'ingenioso', 'hidalgo', 'don', 'Quijote', 'de', 'la', 'Mancha', 'Capítulo', 'primero.', 'Que', 'trata', 'de', 'la', 'condición', 'y', 'ejercicio', 'del', 'famoso', 'hidalgo', 'don', 'Quijote', 'de', 'la', 'Mancha', 'En', 'un', 'lugar', 'de', 'la', 'Mancha,', 'de', 'cuyo', 'nombre', 'no', 'quiero', 'acordarme,', 'no', 'ha', 'mucho', 'tiempo', 'que', 'vivía', 'un', 'hidalgo', 'de', 'los', 'de', 'lanza', 'en', 'astillero,', 'adarga', 'antigua,', 'rocín', 'flaco', 'y', 'galgo', 'corredor.', 'Una', 'olla', 'de', 'algo', 'más', 'vaca', 'que', 'carnero.']\n"
     ]
    }
   ],
   "source": [
    "with open('quijote2.txt','r',encoding='utf8') as quijote:\n",
    "    libro = quijote.read()\n",
    "    words = libro.split()\n",
    "    print(words)"
   ]
  },
  {
   "cell_type": "code",
   "execution_count": 111,
   "metadata": {
    "scrolled": true
   },
   "outputs": [
    {
     "name": "stdout",
     "output_type": "stream",
     "text": [
      "['El', 'ingenioso', 'hidalgo', 'don', 'Quijote', 'de', 'la', 'Mancha', 'Capítulo', 'primero', 'Que', 'trata', 'de', 'la', 'condición', 'y', 'ejercicio', 'del', 'famoso', 'hidalgo', 'don', 'Quijote', 'de', 'la', 'Mancha', 'En', 'un', 'lugar', 'de', 'la', 'Mancha', 'de', 'cuyo', 'nombre', 'no', 'quiero', 'acordarme', 'no', 'ha', 'mucho', 'tiempo', 'que', 'vivía', 'un', 'hidalgo', 'de', 'los', 'de', 'lanza', 'en', 'astillero', 'adarga', 'antigua', 'rocín', 'flaco', 'y', 'galgo', 'corredor', 'Una', 'olla', 'de', 'algo', 'más', 'vaca', 'que', 'carnero']\n"
     ]
    }
   ],
   "source": [
    "with open('quijote2.txt','r',encoding='utf8') as quijote:\n",
    "    libro = quijote.read()\n",
    "    for i in libro:\n",
    "        if i.isalpha()==False and i!=' ' and i!='\\n':\n",
    "            libro = libro.replace(i,'')\n",
    "    words= libro.split()\n",
    "    print(words)"
   ]
  },
  {
   "cell_type": "code",
   "execution_count": 105,
   "metadata": {
    "scrolled": true
   },
   "outputs": [
    {
     "name": "stdout",
     "output_type": "stream",
     "text": [
      "['El', 'ingenioso', 'hidalgo', 'don', 'Quijote', 'de', 'la', 'Mancha', 'Capítulo', 'primero', 'Que', 'trata', 'de', 'la', 'condición', 'y', 'ejercicio', 'del', 'famoso', 'hidalgo', 'don', 'Quijote', 'de', 'la', 'Mancha', 'En', 'un', 'lugar', 'de', 'la', 'Mancha', 'de', 'cuyo', 'nombre', 'no', 'quiero', 'acordarme', 'no', 'ha', 'mucho', 'tiempo', 'que', 'vivía', 'un', 'hidalgo', 'de', 'los', 'de', 'lanza', 'en', 'astillero', 'adarga', 'antigua', 'rocín', 'flaco', 'y', 'galgo', 'corredor', 'Una', 'olla', 'de', 'algo', 'más', 'vaca', 'que', 'carnero']\n"
     ]
    }
   ],
   "source": [
    "with open('quijote2.txt','r',encoding='utf8') as quijote:\n",
    "    libro = quijote.read()\n",
    "    for i in libro:\n",
    "        if i.isalpha()==False:\n",
    "            libro=libro.replace(i,' ')\n",
    "    libro=libro.split(' ')\n",
    "    while '' in libro:\n",
    "        libro.remove('')\n",
    "    print(libro)"
   ]
  },
  {
   "cell_type": "code",
   "execution_count": 2,
   "metadata": {},
   "outputs": [],
   "source": [
    "with open('El Quijote.txt','r',encoding='utf8') as quijote:\n",
    "    libro = quijote.read()\n",
    "    for i in libro:\n",
    "        if i.isalpha()==False:\n",
    "            libro = libro.replace(i,'')\n",
    "    words= libro.split()"
   ]
  },
  {
   "cell_type": "markdown",
   "metadata": {},
   "source": [
    "### Formato Nacho"
   ]
  },
  {
   "cell_type": "code",
   "execution_count": 40,
   "metadata": {
    "scrolled": false
   },
   "outputs": [
    {
     "name": "stdout",
     "output_type": "stream",
     "text": [
      "['el', 'ingenioso', 'hidalgo', 'don', 'quijote', 'de', 'la', 'mancha', 'capítulo', 'primero', 'que', 'trata', 'de', 'la', 'condición', 'y', 'ejercicio', 'del', 'famoso', 'hidalgo', 'don', 'quijote', 'de', 'la', 'mancha', 'en', 'un', 'lugar', 'de', 'la', 'mancha', 'de', 'cuyo', 'nombre', 'no', 'quiero', 'acordarme', 'no', 'ha', 'mucho', 'tiempo', 'que', 'vivía', 'un', 'hidalgo', 'de', 'los', 'de', 'lanza', 'en', 'astillero', 'adarga', 'antigua', 'rocín', 'flaco', 'y', 'galgo', 'corredor', 'una', 'olla', 'de', 'algo', 'más', 'vaca', 'que', 'carnero', 'salpicón', 'las', 'más', 'noches', 'duelos', 'y', 'quebrantos', 'los', 'sábados', 'lantejas', 'los']\n"
     ]
    }
   ],
   "source": [
    "with open (\"El Quijote.txt\",\"r\",encoding=\"utf8\") as file:\n",
    "    content=file.read().lower()\n",
    "    lista_lineas=content.split(\"\\n\")\n",
    "    simplificado=(lista_lineas[:10])\n",
    "    palabras=[]\n",
    "    simbolos=\".,;:!#@~$%5&?¿!¡-´\"\n",
    "    texto= [l for l in simplificado if l!=\"\"]\n",
    "    frases=[]\n",
    "    for i in texto:\n",
    "        for v in i:\n",
    "            if v in simbolos:\n",
    "                #Eliminamos las palabras raras\n",
    "                i = i.replace(v,'')\n",
    "        #Aqui añadimos las frases limpias\n",
    "        frases.append(i)\n",
    "    #Aqui dividimos las frases por palbras\n",
    "    for i in frases:\n",
    "        i=i.split(' ')\n",
    "        for v in i:\n",
    "            palabras.append(v)\n",
    "    print(palabras)"
   ]
  },
  {
   "cell_type": "code",
   "execution_count": 67,
   "metadata": {
    "scrolled": false
   },
   "outputs": [
    {
     "name": "stdout",
     "output_type": "stream",
     "text": [
      "['El', 'ingenioso', 'hidalgo', 'don', 'Quijote', 'de', 'la', 'Mancha', 'Capítulo', 'primero.', 'Que', 'trata', 'de', 'la', 'condición', 'y', 'ejercicio', 'del', 'famoso', 'hidalgo', 'don', 'Quijote', 'de', 'la', 'Mancha', 'En', 'un', 'lugar', 'de', 'la', 'Mancha,', 'de', 'cuyo', 'nombre', 'no', 'quiero', 'acordarme,', 'no', 'ha', 'mucho', 'tiempo', 'que', 'vivía', 'un', 'hidalgo', 'de', 'los', 'de', 'lanza', 'en', 'astillero,', 'adarga', 'antigua,', 'rocín', 'flaco', 'y', 'galgo', 'corredor.', 'Una', 'olla', 'de', 'algo', 'más', 'vaca', 'que', 'carnero,', 'salpicón', 'las', 'más', 'noches,', 'duelos', 'y', 'quebrantos', 'los', 'sábados,', 'lantejas', 'los', 'viernes,', 'algún', 'palomino', 'de', 'añadidura', 'los', 'domingos,', 'consumían', 'las', 'tres', 'partes', 'de', 'su', 'hacienda.', 'El', 'resto', 'della', 'concluían', 'sayo', 'de', 'velarte,', 'calzas', 'de', 'velludo', 'para', 'las', 'fiestas,', 'con', 'sus', 'pantuflos', 'de', 'lo', 'mesmo,', 'y', 'los', 'días', 'de', 'entresemana', 'se', 'honraba', 'con', 'su', 'vellorí', 'de', 'lo', 'más', 'fino.', 'Tenía', 'en', 'su', 'casa', 'una', 'ama', 'que', 'pasaba', 'de', 'los', 'cuarenta,', 'y', 'una', 'sobrina', 'que', 'no', 'llegaba', 'a', 'los', 'veinte,', 'y', 'un', 'mozo', 'de', 'campo', 'y', 'plaza,', 'que', 'así', 'ensillaba', 'el', 'rocín', 'como', 'tomaba', 'la', 'podadera.', 'Frisaba', 'la', 'edad', 'de', 'nuestro', 'hidalgo', 'con', 'los', 'cincuenta', 'años;', 'era', 'de', 'complexión', 'recia,', 'seco', 'de', 'carnes,', 'enjuto', 'de', 'rostro,', 'gran', 'madrugador', 'y', 'amigo', 'de', 'la', 'caza.', 'Quieren', 'decir', 'que', 'tenía', 'el', 'sobrenombre', 'de', 'Quijada,', 'o', 'Quesada,', 'que', 'en', 'esto', 'hay', 'alguna', 'diferencia', 'en', 'los', 'autores', 'que', 'deste', 'caso', 'escriben;', 'aunque,', 'por', 'conjeturas', 'verosímiles,', 'se', 'deja', 'entender', 'que', 'se', 'llamaba', 'Quejana.', 'Pero', 'esto', 'importa', 'poco', 'a', 'nuestro', 'cuento;', 'basta', 'que', 'en', 'la', 'narración', 'dél', 'no', 'se', 'salga', 'un', 'punto', 'de', 'la', 'verdad.', 'Es,', 'pues,', 'de', 'saber', 'que', 'este', 'sobredicho', 'hidalgo,', 'los', 'ratos', 'que', 'estaba', 'ocioso,', 'que', 'eran', 'los', 'más', 'del', 'año,', 'se', 'daba', 'a', 'leer', 'libros', 'de', 'caballerías,', 'con', 'tanta', 'afición', 'y', 'gusto,', 'que', 'olvidó', 'casi', 'de', 'todo', 'punto', 'el', 'ejercicio', 'de', 'la', 'caza,', 'y', 'aun', 'la', 'administración', 'de', 'su', 'hacienda.', 'Y', 'llegó', 'a', 'tanto', 'su', 'curiosidad', 'y', 'desatino', 'en', 'esto,', 'que', 'vendió', 'muchas', 'hanegas', 'de', 'tierra', 'de', 'sembradura', 'para', 'comprar', 'libros', 'de', 'caballerías', 'en', 'que', 'leer,', 'y', 'así,', 'llevó', 'a', 'su', 'casa', 'todos']\n"
     ]
    }
   ],
   "source": [
    "with open(\"El Quijote.txt\",\"r\",encoding=\"utf8\") as quijote:\n",
    "    lineas=quijote.readlines()\n",
    "    lines=lineas[:30] ### este código está probado con las 30 primeras lineas.\n",
    "    quijote2=\" \".join(lines)\n",
    "    palabraslista=[]\n",
    "    eliminar=[]\n",
    "    elementos= \"\"\",;:.-_{}()?¿!\\@#$%&/[]\"\"\"\n",
    "    palabras=quijote2.split()\n",
    "    for i in palabras:\n",
    "        if i in elementos:\n",
    "            eliminar.append(i)\n",
    "        else:\n",
    "            palabraslista.append(i)\n",
    "    print(palabraslista)"
   ]
  },
  {
   "cell_type": "markdown",
   "metadata": {},
   "source": [
    "### Lab 7.5 Some statics from a text file"
   ]
  },
  {
   "cell_type": "code",
   "execution_count": 11,
   "metadata": {
    "scrolled": true
   },
   "outputs": [
    {
     "name": "stdout",
     "output_type": "stream",
     "text": [
      "Número de líneas: 37254\n",
      "Número de characters: 2090117\n",
      "Número de palabras: 379399\n",
      "Número de capítulos: LXXIV\n"
     ]
    }
   ],
   "source": [
    "with open('El Quijote.txt','r', encoding='utf8') as quijote:\n",
    "    #Ver número de líneas\n",
    "    \n",
    "    print('Número de líneas:',len(quijote.readlines()))\n",
    "    quijote.seek(0)\n",
    "    \n",
    "    libro = quijote.read()\n",
    "    #Ver número de characters\n",
    "    print('Número de characters:',len(libro))\n",
    "    \n",
    "    for i in libro:\n",
    "        if i.isalpha()==False and i!=' ' and i!='\\n':\n",
    "            libro = libro.replace(i,'')\n",
    "          \n",
    "    # Ver número de palabras\n",
    "    # Para optimizar mi código no he tenido en cienta si las plabras tienen una , o . o lo que sea\n",
    "    # porque esto no influye en el número de palbras totales 'capítulo.'<=>'capítulo', las dos cuentan 1.\n",
    "    words = libro.split()\n",
    "    print('Número de palabras: {}'.format(len(words)))\n",
    "    \n",
    "    # Ver número de capítulos\n",
    "    words.reverse()\n",
    "    print('Número de capítulos:',words[words.index('Capítulo')-1])"
   ]
  },
  {
   "cell_type": "markdown",
   "metadata": {},
   "source": [
    "### Lab 7.6 Frequency of words "
   ]
  },
  {
   "cell_type": "code",
   "execution_count": 35,
   "metadata": {
    "scrolled": false
   },
   "outputs": [],
   "source": [
    "#Para quitar las tildes\n",
    "import unidecode\n",
    "import pickle\n",
    "\n",
    "with open('El Quijote.txt','r') as quijote:\n",
    "    libro = quijote.read()\n",
    "    for i in libro:\n",
    "        if i.isalpha()==False and i!=' ' and i!='\\n':\n",
    "            libro = libro.replace(i,'')\n",
    "    words= libro.split()\n",
    "    registro_palabras={}\n",
    "    for letras in words:\n",
    "        limpio= unidecode.unidecode(letras)\n",
    "        registro_palabras[limpio.lower()]= registro_palabras.get(limpio.lower(),0)+1\n",
    "registro_ordenado={}\n",
    "for key in sorted(registro_palabras):\n",
    "    registro_ordenado[key]=registro_palabras[key] \n",
    "with open('Registro.dat','wb') as registro:\n",
    "    pickle.dump(registro_ordenado,registro)"
   ]
  },
  {
   "cell_type": "markdown",
   "metadata": {},
   "source": [
    "### Lab 7.7 Read binary files"
   ]
  },
  {
   "cell_type": "code",
   "execution_count": 2,
   "metadata": {},
   "outputs": [
    {
     "data": {
      "text/plain": [
       "Text(0.5, 1.0, 'Medias de las personas')"
      ]
     },
     "execution_count": 2,
     "metadata": {},
     "output_type": "execute_result"
    },
    {
     "data": {
      "image/png": "[encoded data removed]",
      "text/plain": [
       "<Figure size 432x288 with 1 Axes>"
      ]
     },
     "metadata": {
      "needs_background": "light"
     },
     "output_type": "display_data"
    }
   ],
   "source": [
    "import matplotlib.pyplot as plt\n",
    "notas ={'Álvaro':10,'Marina':5,'Pastor':3,'Juan':6,'Javier':4}\n",
    "mayor_menor_notas = sorted(notas.items(), key = lambda registro: registro[1],reverse=True)\n",
    "X=[i[0] for i in mayor_menor_notas]\n",
    "Y=[i[1] for i in mayor_menor_notas]\n",
    "plt.bar(X,Y)\n",
    "plt.xlabel('Nombres')\n",
    "plt.ylabel('Notas')\n",
    "plt.title('Medias de las personas')"
   ]
  },
  {
   "cell_type": "code",
   "execution_count": 15,
   "metadata": {
    "scrolled": false
   },
   "outputs": [
    {
     "name": "stdout",
     "output_type": "stream",
     "text": [
      "word:  que frecuency 21247\n",
      "word:   de frecuency 18035\n",
      "word:    y frecuency 17981\n",
      "word:   la frecuency 10227\n",
      "word:    a frecuency 9776\n",
      "word:   el frecuency 9347\n",
      "word:   en frecuency 8109\n",
      "word:   no frecuency 6283\n",
      "word:   se frecuency 5025\n",
      "word:  los frecuency 4701\n",
      "word:  con frecuency 4170\n",
      "word:  por frecuency 3883\n",
      "word:  las frecuency 3427\n",
      "word:   lo frecuency 3416\n",
      "word:   le frecuency 3380\n",
      "word:   su frecuency 3334\n",
      "word:  don frecuency 2630\n",
      "word:  del frecuency 2580\n",
      "word: como frecuency 2510\n",
      "word:   me frecuency 2325\n"
     ]
    },
    {
     "data": {
      "image/png": "[encoded data removed]",
      "text/plain": [
       "<Figure size 432x288 with 1 Axes>"
      ]
     },
     "metadata": {
      "needs_background": "light"
     },
     "output_type": "display_data"
    }
   ],
   "source": [
    "import pickle\n",
    "import matplotlib.pyplot as plt\n",
    "with open('Registro.dat','rb') as registro:\n",
    "    reg =pickle.load(registro)\n",
    "    lista = sorted(reg.items(),key= lambda registro: registro[1],reverse=True)\n",
    "    X= [lista[i][0] for i in range(20)]\n",
    "    Y = [lista[i][1] for i in range(20)]\n",
    "    for i in range (20):\n",
    "        print('word: {:>4} frecuency {:}'.format(lista[i][0],lista[i][1]))\n",
    "    plt.bar(X,Y)"
   ]
  },
  {
   "cell_type": "markdown",
   "metadata": {},
   "source": [
    "# Lab 7.8 Use log files with tic tac toe"
   ]
  },
  {
   "cell_type": "code",
   "execution_count": 3,
   "metadata": {
    "scrolled": false
   },
   "outputs": [
    {
     "name": "stdout",
     "output_type": "stream",
     "text": [
      "\n",
      "-------------------------\n",
      "   X\t|   O\t|    \t|\n",
      "-------------------------\n",
      "   O\t|    \t|   X\t|\n",
      "-------------------------\n",
      "   O\t|    \t|   X\t|\n",
      "-------------------------\n",
      "Bienvenido AL JUEGO DEL AÑO\n",
      "5\n",
      "4\n",
      "3\n",
      "2\n",
      "1\n",
      "A JUGAR!\n",
      "Te toca a ti X!\n",
      "\n",
      "-------------------------\n",
      "    \t|    \t|    \t|\n",
      "-------------------------\n",
      "    \t|    \t|    \t|\n",
      "-------------------------\n",
      "    \t|    \t|    \t|\n",
      "-------------------------\n",
      "Donde quieres poner la sigiente ficha?\n",
      "Fila:\n",
      "1\n",
      "Columna:\n",
      "1\n",
      "Te toca a ti O!\n",
      "\n",
      "-------------------------\n",
      "   X\t|    \t|    \t|\n",
      "-------------------------\n",
      "    \t|    \t|    \t|\n",
      "-------------------------\n",
      "    \t|    \t|    \t|\n",
      "-------------------------\n",
      "Donde quieres poner la sigiente ficha?\n",
      "Fila:\n",
      "1\n",
      "Columna:\n",
      "2\n",
      "Te toca a ti X!\n",
      "\n",
      "-------------------------\n",
      "   X\t|   O\t|    \t|\n",
      "-------------------------\n",
      "    \t|    \t|    \t|\n",
      "-------------------------\n",
      "    \t|    \t|    \t|\n",
      "-------------------------\n",
      "Donde quieres poner la sigiente ficha?\n",
      "Fila:\n",
      "2\n",
      "Columna:\n",
      "2\n",
      "Te toca a ti O!\n",
      "\n",
      "-------------------------\n",
      "   X\t|   O\t|    \t|\n",
      "-------------------------\n",
      "    \t|   X\t|    \t|\n",
      "-------------------------\n",
      "    \t|    \t|    \t|\n",
      "-------------------------\n",
      "Donde quieres poner la sigiente ficha?\n",
      "Fila:\n",
      "1\n",
      "Columna:\n",
      "3\n",
      "Te toca a ti X!\n",
      "\n",
      "-------------------------\n",
      "   X\t|   O\t|   O\t|\n",
      "-------------------------\n",
      "    \t|   X\t|    \t|\n",
      "-------------------------\n",
      "    \t|    \t|    \t|\n",
      "-------------------------\n",
      "Donde quieres poner la sigiente ficha?\n",
      "Fila:\n",
      "3\n",
      "Columna:\n",
      "3\n",
      "Te toca a ti O!\n",
      "Quieres volver a jugar?\n",
      "no\n",
      "Muchas gracias por jugar\n",
      "©Copyright 2020\t\tJuan Vecino\n"
     ]
    }
   ],
   "source": [
    "%run Lab6_copia.ipynb\n",
    "# He modificado las funciones y ahora cada vez que se ejecutan se añande a una lista (rehstro)\n",
    "# el timepo y lo que ha hecho, la función juego devuelve esa lista y yo luego la separo y la escribo\n",
    "def funcion(juego):\n",
    "    with open ('Registro_Juego.txt','a') as registro_juego:\n",
    "        registro=list(juego)\n",
    "        for i in registro:\n",
    "            registro_juego.write(i)\n",
    "            registro_juego.write('\\n')\n",
    "funcion(juego())"
   ]
  },
  {
   "cell_type": "code",
   "execution_count": 8,
   "metadata": {
    "scrolled": false
   },
   "outputs": [
    {
     "name": "stdout",
     "output_type": "stream",
     "text": [
      "23:56:48 - game: [['', '', ''], ['', '', ''], ['', '', '']]\n",
      "23:56:49 user: X row:0 col:0\n",
      "23:56:49 - game: [['X', '', ''], ['', '', ''], ['', '', '']]\n",
      "23:56:50 user: O row:0 col:1\n",
      "23:56:50 - game: [['X', 'O', ''], ['', '', ''], ['', '', '']]\n",
      "23:56:51 user: X row:1 col:1\n",
      "23:56:51 - game: [['X', 'O', ''], ['', 'X', ''], ['', '', '']]\n",
      "23:56:53 user: O row:0 col:2\n",
      "23:56:53 - game: [['X', 'O', 'O'], ['', 'X', ''], ['', '', '']]\n",
      "23:56:54 user: X row:2 col:2\n",
      "23:56:54 - game: [['X', 'O', 'O'], ['', 'X', ''], ['', '', 'X']]\n",
      "23:56:56 - Winner! User: X\n",
      "23:56:56 - Game over\n",
      "HolaHolaHola22:40:25 - game: [['', '', ''], ['', '', ''], ['', '', '']]\n",
      "22:40:30 user: X row:0 col:1\n",
      "22:40:30 - game: [['', 'X', ''], ['', '', ''], ['', '', '']]\n",
      "22:40:33 user: O row:0 col:0\n",
      "22:40:33 - game: [['O', 'X', ''], ['', '', ''], ['', '', '']]\n",
      "22:40:36 user: X row:1 col:0\n",
      "22:40:36 - game: [['O', 'X', ''], ['X', '', ''], ['', '', '']]\n",
      "22:40:39 user: O row:1 col:1\n",
      "22:40:39 - game: [['O', 'X', ''], ['X', 'O', ''], ['', '', '']]\n",
      "22:40:43 user: X row:0 col:2\n",
      "22:40:43 - game: [['O', 'X', 'X'], ['X', 'O', ''], ['', '', '']]\n",
      "22:40:46 user: O row:2 col:2\n",
      "22:40:46 - game: [['O', 'X', 'X'], ['X', 'O', ''], ['', '', 'O']]\n",
      "22:40:47 - Winner! User: O\n",
      "22:40:47 - Game over\n",
      "\n"
     ]
    }
   ],
   "source": [
    "with open ('Registro_Juego.txt','r') as registro_juego:\n",
    "    print(registro_juego.read())"
   ]
  }
 ],
 "metadata": {
  "kernelspec": {
   "display_name": "Python 3",
   "language": "python",
   "name": "python3"
  },
  "language_info": {
   "codemirror_mode": {
    "name": "ipython",
    "version": 3
   },
   "file_extension": ".py",
   "mimetype": "text/x-python",
   "name": "python",
   "nbconvert_exporter": "python",
   "pygments_lexer": "ipython3",
   "version": "3.8.3"
  }
 },
 "nbformat": 4,
 "nbformat_minor": 4
}
