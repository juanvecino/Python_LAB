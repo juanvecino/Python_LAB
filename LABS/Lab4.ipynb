{
 "cells": [
  {
   "cell_type": "markdown",
   "metadata": {},
   "source": [
    "# Lab 5: Iteration\n",
    "### Student: Juan Vecino\n",
    "### Group: Turno 2\n",
    "### Date: 2/10/2020"
   ]
  },
  {
   "cell_type": "markdown",
   "metadata": {},
   "source": [
    "## 1) Lab 4.2. Body mass calculator"
   ]
  },
  {
   "cell_type": "code",
   "execution_count": 4,
   "metadata": {},
   "outputs": [
    {
     "name": "stdout",
     "output_type": "stream",
     "text": [
      "Cuanto pesas(kg)? 67\n",
      "Cuanto mides(m)? 1.87\n",
      "Tiene un Indice de masa corporal de 19.159827275586945\n"
     ]
    }
   ],
   "source": [
    "while True:\n",
    "    weight = float(input('Cuanto pesas(kg)? '))\n",
    "    height = float(input('Cuanto mides(m)? '))\n",
    "    if weight and height > 0:\n",
    "        break\n",
    "    else:\n",
    "        print('La masa o la altura es negativa por favor vuelve a intentarlo.')\n",
    "        continue\n",
    "print('Tiene un Indice de masa corporal de',weight/height**2)"
   ]
  },
  {
   "cell_type": "markdown",
   "metadata": {},
   "source": [
    "## 2) Lab 4.3. User registration"
   ]
  },
  {
   "cell_type": "code",
   "execution_count": 9,
   "metadata": {},
   "outputs": [
    {
     "name": "stdout",
     "output_type": "stream",
     "text": [
      "Write your login name:\tJuan\n",
      "Write your login name:\tJuan123\n",
      "Write your login name:\tFernando\n"
     ]
    }
   ],
   "source": [
    "login_name = input('Write your login name:\\t')\n",
    "while len(login_name)!=8:\n",
    "    login_name = input('Write your login name:\\t')\n",
    "    continue"
   ]
  },
  {
   "cell_type": "markdown",
   "metadata": {},
   "source": [
    "## 3) Lab 4.4. Multiplication table"
   ]
  },
  {
   "cell_type": "code",
   "execution_count": 3,
   "metadata": {},
   "outputs": [
    {
     "name": "stdout",
     "output_type": "stream",
     "text": [
      "   0   1   2   3   4   5   6   7   8   9  10\n",
      "\n",
      "   1   1   2   3   4   5   6   7   8   9  10\n",
      "\n",
      "   2   2   4   6   8  10  12  14  16  18  20\n",
      "\n",
      "   3   3   6   9  12  15  18  21  24  27  30\n",
      "\n",
      "   4   4   8  12  16  20  24  28  32  36  40\n",
      "\n",
      "   5   5  10  15  20  25  30  35  40  45  50\n",
      "\n",
      "   6   6  12  18  24  30  36  42  48  54  60\n",
      "\n",
      "   7   7  14  21  28  35  42  49  56  63  70\n",
      "\n",
      "   8   8  16  24  32  40  48  56  64  72  80\n",
      "\n",
      "   9   9  18  27  36  45  54  63  72  81  90\n",
      "\n",
      "  10  10  20  30  40  50  60  70  80  90 100\n",
      "\n"
     ]
    }
   ],
   "source": [
    "for i in range(11):\n",
    "    print(\"{0:4}\".format(i),end='')\n",
    "print('\\n')\n",
    "for x in range (1,11):\n",
    "    print('{0:4}'.format(x), end='')\n",
    "    for y in range (1,11):\n",
    "        print(\"{0:4}\".format(x*y), end='')\n",
    "        if y == 10:\n",
    "            print('\\n')"
   ]
  },
  {
   "cell_type": "markdown",
   "metadata": {},
   "source": [
    "## 4) Lab 4.5.1 ATM Simulator"
   ]
  },
  {
   "cell_type": "code",
   "execution_count": 30,
   "metadata": {},
   "outputs": [
    {
     "name": "stdout",
     "output_type": "stream",
     "text": [
      "How many customers do you have?\t3\n",
      "Introduce your ID:\t1\n",
      "Introduce your savings:\t100\n",
      "Introduce your ID:\t2\n",
      "Introduce your savings:\t200\n",
      "Introduce your ID:\t3\n",
      "Introduce your savings:\t300\n",
      "{1: 100, 2: 200, 3: 300}\n"
     ]
    }
   ],
   "source": [
    "customer = int(input('How many customers do you have?\\t'))\n",
    "database = {}\n",
    "x = 0\n",
    "while x < customer:\n",
    "    ID = int(input('Introduce your ID:\\t'))\n",
    "    Savings= int(input('Introduce your savings:\\t'))\n",
    "    database[ID]=Savings\n",
    "    x +=1"
   ]
  },
  {
   "cell_type": "code",
   "execution_count": 40,
   "metadata": {},
   "outputs": [
    {
     "name": "stdout",
     "output_type": "stream",
     "text": [
      "Introduce yout customer ID:6\n",
      "Error, ID 6 is not in our database\n",
      "\n",
      "Introduce yout customer ID:7\n",
      "Error, ID 7 is not in our database\n",
      "\n",
      "Introduce yout customer ID:1\n",
      "Customer ID: 1 Savings: 100\n",
      "Options:\n",
      " -Op 1: Withdraw money\n",
      " -Op 2: Deposit money\n",
      " -Op 3: Exit\n"
     ]
    }
   ],
   "source": [
    "ID_user= int(input('Introduce yout customer ID:'))\n",
    "while database.get(ID_user)==None:\n",
    "    print(f'Error, ID {ID_user} is not in our database\\n')\n",
    "    ID_user= int(input('Introduce yout customer ID:'))\n",
    "    continue\n",
    "print(f'Customer ID: {ID_user} Savings: {database[ID_user]}\\nOptions:\\n -Op 1: Withdraw money\\n -Op 2: Deposit money\\n -Op 3: Exit')"
   ]
  },
  {
   "cell_type": "markdown",
   "metadata": {},
   "source": [
    "## 5) Lab 4.6. Draw a Tic Tac Toe board"
   ]
  },
  {
   "cell_type": "code",
   "execution_count": 28,
   "metadata": {},
   "outputs": [
    {
     "name": "stdout",
     "output_type": "stream",
     "text": [
      " ---  ---  --- \n",
      "|    |    |    |    \n",
      " ---  ---  --- \n",
      "|    |    |    |    \n",
      " ---  ---  --- \n",
      "|    |    |    |    \n",
      " ---  ---  --- \n"
     ]
    }
   ],
   "source": [
    "def print_horiz_line(board_size):\n",
    "    print('{0:5}'.format(\" --- \") * board_size)\n",
    "def print_vet_line(board_size):\n",
    "    print(\"{0:5}\".format('|') *(board_size+1))\n",
    "x=0\n",
    "while x < 3:\n",
    "    print_horiz_line(3)\n",
    "    print_vet_line(3)\n",
    "    x+= 1\n",
    "print_horiz_line(3)"
   ]
  },
  {
   "cell_type": "markdown",
   "metadata": {},
   "source": [
    "## 6) Lab 4.7. Place tokens in Tic Tac Toe"
   ]
  },
  {
   "cell_type": "code",
   "execution_count": 146,
   "metadata": {},
   "outputs": [
    {
     "name": "stdout",
     "output_type": "stream",
     "text": [
      "\n",
      "----\n",
      "X|O||\n",
      "----\n",
      "O|X||\n",
      "----\n",
      "O|X|X|"
     ]
    }
   ],
   "source": [
    "game = [[\"X\", \"O\", \"\"], [\"O\", \"X\", \"\"], [\"O\", \"X\", \"X\"]]\n",
    "x=0\n",
    "while x<len(game):\n",
    "    print('\\n----')\n",
    "    for i in game[x]:\n",
    "        print(i,end='|')\n",
    "    x+=1"
   ]
  },
  {
   "cell_type": "code",
   "execution_count": 42,
   "metadata": {},
   "outputs": [
    {
     "name": "stdout",
     "output_type": "stream",
     "text": [
      "\n",
      "------\n",
      "X|O|\n",
      "------\n",
      "O|X|\n",
      "------\n",
      "O|X|X|"
     ]
    }
   ],
   "source": [
    "def game_table(board):\n",
    "    game = [[\"X\", \"O\", \" \"], [\"O\", \"X\", \" \"], [\"O\", \"X\", \"X\"]]\n",
    "    x=0\n",
    "    while x<len(game):\n",
    "        print('{0:4}'.format('\\n------'))\n",
    "        for i in game[x]:\n",
    "            if i == ' ':\n",
    "                continue\n",
    "            else:\n",
    "                print('{0}'.format(i),end='|')\n",
    "        x+=1\n",
    "game_table(3)\n"
   ]
  },
  {
   "cell_type": "code",
   "execution_count": null,
   "metadata": {},
   "outputs": [],
   "source": []
  }
 ],
 "metadata": {
  "kernelspec": {
   "display_name": "Python 3",
   "language": "python",
   "name": "python3"
  },
  "language_info": {
   "codemirror_mode": {
    "name": "ipython",
    "version": 3
   },
   "file_extension": ".py",
   "mimetype": "text/x-python",
   "name": "python",
   "nbconvert_exporter": "python",
   "pygments_lexer": "ipython3",
   "version": "3.8.3"
  }
 },
 "nbformat": 4,
 "nbformat_minor": 4
}
