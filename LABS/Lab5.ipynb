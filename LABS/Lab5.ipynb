{
 "cells": [
  {
   "cell_type": "markdown",
   "metadata": {},
   "source": [
    "### Lab4: Conditionals\n",
    "#### Student: Juan Vecino\n",
    "#### Group: Turno 2\n",
    "#### Date: 09/10/2020"
   ]
  },
  {
   "cell_type": "markdown",
   "metadata": {},
   "source": [
    "#### Lab5.2 Discount calculator"
   ]
  },
  {
   "cell_type": "code",
   "execution_count": 14,
   "metadata": {},
   "outputs": [
    {
     "name": "stdin",
     "output_type": "stream",
     "text": [
      "Cuantos items vas a comprar:  0\n"
     ]
    },
    {
     "name": "stdout",
     "output_type": "stream",
     "text": [
      "Choose another number\n"
     ]
    },
    {
     "name": "stdin",
     "output_type": "stream",
     "text": [
      "Cuantos items vas a comprar:  0\n"
     ]
    },
    {
     "name": "stdout",
     "output_type": "stream",
     "text": [
      "Choose another number\n"
     ]
    },
    {
     "name": "stdin",
     "output_type": "stream",
     "text": [
      "Cuantos items vas a comprar:  0\n"
     ]
    },
    {
     "name": "stdout",
     "output_type": "stream",
     "text": [
      "Choose another number\n"
     ]
    },
    {
     "name": "stdin",
     "output_type": "stream",
     "text": [
      "Cuantos items vas a comprar:  -2\n"
     ]
    },
    {
     "name": "stdout",
     "output_type": "stream",
     "text": [
      "Choose another number\n"
     ]
    },
    {
     "name": "stdin",
     "output_type": "stream",
     "text": [
      "Cuantos items vas a comprar:  10\n"
     ]
    }
   ],
   "source": [
    "while True:\n",
    "    items = int(input('Cuantos items vas a comprar: '))\n",
    "    if items <= 10 and items >0: \n",
    "        price = 10\n",
    "        break\n",
    "    elif items>=11 and items<=100:\n",
    "        price = 7\n",
    "        break\n",
    "    elif items>=101 and items <= 1000:\n",
    "        price=5\n",
    "        break\n",
    "    else:\n",
    "        print('Choose another number')\n",
    "        continue"
   ]
  },
  {
   "cell_type": "markdown",
   "metadata": {},
   "source": [
    "#### Lab5.3 Body Mass Index calculator"
   ]
  },
  {
   "cell_type": "code",
   "execution_count": 54,
   "metadata": {},
   "outputs": [
    {
     "name": "stdin",
     "output_type": "stream",
     "text": [
      "Cuanto pesas(kg)?  75\n",
      "Cuanto mides(m)?  1.90\n"
     ]
    },
    {
     "name": "stdout",
     "output_type": "stream",
     "text": [
      "Tiene un Indice de masa corporal de 20.775623268698062\n",
      "Estas normal\n"
     ]
    }
   ],
   "source": [
    "while True:\n",
    "    weight = float(input('Cuanto pesas(kg)? '))\n",
    "    height = float(input('Cuanto mides(m)? '))\n",
    "    if weight and height > 0:\n",
    "        break\n",
    "    else:\n",
    "        print('La masa o la altura es negativa por favor vuelve a intentarlo.')\n",
    "        continue\n",
    "IMC = weight/height**2\n",
    "print('Tiene un Indice de masa corporal de',IMC)\n",
    "if IMC <= 16.0:\n",
    "    print(f'Tienes delgadez extrema')\n",
    "elif IMC>= 18.5 and IMC <= 24.99:\n",
    "    print('Estas normal')\n",
    "else:\n",
    "    print('Tienes sobre peso')"
   ]
  },
  {
   "cell_type": "markdown",
   "metadata": {},
   "source": [
    "### Lab 5.4 Password generator"
   ]
  },
  {
   "cell_type": "code",
   "execution_count": 364,
   "metadata": {},
   "outputs": [
    {
     "data": {
      "text/plain": [
       "'K¬¬1kK¬¬'"
      ]
     },
     "execution_count": 364,
     "metadata": {},
     "output_type": "execute_result"
    }
   ],
   "source": [
    "import random\n",
    "#Importar\n",
    "abecedario_lower = 'qwertyuiopasdfghjklñzxcvbnm'\n",
    "abecedario_upper = abecedario_lower.upper()\n",
    "simbolos='|@#¢∞¬÷œ≠'\n",
    "numero = '1234567890'\n",
    "password = []\n",
    "#Añadir las condiciones abligatorias\n",
    "sim = random.sample(simbolos,1)[0]\n",
    "abe_lower = random.sample(abecedario_lower,1)[0]\n",
    "abe_upper = random.sample(abecedario_upper,1)[0]\n",
    "dig = random.sample(numero,1)[0]\n",
    "condiciones = [sim,abe_lower,abe_upper,dig]\n",
    "for valor in condiciones:\n",
    "    password.append(valor)\n",
    "while len(password)!=8:\n",
    "    password.append(random.sample([sim,abe_lower,abe_upper,dig],1)[0])\n",
    "random.shuffle(password)\n",
    "''.join(password)"
   ]
  },
  {
   "cell_type": "markdown",
   "metadata": {},
   "source": [
    "### Lab 5.5. User registration application"
   ]
  },
  {
   "cell_type": "code",
   "execution_count": 186,
   "metadata": {},
   "outputs": [
    {
     "name": "stdin",
     "output_type": "stream",
     "text": [
      "Chose a 8 characters user name:\t Fernando\n"
     ]
    },
    {
     "name": "stdout",
     "output_type": "stream",
     "text": [
      "User name: Fernando\n",
      "\n",
      "Chose a password that fits:\n",
      "-Contein 8 characters\n",
      "-Contein at least 1 letter lower case\n",
      "-Contein at least 1 letter upeer case\n",
      "-Contain at least 1 digit\n",
      "-Contain at least 1 symbol\n",
      "\n",
      "Try number 1, remaining:2\n"
     ]
    },
    {
     "name": "stdin",
     "output_type": "stream",
     "text": [
      "\n",
      "Chose a characters password:\t Fern0ndo\n"
     ]
    },
    {
     "name": "stdout",
     "output_type": "stream",
     "text": [
      "\n",
      "Try number 2, remaining:1\n"
     ]
    },
    {
     "name": "stdin",
     "output_type": "stream",
     "text": [
      "\n",
      "Chose a characters password:\t Fern0nd@\n"
     ]
    },
    {
     "name": "stdout",
     "output_type": "stream",
     "text": [
      "{'Fernando': 'Fern0nd@'}\n"
     ]
    }
   ],
   "source": [
    "# Usuario\n",
    "username= input('Chose a 8 characters user name:\\t')\n",
    "while len(username)!= 8:\n",
    "    username= input('Chose a 8 characters user name:\\t')\n",
    "print(f'User name: {username}')\n",
    "#Contraseña\n",
    "print('\\nChose a password that fits:\\n-Contein 8 characters\\n-Contein at least 1 letter lower case\\n-Contein at least 1 letter upeer case\\n-Contain at least 1 digit\\n-Contain at least 1 symbol')\n",
    "\n",
    "for i in range(3):\n",
    "   \n",
    "    print(f'\\nTry number {i+1}, remaining:{2-i}')\n",
    "    contraseña= input('\\nChose a characters password:\\t')\n",
    "    condicion= any([i.islower() for i in contraseña]) and [len(contraseña)==8] and any([i.isupper() for i in contraseña]) and any([i.isdigit() for i in contraseña]) and any([any([i==v for v in simbolos]) for i in contraseña]) \n",
    "    if condicion == True: \n",
    "        break\n",
    "    elif i==2:\n",
    "        print('\\nTe pongo yo la contraseña')\n",
    "        contraseña=password\n",
    "        print(contraseña)\n",
    "\n",
    "#Registro\n",
    "\n",
    "registro={}\n",
    "registro[username]=contraseña\n",
    "print(registro)"
   ]
  },
  {
   "cell_type": "markdown",
   "metadata": {},
   "source": [
    "### Lab 5.6. ATM Simulator"
   ]
  },
  {
   "cell_type": "code",
   "execution_count": 196,
   "metadata": {},
   "outputs": [
    {
     "name": "stdin",
     "output_type": "stream",
     "text": [
      "How many customers do you have?\t 1\n",
      "Introduce your ID:\t 100\n",
      "Introduce your savings:\t 100\n"
     ]
    }
   ],
   "source": [
    "customer = int(input('How many customers do you have?\\t'))\n",
    "database = {}\n",
    "x = 0\n",
    "while x < customer:\n",
    "    ID = int(input('Introduce your ID:\\t'))\n",
    "    Savings= int(input('Introduce your savings:\\t'))\n",
    "    database[ID]=Savings\n",
    "    x +=1"
   ]
  },
  {
   "cell_type": "code",
   "execution_count": 213,
   "metadata": {},
   "outputs": [
    {
     "name": "stdin",
     "output_type": "stream",
     "text": [
      "Introduce yout customer ID: 100\n"
     ]
    },
    {
     "name": "stdout",
     "output_type": "stream",
     "text": [
      "Customer ID: 100 Savings: 10050\n",
      "Options:\n",
      " -Op 1: Withdraw money\n",
      " -Op 2: Deposit money\n",
      " -Op 3: Exit\n"
     ]
    },
    {
     "name": "stdin",
     "output_type": "stream",
     "text": [
      "Op:\t 3\n"
     ]
    },
    {
     "name": "stdout",
     "output_type": "stream",
     "text": [
      "Exit\n"
     ]
    }
   ],
   "source": [
    "ID_user= int(input('Introduce yout customer ID:'))\n",
    "while database.get(ID_user)==None:\n",
    "    print(f'Error, ID {ID_user} is not in our database\\n')\n",
    "    ID_user= int(input('Introduce yout customer ID:'))\n",
    "    continue\n",
    "print(f'Customer ID: {ID_user} Savings: {database[ID_user]}\\nOptions:\\n -Op 1: Withdraw money\\n -Op 2: Deposit money\\n -Op 3: Exit')\n",
    "option = int(input('Op:\\t'))\n",
    "#Withdraw money\n",
    "if option == 1:\n",
    "    if database[ID_user]>0:\n",
    "        withdraw= int(input('Cuanto quieres sacar'))\n",
    "        if withdraw>0:\n",
    "            database[ID_user]-= withdraw\n",
    "            print(f'\\nTu cuenta se ha quedado así:\\nCustomer ID: {ID_user} Savings:{database[ID_user]}')\n",
    "        else:print('No te intentes sumar dinero rata ;)')\n",
    "    else:print('No tienes dinero')\n",
    "#Deposit money\n",
    "if option==2:\n",
    "    deposit=int(input('Select a quantity to deposit:\\t'))\n",
    "    if deposit>0:\n",
    "        database[ID_user] += deposit\n",
    "        print(f'\\nTu cuenta se ha quedado así:\\nCustomer ID: {ID_user} Savings:{database[ID_user]}')\n",
    "    else: print('Eso sería sacar dinero')\n",
    "#Exit\n",
    "if option==3:\n",
    "    print('Exit')"
   ]
  },
  {
   "cell_type": "markdown",
   "metadata": {},
   "source": [
    "### Lab 5.7. Checj Tic Tac Toe"
   ]
  },
  {
   "cell_type": "code",
   "execution_count": 19,
   "metadata": {},
   "outputs": [
    {
     "name": "stdout",
     "output_type": "stream",
     "text": [
      "Han ganado las X\n"
     ]
    }
   ],
   "source": [
    "#Forma normal\n",
    "import numpy as np\n",
    "game=[['X','O',''],['O','X',''],['O','X','X']]\n",
    "X= []\n",
    "O= []\n",
    "#Filas\n",
    "[X.append(all([i=='X'for i in v]))for v in game]\n",
    "[O.append(all([i=='O'for i in v]))for v in game]\n",
    "#Columnas\n",
    "game_t= np.transpose(game)\n",
    "[X.append(all([i=='X'for i in v]))for v in game_t]\n",
    "[O.append(all([i=='O'for i in v]))for v in game_t]\n",
    "\n",
    "#Diagonal\n",
    "game_d= np.diag(game)\n",
    "\n",
    "X.append(all([ i=='X' for i in game_d]))\n",
    "O.append(all([ i=='O' for i in game_d]))\n",
    "\n",
    "#Diagonal 2\n",
    "game_d2 = np.diag(np.fliplr(game))\n",
    "\n",
    "X.append(all([ i=='X' for i in game_d2]))\n",
    "O.append(all([ i=='O' for i in game_d2]))\n",
    "\n",
    "if any([i==True for i in X])==True:\n",
    "    print('Han ganado las X')\n",
    "elif any([i==True for i in O])==True:\n",
    "    print('Han ganado las O')"
   ]
  },
  {
   "cell_type": "code",
   "execution_count": 18,
   "metadata": {},
   "outputs": [
    {
     "name": "stdout",
     "output_type": "stream",
     "text": [
      "Has ganado\n"
     ]
    }
   ],
   "source": [
    "# Forma muy rápdida\n",
    "import numpy as np\n",
    "game=[['X','O',''],['O','X',''],['O','X','X']]\n",
    "X= []\n",
    "O= []\n",
    "game_t= np.transpose(game)\n",
    "game_d= np.diag(game)\n",
    "game_d2 = np.diag(np.fliplr(game))\n",
    "matriz = [game,game_t,game_d,game_d2]\n",
    "\n",
    "for tipo in matriz:\n",
    "    [X.append(all([i=='X' for i in v]))for v in tipo]\n",
    "    [O.append(all([i=='O'for i in v]))for v in tipo]\n",
    "\n",
    "if any(X)==True or any(O)==True:\n",
    "    print('Has ganado')"
   ]
  },
  {
   "cell_type": "code",
   "execution_count": 27,
   "metadata": {},
   "outputs": [
    {
     "name": "stdout",
     "output_type": "stream",
     "text": [
      "[['X' 'X' '']\n",
      " ['O' 'X' '']\n",
      " ['O' 'X' 'X']]\n",
      "Han ganado las O\n"
     ]
    }
   ],
   "source": [
    "#Forma muy larga\n",
    "import numpy as np\n",
    "game=[['X','X',''],['O','X',''],['O','X','X']]\n",
    "print(np.array(game))\n",
    "contadorX = 0\n",
    "contadorO = 0\n",
    "X=[]\n",
    "O=[]\n",
    "\n",
    "# Filas\n",
    "for v in game:\n",
    "    for i in v:\n",
    "        if i =='X':\n",
    "            contadorX +=1\n",
    "        else:\n",
    "            contadorO +=1\n",
    "    if contadorO==3:\n",
    "        X.append(True)\n",
    "        break\n",
    "    elif contadorX==3:\n",
    "        O.append(True)\n",
    "        break\n",
    "    else:\n",
    "        X.append(False)\n",
    "        O.append(False)\n",
    "        contadorO = 0\n",
    "        contadorX = 0\n",
    "        continue\n",
    "\n",
    "#Columna\n",
    "\n",
    "game_t= np.transpose(game)\n",
    "\n",
    "for v in game_t:\n",
    "    for i in v:\n",
    "        if i =='X':\n",
    "            contadorX +=1\n",
    "        else:\n",
    "            contadorO +=1\n",
    "    if contadorO==3:\n",
    "        X.append(True)\n",
    "        break\n",
    "    elif contadorX==3:\n",
    "        O.append(True)\n",
    "        break\n",
    "    else:\n",
    "        X.append(False)\n",
    "        O.append(False)\n",
    "        contadorO = 0\n",
    "        contadorX = 0\n",
    "        continue\n",
    "\n",
    "#Diagonal\n",
    "game_d= np.diag(game)\n",
    "\n",
    "for v in game_d:\n",
    "    if v =='X':\n",
    "            contadorX +=1\n",
    "    else:\n",
    "            contadorO +=1\n",
    "if contadorO==3:\n",
    "    X.append(True)\n",
    "elif contadorX==3:\n",
    "    O.append(True)\n",
    "else:\n",
    "    X.append(False)\n",
    "    O.append(False)\n",
    "    contadorO = 0\n",
    "    contadorX = 0\n",
    "#Diagonal 2\n",
    "\n",
    "game_d2= np.diag(np.fliplr(game))\n",
    "\n",
    "for v in game_d2:\n",
    "    if v =='X':\n",
    "            contadorX +=1\n",
    "    else:\n",
    "            contadorO +=1\n",
    "if contadorO==3:\n",
    "    X.append(True)\n",
    "elif contadorX==3:\n",
    "    O.append(True)\n",
    "else:\n",
    "    X.append(False)\n",
    "    O.append(False)\n",
    "    contadorO = 0\n",
    "    contadorX = 0\n",
    "\n",
    "if any([i==True for i in X])==True:\n",
    "    print('Han ganado las X')\n",
    "elif any([i==True for i in O])==True:\n",
    "    print('Han ganado las O')"
   ]
  },
  {
   "cell_type": "code",
   "execution_count": 134,
   "metadata": {},
   "outputs": [
    {
     "name": "stdout",
     "output_type": "stream",
     "text": [
      "Quien es el jugador 1?\tJuan\n",
      "Quien es el jugador 2?\tFernando\n",
      "Empieza Fernando\n",
      "\n",
      "Tablero:\n",
      " [['' '' '']\n",
      " ['' '' '']\n",
      " ['' '' '']]\n",
      "None\n",
      "Turno X\n",
      "En que fila quieres poner?\t1\n",
      "En que columna quieres poner?\t1\n",
      "\n",
      "Tablero:\n",
      " [['X' '' '']\n",
      " ['' '' '']\n",
      " ['' '' '']]\n",
      "None\n",
      "Turno O\n",
      "En que fila quieres poner?\t2\n",
      "En que columna quieres poner?\t2\n",
      "\n",
      "Tablero:\n",
      " [['X' '' '']\n",
      " ['' 'O' '']\n",
      " ['' '' '']]\n",
      "None\n",
      "Turno X\n",
      "En que fila quieres poner?\t3\n",
      "En que columna quieres poner?\t3\n",
      "\n",
      "Tablero:\n",
      " [['X' '' '']\n",
      " ['' 'O' '']\n",
      " ['' '' 'X']]\n",
      "None\n",
      "Turno O\n",
      "En que fila quieres poner?\t1\n",
      "En que columna quieres poner?\t3\n",
      "\n",
      "Tablero:\n",
      " [['X' '' 'O']\n",
      " ['' 'O' '']\n",
      " ['' '' 'X']]\n",
      "None\n",
      "Turno X\n",
      "En que fila quieres poner?\t3\n",
      "En que columna quieres poner?\t1\n",
      "\n",
      "Tablero:\n",
      " [['X' '' 'O']\n",
      " ['' 'O' '']\n",
      " ['X' '' 'X']]\n",
      "None\n",
      "Turno O\n",
      "En que fila quieres poner?\t2\n",
      "En que columna quieres poner?\t1\n",
      "\n",
      "Tablero:\n",
      " [['X' '' 'O']\n",
      " ['O' 'O' '']\n",
      " ['X' '' 'X']]\n",
      "None\n",
      "Turno X\n",
      "En que fila quieres poner?\t2\n",
      "En que columna quieres poner?\t3\n",
      "\n",
      "Tablero:\n",
      " [['X' '' 'O']\n",
      " ['O' 'O' 'X']\n",
      " ['X' '' 'X']]\n",
      "None\n",
      "Turno O\n",
      "En que fila quieres poner?\t3\n",
      "En que columna quieres poner?\t2\n",
      "\n",
      "Tablero:\n",
      " [['X' '' 'O']\n",
      " ['O' 'O' 'X']\n",
      " ['X' 'O' 'X']]\n",
      "None\n",
      "Turno X\n",
      "En que fila quieres poner?\t1\n",
      "En que columna quieres poner?\t2\n",
      "\n",
      "Tablero:\n",
      " [['X' 'X' 'O']\n",
      " ['O' 'O' 'X']\n",
      " ['X' 'O' 'X']]\n",
      "Empate\n",
      "Fin de la partida\n",
      "None\n"
     ]
    }
   ],
   "source": [
    "#Juego de 3 en ralla\n",
    "\n",
    "import numpy as np\n",
    "import random\n",
    "game =[['','',''],['','',''],['','','']]\n",
    "jugador_1=input('Quien es el jugador 1?\\t')\n",
    "jugador_2=input('Quien es el jugador 2?\\t')\n",
    "empieza = random.sample([jugador_1,jugador_2],1)[0]\n",
    "print(f'Empieza {empieza}')\n",
    "print('\\nTablero:\\n',np.array(game))\n",
    "X= []\n",
    "O= []\n",
    "\n",
    "\n",
    "# ver si alguien va ganando\n",
    "def comprobar():\n",
    "    #Filas\n",
    "    any([X.append(all([i=='X'for i in v]))for v in game])\n",
    "    any([O.append(all([i=='O'for i in v]))for v in game])\n",
    "    #Columnas\n",
    "    game_t= np.transpose(game)\n",
    "    any([X.append(all([i=='X'for i in v]))for v in game_t])\n",
    "    any([O.append(all([i=='O'for i in v]))for v in game_t])\n",
    "    #Diagonal\n",
    "    game_d= np.diag(game)\n",
    "\n",
    "    X.append(all([ i=='X' for i in game_d]))\n",
    "    O.append(all([ i=='O' for i in game_d]))\n",
    "\n",
    "    #Diagonal 2\n",
    "    game_d2 = np.diag(np.fliplr(game))\n",
    "\n",
    "    X.append(all([ i=='X' for i in game_d2]))\n",
    "    O.append(all([ i=='O' for i in game_d2]))\n",
    "\n",
    "    if any([i==True for i in X])==True:\n",
    "        print('Han ganado las X')\n",
    "        return True\n",
    "    elif any([i==True for i in O])==True:\n",
    "        print('Han ganado las O')\n",
    "        return True\n",
    "    #Empate\n",
    "    Z=[]\n",
    "    for v in game:\n",
    "        for i in v:\n",
    "            if (i=='X' or i=='O'):\n",
    "                Z.append(True)\n",
    "            else:\n",
    "                Z.append(False)\n",
    "    if all([i==True for i in Z]):\n",
    "        print('Empate')\n",
    "        return True\n",
    "#Aqui se ponen las fichas\n",
    "def poner():\n",
    "    i=1\n",
    "    while comprobar()==None:\n",
    "        print(comprobar())\n",
    "        #Saber de quien es el Turno\n",
    "        i+=1\n",
    "        empieza = 'X'\n",
    "        segundo = 'O'\n",
    "        if i%2==0:\n",
    "            print(f'Turno {empieza}')\n",
    "        else:\n",
    "            print(f'Turno {segundo}')\n",
    "        fila = int(input('En que fila quieres poner?\\t'))-1\n",
    "        columna = int(input('En que columna quieres poner?\\t'))-1\n",
    "        if i%2==0:\n",
    "            game[fila][columna]= empieza\n",
    "        else:\n",
    "            game[fila][columna]= segundo\n",
    "        print('\\nTablero:\\n',np.array(game))\n",
    "        if comprobar()!=None:\n",
    "            print('Fin de la partida')\n",
    "            break\n",
    "print(poner())"
   ]
  },
  {
   "cell_type": "code",
   "execution_count": null,
   "metadata": {},
   "outputs": [],
   "source": []
  }
 ],
 "metadata": {
  "kernelspec": {
   "display_name": "Python 3",
   "language": "python",
   "name": "python3"
  },
  "language_info": {
   "codemirror_mode": {
    "name": "ipython",
    "version": 3
   },
   "file_extension": ".py",
   "mimetype": "text/x-python",
   "name": "python",
   "nbconvert_exporter": "python",
   "pygments_lexer": "ipython3",
   "version": "3.8.3"
  }
 },
 "nbformat": 4,
 "nbformat_minor": 4
}
