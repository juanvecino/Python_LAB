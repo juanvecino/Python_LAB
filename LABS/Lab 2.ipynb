{
 "cells": [
  {
   "cell_type": "markdown",
   "metadata": {},
   "source": [
    "# Lab2: Variables, Statements, Expressions and Operators\n",
    "\n",
    "#### Student: Juan Vecino\n",
    "#### Group: B\n",
    "#### Date: 15/09/2020"
   ]
  },
  {
   "cell_type": "markdown",
   "metadata": {},
   "source": [
    "### Lab 2.2 User Input in Python"
   ]
  },
  {
   "cell_type": "code",
   "execution_count": 2,
   "metadata": {},
   "outputs": [
    {
     "name": "stdout",
     "output_type": "stream",
     "text": [
      "Write your name and hit ENTER:\n",
      "Juan Vecino\n"
     ]
    }
   ],
   "source": [
    "name = input(\"Write your name and hit ENTER:\\n\")"
   ]
  },
  {
   "cell_type": "code",
   "execution_count": 3,
   "metadata": {},
   "outputs": [
    {
     "name": "stdout",
     "output_type": "stream",
     "text": [
      "The name you enter was: Juan Vecino\n"
     ]
    }
   ],
   "source": [
    "print(\"The name you enter was:\", name)"
   ]
  },
  {
   "cell_type": "markdown",
   "metadata": {},
   "source": [
    "### Lab 2.3 Even or Odd"
   ]
  },
  {
   "cell_type": "code",
   "execution_count": 4,
   "metadata": {},
   "outputs": [
    {
     "name": "stdout",
     "output_type": "stream",
     "text": [
      "Que número escoges?2\n",
      "Ha escogido el número 2\n",
      "<class 'str'>\n"
     ]
    }
   ],
   "source": [
    "number = input(\"Que número escoges?\")\n",
    "print(\"Ha escogido el número\", number)\n",
    "print(type(number))"
   ]
  },
  {
   "cell_type": "code",
   "execution_count": 5,
   "metadata": {},
   "outputs": [
    {
     "name": "stdout",
     "output_type": "stream",
     "text": [
      "<class 'int'>\n"
     ]
    }
   ],
   "source": [
    "number_int = int(number)\n",
    "print(type(number_int))"
   ]
  },
  {
   "cell_type": "code",
   "execution_count": 6,
   "metadata": {},
   "outputs": [
    {
     "name": "stdout",
     "output_type": "stream",
     "text": [
      "The number you have choosen is Even\n"
     ]
    }
   ],
   "source": [
    "# Verificar si es par o impar\n",
    "\n",
    "modulus = number_int%2\n",
    "\n",
    "if modulus == 0:\n",
    "    print(\"The number you have choosen is Even\")\n",
    "else:\n",
    "    print(\"The number you have choosen is Odd\")"
   ]
  },
  {
   "cell_type": "markdown",
   "metadata": {},
   "source": [
    "### Lab 2.4 Calculate circle parameters"
   ]
  },
  {
   "cell_type": "markdown",
   "metadata": {},
   "source": [
    "Área del círculo = $$ Área = π *r^2$$\n",
    "Perímetro del círculo = $$ Perímetro = 2π* r$$"
   ]
  },
  {
   "cell_type": "code",
   "execution_count": 1,
   "metadata": {},
   "outputs": [
    {
     "name": "stdout",
     "output_type": "stream",
     "text": [
      "The área of the circle is: 78.53981633974483 and the perimiter: 31.41592653589793\n"
     ]
    }
   ],
   "source": [
    "import numpy as np\n",
    "radius = 5\n",
    "Area = np.pi * radius**2\n",
    "Perimeter = 2* np.pi * radius\n",
    "print(\"The área of the circle is: %a and the perimiter: %a\" % (Area,Perimeter))"
   ]
  },
  {
   "cell_type": "markdown",
   "metadata": {},
   "source": [
    "### Lab 2.5 Print circle with parameters"
   ]
  },
  {
   "cell_type": "markdown",
   "metadata": {},
   "source": [
    "#### Print circle with parameters\n",
    "We will plot a circle with this equation: \n",
    "$$ x^2 + y^2= radius^2 $$"
   ]
  },
  {
   "cell_type": "code",
   "execution_count": 8,
   "metadata": {},
   "outputs": [],
   "source": [
    "import matplotlib.pyplot as plt\n",
    "import numpy as np\n",
    "radius = 5\n",
    "x = np.linspace(-radius, radius, 100)\n",
    "y1 = np.sqrt(radius**2 - x**2)\n",
    "y2 = - np.sqrt(radius**2 - x**2)"
   ]
  },
  {
   "cell_type": "code",
   "execution_count": 9,
   "metadata": {},
   "outputs": [
    {
     "name": "stderr",
     "output_type": "stream",
     "text": [
      "<ipython-input-9-22a850548b8c>:1: UserWarning: In Matplotlib 3.3 individual lines on a stem plot will be added as a LineCollection instead of individual lines. This significantly improves the performance of a stem plot. To remove this warning and switch to the new behaviour, set the \"use_line_collection\" keyword argument to True.\n",
      "  plt.stem(x,y1)\n"
     ]
    },
    {
     "data": {
      "text/plain": [
       "Text(0, 0.5, 'Eje y')"
      ]
     },
     "execution_count": 9,
     "metadata": {},
     "output_type": "execute_result"
    },
    {
     "data": {
      "image/png": "[encoded data removed]",
      "text/plain": [
       "<Figure size 432x288 with 1 Axes>"
      ]
     },
     "metadata": {
      "needs_background": "light"
     },
     "output_type": "display_data"
    }
   ],
   "source": [
    "plt.stem(x,y1)\n",
    "plt.xlabel(\"Eje x\")\n",
    "plt.ylabel(\"Eje y\")"
   ]
  },
  {
   "cell_type": "code",
   "execution_count": 10,
   "metadata": {},
   "outputs": [
    {
     "name": "stderr",
     "output_type": "stream",
     "text": [
      "<ipython-input-10-360c1c5204d9>:1: UserWarning: In Matplotlib 3.3 individual lines on a stem plot will be added as a LineCollection instead of individual lines. This significantly improves the performance of a stem plot. To remove this warning and switch to the new behaviour, set the \"use_line_collection\" keyword argument to True.\n",
      "  plt.stem(x,y2)\n"
     ]
    },
    {
     "data": {
      "text/plain": [
       "Text(0, 0.5, 'Eje y')"
      ]
     },
     "execution_count": 10,
     "metadata": {},
     "output_type": "execute_result"
    },
    {
     "data": {
      "image/png": "[encoded data removed]",
      "text/plain": [
       "<Figure size 432x288 with 1 Axes>"
      ]
     },
     "metadata": {
      "needs_background": "light"
     },
     "output_type": "display_data"
    }
   ],
   "source": [
    "plt.stem(x,y2)\n",
    "plt.xlabel(\"Eje x\")\n",
    "plt.ylabel(\"Eje y\")"
   ]
  },
  {
   "cell_type": "code",
   "execution_count": 11,
   "metadata": {},
   "outputs": [
    {
     "name": "stderr",
     "output_type": "stream",
     "text": [
      "<ipython-input-11-6470cb00a8e7>:4: UserWarning: In Matplotlib 3.3 individual lines on a stem plot will be added as a LineCollection instead of individual lines. This significantly improves the performance of a stem plot. To remove this warning and switch to the new behaviour, set the \"use_line_collection\" keyword argument to True.\n",
      "  plt.stem(x, y1)\n",
      "<ipython-input-11-6470cb00a8e7>:5: UserWarning: In Matplotlib 3.3 individual lines on a stem plot will be added as a LineCollection instead of individual lines. This significantly improves the performance of a stem plot. To remove this warning and switch to the new behaviour, set the \"use_line_collection\" keyword argument to True.\n",
      "  plt.stem(x, y2)\n"
     ]
    },
    {
     "data": {
      "text/plain": [
       "Text(0, 0.5, 'Eje y')"
      ]
     },
     "execution_count": 11,
     "metadata": {},
     "output_type": "execute_result"
    },
    {
     "data": {
      "image/png": "[encoded data removed]",
      "text/plain": [
       "<Figure size 432x288 with 1 Axes>"
      ]
     },
     "metadata": {
      "needs_background": "light"
     },
     "output_type": "display_data"
    }
   ],
   "source": [
    "Area = np.pi * radius**2\n",
    "Perimeter = 2* np.pi * radius\n",
    "plt.title(\"Circle with area %a and perimiter %a\" % (Area, Perimeter))\n",
    "plt.stem(x, y1)\n",
    "plt.stem(x, y2)\n",
    "plt.xlabel(\"Eje x\")\n",
    "plt.ylabel(\"Eje y\")"
   ]
  },
  {
   "cell_type": "markdown",
   "metadata": {},
   "source": [
    "### Lab 2.5. Print circle with parameters"
   ]
  },
  {
   "cell_type": "code",
   "execution_count": 16,
   "metadata": {},
   "outputs": [
    {
     "name": "stderr",
     "output_type": "stream",
     "text": [
      "<ipython-input-16-39b0c7fb488e>:2: UserWarning: In Matplotlib 3.3 individual lines on a stem plot will be added as a LineCollection instead of individual lines. This significantly improves the performance of a stem plot. To remove this warning and switch to the new behaviour, set the \"use_line_collection\" keyword argument to True.\n",
      "  plt.stem(x, y1)\n",
      "<ipython-input-16-39b0c7fb488e>:3: UserWarning: In Matplotlib 3.3 individual lines on a stem plot will be added as a LineCollection instead of individual lines. This significantly improves the performance of a stem plot. To remove this warning and switch to the new behaviour, set the \"use_line_collection\" keyword argument to True.\n",
      "  plt.stem(x, y2)\n"
     ]
    },
    {
     "data": {
      "text/plain": [
       "Text(0, 0.5, 'Eje y')"
      ]
     },
     "execution_count": 16,
     "metadata": {},
     "output_type": "execute_result"
    },
    {
     "data": {
      "image/png": "[encoded data removed]",
      "text/plain": [
       "<Figure size 432x288 with 1 Axes>"
      ]
     },
     "metadata": {
      "needs_background": "light"
     },
     "output_type": "display_data"
    }
   ],
   "source": [
    "plt.title(\"Area = {0:7.4f} , Perimetro = {1:7.4f}\".format(Area, Perimeter))\n",
    "plt.stem(x, y1)\n",
    "plt.stem(x, y2)\n",
    "plt.xlabel(\"Eje x\")\n",
    "plt.ylabel(\"Eje y\")"
   ]
  },
  {
   "cell_type": "markdown",
   "metadata": {},
   "source": [
    "### Lab 2.6 Get the standard deviation"
   ]
  },
  {
   "cell_type": "markdown",
   "metadata": {},
   "source": [
    "### Get the standard deviation\n",
    "\n",
    "We will requeste the user four values and compute the standar deviation as:\n",
    "$$ \\sigma = \\sqrt{\\frac{\\sum_{l = 1}^N(x_{i}-\\mu)^2}{N}}$$\n",
    "\n",
    "Wherre $N$ is the number of values, $x_{i}$ are single value provided by the user and $\\mu$ is the average off all values."
   ]
  },
  {
   "cell_type": "code",
   "execution_count": 8,
   "metadata": {},
   "outputs": [
    {
     "name": "stdout",
     "output_type": "stream",
     "text": [
      "Dime un valor: 2\n",
      "Dime un valor: 2\n",
      "Dime un valor: 4\n",
      "Dime un valor: 4\n",
      "Tus valores son [2, 2, 4, 4]\n",
      "3.0\n",
      "1.0\n"
     ]
    }
   ],
   "source": [
    "import numpy as np\n",
    "\n",
    "preguntas = 0\n",
    "valores =[]\n",
    "\n",
    "while preguntas < 4:\n",
    "    valores.append(int(input(\"Dime un valor: \")))\n",
    "    preguntas += 1\n",
    "\n",
    "print(\"Tus valores son {}\".format(valores))\n",
    "\n",
    "sumatorio = 0\n",
    "print(np.mean(valores))\n",
    "\n",
    "for valor in valores:\n",
    "    sumatorio += (valor - np.mean(valores))**2 \n",
    "\n",
    "std = np.sqrt(sumatorio/(len(valores)))\n",
    "print(std)"
   ]
  },
  {
   "cell_type": "markdown",
   "metadata": {},
   "source": [
    "### Comrobación de mi método"
   ]
  },
  {
   "cell_type": "code",
   "execution_count": 60,
   "metadata": {},
   "outputs": [
    {
     "name": "stdout",
     "output_type": "stream",
     "text": [
      "Enhorabuena lo tines bien!\n"
     ]
    }
   ],
   "source": [
    "if std == np.std(valores):\n",
    "    print(\"Enhorabuena lo tines bien!\")\n",
    "else:\n",
    "    print(\"Repitelo otra vez\")"
   ]
  }
 ],
 "metadata": {
  "kernelspec": {
   "display_name": "Python 3",
   "language": "python",
   "name": "python3"
  },
  "language_info": {
   "codemirror_mode": {
    "name": "ipython",
    "version": 3
   },
   "file_extension": ".py",
   "mimetype": "text/x-python",
   "name": "python",
   "nbconvert_exporter": "python",
   "pygments_lexer": "ipython3",
   "version": "3.8.3"
  }
 },
 "nbformat": 4,
 "nbformat_minor": 4
}
