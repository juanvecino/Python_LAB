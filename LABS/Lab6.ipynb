{
 "cells": [
  {
   "cell_type": "markdown",
   "metadata": {},
   "source": [
    "# Lab6: Functions and Exceptions\n",
    "### Student: Juan C. Vecino\n",
    "### Group: B\n",
    "### Date: 27/10/2020"
   ]
  },
  {
   "cell_type": "markdown",
   "metadata": {},
   "source": [
    "### Lab 6.2. Drawing a game in a Tic Tac Toe board"
   ]
  },
  {
   "cell_type": "code",
   "execution_count": 1,
   "metadata": {},
   "outputs": [],
   "source": [
    "def drawboard(tablero):\n",
    "    filas= len(tablero)\n",
    "    columnas = len(tablero[0])\n",
    "    for a in range(filas):\n",
    "        separador='\\n-------------------------'\n",
    "        print(separador)\n",
    "        for b in range(columnas):\n",
    "            print(\"{:>4}\".format(tablero[a][b]),end='\\t|')\n",
    "            \n",
    "    print(separador)\n",
    "            \n",
    "\n",
    "game=[['X','O',''],['O','','X'],['O','','X']]\n",
    "drawboard(game)"
   ]
  },
  {
   "cell_type": "markdown",
   "metadata": {},
   "source": [
    "### Lab 6.3. Checking Tic Tac Toe winner"
   ]
  },
  {
   "cell_type": "code",
   "execution_count": 2,
   "metadata": {},
   "outputs": [
    {
     "data": {
      "text/plain": [
       "''"
      ]
     },
     "execution_count": 2,
     "metadata": {},
     "output_type": "execute_result"
    }
   ],
   "source": [
    "def gameWinner(game):\n",
    "    import numpy as np\n",
    "    X= []\n",
    "    O= []\n",
    "    Z= []\n",
    "    game_t= np.transpose(game)\n",
    "    game_d= np.diag(game)\n",
    "    game_d2 = np.diag(np.fliplr(game))\n",
    "    matriz = [game,game_t]\n",
    "    matriz2=[game_d,game_d2]\n",
    "\n",
    "    for tipo in matriz:\n",
    "        [X.append(all([i=='X' for i in v]))for v in tipo]\n",
    "        [O.append(all([i=='O'for i in v]))for v in tipo]\n",
    "    for tipo2 in matriz2:\n",
    "        X.append(all([ i=='X' for i in tipo2]))\n",
    "        O.append(all([ i=='O' for i in tipo2]))\n",
    "    \n",
    "    if any(X)==True:\n",
    "        return 'X'\n",
    "    elif any(O)==True:\n",
    "        return 'O'\n",
    "    \n",
    "    for v in game:\n",
    "        for i in v:\n",
    "            if (i=='X' or i=='O'):\n",
    "                Z.append(True)\n",
    "            else:\n",
    "                Z.append(False)\n",
    "    if all([i==True for i in Z]):\n",
    "        return 'Empate'\n",
    "\n",
    "    else:\n",
    "        return ''\n",
    "\n",
    "gameWinner(game)"
   ]
  },
  {
   "cell_type": "markdown",
   "metadata": {},
   "source": [
    "### Lab 6.4. Draw and check"
   ]
  },
  {
   "cell_type": "code",
   "execution_count": 3,
   "metadata": {},
   "outputs": [],
   "source": [
    "def draw_and_check(game):\n",
    "    print(drawboard(game))\n",
    "    return gameWinner(game)"
   ]
  },
  {
   "cell_type": "code",
   "execution_count": 4,
   "metadata": {},
   "outputs": [
    {
     "name": "stdout",
     "output_type": "stream",
     "text": [
      "\n",
      "-------------------------\n",
      "   X\t|   O\t|    \t|\n",
      "-------------------------\n",
      "   O\t|    \t|   X\t|\n",
      "-------------------------\n",
      "   O\t|    \t|   X\t|\n",
      "-------------------------\n",
      "None\n",
      "\n"
     ]
    }
   ],
   "source": [
    "print(draw_and_check(game))"
   ]
  },
  {
   "cell_type": "markdown",
   "metadata": {},
   "source": [
    "### Lab 6.5. Ask user for a movement"
   ]
  },
  {
   "cell_type": "code",
   "execution_count": 12,
   "metadata": {},
   "outputs": [],
   "source": [
    "def getMovement(user,game):\n",
    "    print('Donde quieres poner la sigiente ficha?')\n",
    "    while True:\n",
    "        fila = input('Fila:\\n')\n",
    "        if fila=='salir':\n",
    "            return True\n",
    "        else:\n",
    "            fila = int(fila)-1\n",
    "        columna = int(input('Columna:\\n'))-1\n",
    "        if game[fila][columna]== '':\n",
    "            game[fila][columna]=user\n",
    "            break\n",
    "        else:\n",
    "            print('the position is busy')\n",
    "            continue"
   ]
  },
  {
   "cell_type": "markdown",
   "metadata": {},
   "source": [
    "### Lab 6.6. Update board with new movement"
   ]
  },
  {
   "cell_type": "code",
   "execution_count": 6,
   "metadata": {},
   "outputs": [],
   "source": [
    "def updateBoard(user,x,y,game):\n",
    "    game[x][y]=user\n",
    "    draw_and_check(game)"
   ]
  },
  {
   "cell_type": "markdown",
   "metadata": {},
   "source": [
    "### Lab 6.7. Start new board"
   ]
  },
  {
   "cell_type": "code",
   "execution_count": 7,
   "metadata": {},
   "outputs": [],
   "source": [
    "def newGame():\n",
    "    return [['','',''],['','',''],['','','']]"
   ]
  },
  {
   "cell_type": "markdown",
   "metadata": {},
   "source": [
    "### Lab 6.8. Game over"
   ]
  },
  {
   "cell_type": "code",
   "execution_count": 8,
   "metadata": {},
   "outputs": [],
   "source": [
    "def gameOver(winner,game):\n",
    "    if winner == 'X' or winner=='O' or winner=='Empate':\n",
    "        nuevo=input('Quieres volver a jugar?\\n')\n",
    "        if nuevo == 'Si':\n",
    "            return False\n",
    "        else:\n",
    "            return True\n",
    "    else:\n",
    "        drawboard(game)"
   ]
  },
  {
   "cell_type": "markdown",
   "metadata": {},
   "source": [
    "### Lab 6.9. Code the game"
   ]
  },
  {
   "cell_type": "code",
   "execution_count": 13,
   "metadata": {
    "scrolled": false
   },
   "outputs": [
    {
     "name": "stdout",
     "output_type": "stream",
     "text": [
      "Bienvenido AL JUEGO DEL AÑO\n",
      "5\n",
      "4\n",
      "3\n",
      "2\n",
      "1\n",
      "A JUGAR!\n",
      "Te toca a ti X!\n",
      "\n",
      "-------------------------\n",
      "    \t|    \t|    \t|\n",
      "-------------------------\n",
      "    \t|    \t|    \t|\n",
      "-------------------------\n",
      "    \t|    \t|    \t|\n",
      "-------------------------\n",
      "Donde quieres poner la sigiente ficha?\n",
      "Fila:\n",
      "1\n",
      "Columna:\n",
      "1\n",
      "Te toca a ti O!\n",
      "\n",
      "-------------------------\n",
      "   X\t|    \t|    \t|\n",
      "-------------------------\n",
      "    \t|    \t|    \t|\n",
      "-------------------------\n",
      "    \t|    \t|    \t|\n",
      "-------------------------\n",
      "Donde quieres poner la sigiente ficha?\n",
      "Fila:\n",
      "1\n",
      "Columna:\n",
      "2\n",
      "Te toca a ti X!\n",
      "\n",
      "-------------------------\n",
      "   X\t|   O\t|    \t|\n",
      "-------------------------\n",
      "    \t|    \t|    \t|\n",
      "-------------------------\n",
      "    \t|    \t|    \t|\n",
      "-------------------------\n",
      "Donde quieres poner la sigiente ficha?\n",
      "Fila:\n",
      "2\n",
      "Columna:\n",
      "2\n",
      "Te toca a ti O!\n",
      "\n",
      "-------------------------\n",
      "   X\t|   O\t|    \t|\n",
      "-------------------------\n",
      "    \t|   X\t|    \t|\n",
      "-------------------------\n",
      "    \t|    \t|    \t|\n",
      "-------------------------\n",
      "Donde quieres poner la sigiente ficha?\n",
      "Fila:\n",
      "2\n",
      "Columna:\n",
      "3\n",
      "Te toca a ti X!\n",
      "\n",
      "-------------------------\n",
      "   X\t|   O\t|    \t|\n",
      "-------------------------\n",
      "    \t|   X\t|   O\t|\n",
      "-------------------------\n",
      "    \t|    \t|    \t|\n",
      "-------------------------\n",
      "Donde quieres poner la sigiente ficha?\n",
      "Fila:\n",
      "3\n",
      "Columna:\n",
      "3\n",
      "Te toca a ti O!\n",
      "Quieres volver a jugar?\n",
      "no\n",
      "Muchas gracias por jugar\n",
      "©Copyright 2020\t\tJuan Vecino\n"
     ]
    }
   ],
   "source": [
    "import time\n",
    "game = newGame()\n",
    "i=0\n",
    "print('Bienvenido AL JUEGO DEL AÑO')\n",
    "for i in range(5,0,-1):\n",
    "    print(i)\n",
    "    time.sleep(1)\n",
    "print('A JUGAR!')\n",
    "brea = 0\n",
    "while True:\n",
    "    i+=1\n",
    "    if i%2==0:\n",
    "        user='X'\n",
    "    else:\n",
    "        user='O'\n",
    "    print(f'Te toca a ti {user}!')\n",
    "    comprueba = gameOver(gameWinner(game),game)\n",
    "    if comprueba == True or brea==1:\n",
    "        print('Muchas gracias por jugar\\n©Copyright 2020\\t\\tJuan Vecino')\n",
    "        break\n",
    "    elif comprueba == False:\n",
    "        game = newGame()\n",
    "        continue\n",
    "    else:\n",
    "        while True:\n",
    "            try :\n",
    "                salir = getMovement(user,game)\n",
    "                if salir == True:\n",
    "                    brea = 1\n",
    "                    break\n",
    "                break\n",
    "            except:\n",
    "                print('Me has pusto mal las coordenas')\n",
    "                continue"
   ]
  },
  {
   "cell_type": "code",
   "execution_count": null,
   "metadata": {},
   "outputs": [],
   "source": []
  }
 ],
 "metadata": {
  "kernelspec": {
   "display_name": "Python 3",
   "language": "python",
   "name": "python3"
  },
  "language_info": {
   "codemirror_mode": {
    "name": "ipython",
    "version": 3
   },
   "file_extension": ".py",
   "mimetype": "text/x-python",
   "name": "python",
   "nbconvert_exporter": "python",
   "pygments_lexer": "ipython3",
   "version": "3.8.3"
  }
 },
 "nbformat": 4,
 "nbformat_minor": 4
}
