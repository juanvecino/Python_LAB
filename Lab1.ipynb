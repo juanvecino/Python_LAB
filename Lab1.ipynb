{
 "cells": [
  {
   "cell_type": "markdown",
   "metadata": {},
   "source": [
    "# Lav1: Introduction to coding using PYTHON\n",
    "### Student: Juan Vecino\n",
    "### Group: Grupo B Turno 2\n",
    "### 11/09/2020"
   ]
  },
  {
   "cell_type": "markdown",
   "metadata": {},
   "source": [
    "## Exercise 1: One target different possibilities"
   ]
  },
  {
   "cell_type": "code",
   "execution_count": 1,
   "metadata": {},
   "outputs": [],
   "source": [
    "import numpy as np\n",
    "import math as mt\n",
    "value = 12"
   ]
  },
  {
   "cell_type": "code",
   "execution_count": 2,
   "metadata": {},
   "outputs": [
    {
     "data": {
      "text/plain": [
       "1728"
      ]
     },
     "execution_count": 2,
     "metadata": {},
     "output_type": "execute_result"
    }
   ],
   "source": [
    "cube1= value**3\n",
    "cube1"
   ]
  },
  {
   "cell_type": "code",
   "execution_count": 3,
   "metadata": {},
   "outputs": [
    {
     "data": {
      "text/plain": [
       "1728"
      ]
     },
     "execution_count": 3,
     "metadata": {},
     "output_type": "execute_result"
    }
   ],
   "source": [
    "cube2=value*value*value\n",
    "cube2"
   ]
  },
  {
   "cell_type": "code",
   "execution_count": 8,
   "metadata": {},
   "outputs": [
    {
     "data": {
      "text/plain": [
       "1728"
      ]
     },
     "execution_count": 8,
     "metadata": {},
     "output_type": "execute_result"
    }
   ],
   "source": [
    "cube3 = int(mt.pow(value,3))\n",
    "cube3"
   ]
  },
  {
   "cell_type": "code",
   "execution_count": 11,
   "metadata": {},
   "outputs": [
    {
     "data": {
      "text/plain": [
       "1728"
      ]
     },
     "execution_count": 11,
     "metadata": {},
     "output_type": "execute_result"
    }
   ],
   "source": [
    "cube4 = np.power(value,3)\n",
    "cube4"
   ]
  },
  {
   "cell_type": "markdown",
   "metadata": {},
   "source": [
    "## Exercise 2: First contact with loops"
   ]
  },
  {
   "cell_type": "code",
   "execution_count": 70,
   "metadata": {},
   "outputs": [
    {
     "name": "stdout",
     "output_type": "stream",
     "text": [
      "range(0, 10)\n",
      "0\n",
      "1\n",
      "2\n",
      "3\n",
      "4\n",
      "5\n",
      "6\n",
      "7\n",
      "8\n",
      "9\n"
     ]
    }
   ],
   "source": [
    "import time\n",
    "\n",
    "seconds= range(10) \n",
    "wait=1\n",
    "for i in seconds:\n",
    "    print(i)\n",
    "    time.sleep(wait)"
   ]
  },
  {
   "cell_type": "markdown",
   "metadata": {},
   "source": [
    "### Explicación:\n",
    "Este código primero importa la librería tiempo, lo que nos va a importar los segundos/días/meses/años.\n",
    "\n",
    "Depués se define la variable  \"segundos\" que es un rango de valores desde [0,10) (Sin estar el 10 dentro del paréntesis). Tambíen se define la variable \"espera\" que va a ser igual a 1.\n",
    "\n",
    "Posteriormente se pasa a hacer un loop que nos dice que por cada valor de segundos imprima un número, se espere 1 segundo y imprima el siguiente número hasta acabar con todo el rango de valores. "
   ]
  },
  {
   "cell_type": "markdown",
   "metadata": {},
   "source": [
    "## Exercise 3: Calculate a polynomic function"
   ]
  },
  {
   "cell_type": "code",
   "execution_count": 78,
   "metadata": {},
   "outputs": [
    {
     "data": {
      "text/plain": [
       "array([-5.        , -4.8989899 , -4.7979798 , -4.6969697 , -4.5959596 ,\n",
       "       -4.49494949, -4.39393939, -4.29292929, -4.19191919, -4.09090909,\n",
       "       -3.98989899, -3.88888889, -3.78787879, -3.68686869, -3.58585859,\n",
       "       -3.48484848, -3.38383838, -3.28282828, -3.18181818, -3.08080808,\n",
       "       -2.97979798, -2.87878788, -2.77777778, -2.67676768, -2.57575758,\n",
       "       -2.47474747, -2.37373737, -2.27272727, -2.17171717, -2.07070707,\n",
       "       -1.96969697, -1.86868687, -1.76767677, -1.66666667, -1.56565657,\n",
       "       -1.46464646, -1.36363636, -1.26262626, -1.16161616, -1.06060606,\n",
       "       -0.95959596, -0.85858586, -0.75757576, -0.65656566, -0.55555556,\n",
       "       -0.45454545, -0.35353535, -0.25252525, -0.15151515, -0.05050505,\n",
       "        0.05050505,  0.15151515,  0.25252525,  0.35353535,  0.45454545,\n",
       "        0.55555556,  0.65656566,  0.75757576,  0.85858586,  0.95959596,\n",
       "        1.06060606,  1.16161616,  1.26262626,  1.36363636,  1.46464646,\n",
       "        1.56565657,  1.66666667,  1.76767677,  1.86868687,  1.96969697,\n",
       "        2.07070707,  2.17171717,  2.27272727,  2.37373737,  2.47474747,\n",
       "        2.57575758,  2.67676768,  2.77777778,  2.87878788,  2.97979798,\n",
       "        3.08080808,  3.18181818,  3.28282828,  3.38383838,  3.48484848,\n",
       "        3.58585859,  3.68686869,  3.78787879,  3.88888889,  3.98989899,\n",
       "        4.09090909,  4.19191919,  4.29292929,  4.39393939,  4.49494949,\n",
       "        4.5959596 ,  4.6969697 ,  4.7979798 ,  4.8989899 ,  5.        ])"
      ]
     },
     "execution_count": 78,
     "metadata": {},
     "output_type": "execute_result"
    }
   ],
   "source": [
    "X = np.linspace(-5,5,100)\n",
    "X"
   ]
  },
  {
   "cell_type": "code",
   "execution_count": 79,
   "metadata": {},
   "outputs": [
    {
     "name": "stdout",
     "output_type": "stream",
     "text": [
      "22.825424421026653\n",
      "21.87532290457873\n",
      "20.945612887857454\n",
      "20.036294550667755\n",
      "19.147368199410387\n",
      "18.278834295152603\n",
      "17.4306934876723\n",
      "16.602946656836206\n",
      "15.795594963012745\n",
      "15.0086399086545\n",
      "14.242083413741504\n",
      "13.495927908493861\n",
      "12.770176447690732\n",
      "12.06483285214179\n",
      "11.3799018844402\n",
      "10.715389468210393\n",
      "10.071302962824657\n",
      "9.447651509241538\n",
      "8.844446467552185\n",
      "8.261701973477635\n",
      "7.699435650099772\n",
      "7.157669523461461\n",
      "6.63643120765268\n",
      "6.13575544847497\n",
      "5.655686147383436\n",
      "5.196279032853064\n",
      "4.757605209740746\n",
      "4.339755905529941\n",
      "3.9428488543230285\n",
      "3.5670369248506737\n",
      "3.2125198147565444\n",
      "2.8795598939320786\n",
      "2.5685035377740415\n",
      "2.2798093920759097\n",
      "2.0140845401974135\n",
      "1.772127511046062\n",
      "1.5549713609381646\n",
      "1.36390687578687\n",
      "1.2004406851919607\n",
      "1.066107793116274\n",
      "0.9620429579695005\n",
      "0.8883014636635651\n",
      "0.843173742402832\n",
      "0.8229885367698734\n",
      "0.8227262756319079\n",
      "0.8371619356791724\n",
      "0.8619085184078479\n",
      "0.893983754200869\n",
      "0.9319283217689761\n",
      "0.9756656136862026\n",
      "1.02625101377675\n",
      "1.0855769518888605\n",
      "1.1560553728431853\n",
      "1.2402950542994704\n",
      "1.3408056219550997\n",
      "1.45976887343407\n",
      "1.598907148912167\n",
      "1.7594518438671236\n",
      "1.9421890039000347\n",
      "2.1475468168430547\n",
      "2.375693183572022\n",
      "2.626623039595313\n",
      "2.9002267838606417\n",
      "3.1963390881907787\n",
      "3.5147712009125014\n",
      "3.855330910167036\n",
      "4.217833976911625\n",
      "4.602110008141612\n",
      "5.0080048850870105\n",
      "5.43538116447439\n",
      "5.8841173627292696\n",
      "6.3541066856630755\n",
      "6.845255538927004\n",
      "7.3574820105340955\n",
      "7.890714427965367\n",
      "8.444890039054087\n",
      "9.019953834783703\n",
      "9.615857514780005\n",
      "10.232558587198112\n",
      "10.870019590512063\n",
      "11.5282074233266\n",
      "12.207092768482715\n",
      "12.906649598667864\n",
      "13.626854752026357\n",
      "14.3676875676469\n",
      "15.129129572146798\n",
      "15.911164209808382\n",
      "16.713776609827022\n",
      "17.536953385193396\n",
      "18.38068245856429\n",
      "19.24495291118653\n",
      "20.12975485154122\n",
      "21.03507930088605\n",
      "21.960918093303995\n",
      "22.907263788228644\n",
      "23.874109593722903\n",
      "24.861449299044025\n",
      "25.86927721524519\n",
      "26.8975881227468\n",
      "27.94637722496424\n"
     ]
    }
   ],
   "source": [
    "for i in X:\n",
    "    Y = mt.sqrt(mt.pow(i,4)+mt.pow(i,3)+mt.pow(i,2)+mt.pow(i,1)+1)\n",
    "    print(Y)"
   ]
  },
  {
   "cell_type": "markdown",
   "metadata": {},
   "source": [
    "### Explanation\n",
    "Aqui lo que se ha hecho es poner un loop que va a cogernos de nuevo cada valor de \"X\" y nos va a ejecutar la función, para posteriormente mostrarnos sus 10 resultados para cada uno de los diferentes valores de \"X\" (ente -5,5)."
   ]
  },
  {
   "cell_type": "markdown",
   "metadata": {},
   "source": [
    "# Exercise 4: Plot a polynomic function\n",
    "The function to be plot is this:\n",
    "$$\\sqrt{x^4+x^3+x^2+x+1}$$"
   ]
  },
  {
   "cell_type": "code",
   "execution_count": 112,
   "metadata": {},
   "outputs": [
    {
     "data": {
      "text/plain": [
       "<matplotlib.legend.Legend at 0x7fe900c23cd0>"
      ]
     },
     "execution_count": 112,
     "metadata": {},
     "output_type": "execute_result"
    },
    {
     "data": {
      "image/png": "[encoded data removed]",
      "text/plain": [
       "<Figure size 432x288 with 1 Axes>"
      ]
     },
     "metadata": {
      "needs_background": "light"
     },
     "output_type": "display_data"
    }
   ],
   "source": [
    "import matplotlib.pyplot as plt\n",
    "\n",
    "y = []\n",
    "for i in X:\n",
    "    Y = np.sqrt(np.power(i,4)+np.power(i,3)+np.power(i,2)+np.power(i,1)+1)\n",
    "    y.append(Y)\n",
    "plt.plot(X,y, label= r'$g(x) = \\sqrt{x^4+x^3+x^2+x+1}$')\n",
    "plt.xlabel('Eje x')\n",
    "plt.ylabel('Eje y')\n",
    "plt.title('Función')\n",
    "plt.legend()"
   ]
  },
  {
   "cell_type": "markdown",
   "metadata": {},
   "source": [
    "## Exercise 5: Update existing values"
   ]
  },
  {
   "cell_type": "markdown",
   "metadata": {},
   "source": [
    "### Explanation\n",
    "\n",
    "Lo que sucedia antes es que había muy pocos puntos entonces al trazar la recta entre estos, había mucha diferencia de pendiente lo que hacía que fuese muy poco preciso el gráfico de la función, sin embargo al añadir 90 puntos más ahora el gráfico de la función es mucho más suave y no se notael cambio de pendiente entre puntos lo que hace mucho más legible el grafico."
   ]
  },
  {
   "cell_type": "markdown",
   "metadata": {},
   "source": [
    "## Excersice 6: Plot two functions\n",
    "The functions to be plot are this:\n",
    "$$g(x) = \\sqrt{x^4+x^3+x^2+x+1}$$\n",
    "$$f(x) = \\frac{\\log{x^4 + x^3 + x^2 + x + 1}}{\\log(x^4)}$$"
   ]
  },
  {
   "cell_type": "code",
   "execution_count": 111,
   "metadata": {},
   "outputs": [
    {
     "data": {
      "text/plain": [
       "<matplotlib.legend.Legend at 0x7fe900718fd0>"
      ]
     },
     "execution_count": 111,
     "metadata": {},
     "output_type": "execute_result"
    },
    {
     "data": {
      "image/png": "[encoded data removed]",
      "text/plain": [
       "<Figure size 432x288 with 1 Axes>"
      ]
     },
     "metadata": {
      "needs_background": "light"
     },
     "output_type": "display_data"
    }
   ],
   "source": [
    "#Gráfia 1\n",
    "plt.plot(X,y, 'r', label = r'$g(x) = \\sqrt{x^4+x^3+x^2+x+1}$')\n",
    "plt.xlabel('Eje x')\n",
    "plt.ylabel('Eje y')\n",
    "plt.title('Funciones Juntas')\n",
    "#Gráfica 2\n",
    "y2 = []\n",
    "for i in X:\n",
    "    funcion2= (mt.log((mt.pow(i ,4 )+mt.pow(i,3)+mt.pow(i,2)+mt.pow(i,1)+1), 10))/(mt.log(mt.pow(i,4), 10))\n",
    "    y2.append(funcion2)\n",
    "plt.plot(X,y2, 'g', label= r'$f(x) = \\frac{\\log{x^4 + x^3 + x^2 + x + 1}}{\\log(x^4)}$')\n",
    "plt.legend()"
   ]
  }
 ],
 "metadata": {
  "kernelspec": {
   "display_name": "Python 3",
   "language": "python",
   "name": "python3"
  },
  "language_info": {
   "codemirror_mode": {
    "name": "ipython",
    "version": 3
   },
   "file_extension": ".py",
   "mimetype": "text/x-python",
   "name": "python",
   "nbconvert_exporter": "python",
   "pygments_lexer": "ipython3",
   "version": "3.8.3"
  }
 },
 "nbformat": 4,
 "nbformat_minor": 4
}
