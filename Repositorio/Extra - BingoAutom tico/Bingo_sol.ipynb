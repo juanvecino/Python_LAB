{
 "cells": [
  {
   "cell_type": "markdown",
   "metadata": {},
   "source": [
    "# Automated Bingo Game"
   ]
  },
  {
   "cell_type": "markdown",
   "metadata": {},
   "source": [
    "### Create a method that returns a list with size * size random unique numbers between 0 and maximum\n",
    "\n",
    "With this definition:\n",
    "\n",
    "        def generar_carton(size, maximum)\n",
    "\n",
    "For example:\n",
    "\n",
    "        card = generar_carton(3, 20)\n",
    "        print(card)\n",
    "        [6, 4, 15, 8, 18, 1, 11, 17, 3]"
   ]
  },
  {
   "cell_type": "code",
   "execution_count": 27,
   "metadata": {},
   "outputs": [],
   "source": [
    "import random\n",
    "def generar_carton(size, maximum):\n",
    "    numeros=list(range(1,int(maximum)+1))\n",
    "    random.shuffle(numeros)\n",
    "    return numeros[:size**2]"
   ]
  },
  {
   "cell_type": "code",
   "execution_count": 1,
   "metadata": {},
   "outputs": [],
   "source": [
    "import random\n",
    "\n",
    "def generar_carton(size, maximum):\n",
    "    if size*size>maximum:\n",
    "        print(\"Error, not enough numbers for your card\")\n",
    "        return []\n",
    "    else:\n",
    "        return random.sample(range(0, maximum), size*size)"
   ]
  },
  {
   "cell_type": "code",
   "execution_count": 2,
   "metadata": {},
   "outputs": [
    {
     "data": {
      "text/plain": [
       "[34, 62, 82, 4, 89, 94, 98, 84, 41, 30, 93, 72, 87, 40, 88, 24]"
      ]
     },
     "execution_count": 2,
     "metadata": {},
     "output_type": "execute_result"
    }
   ],
   "source": [
    "generar_carton(4, 100)"
   ]
  },
  {
   "cell_type": "markdown",
   "metadata": {},
   "source": [
    "### Create a method that plots a bingo play card with an X in every matched number\n",
    "\n",
    "With this definition:\n",
    "\n",
    "        def imprime_carton(card, numbers)\n",
    "        \n",
    "Where \"card\" is the generated list with random numbers from previous step and \"numbers\" is a list with the number_balls that have already being popped out from the bingo drum. This function does not return anything only prints the card.\n",
    "\n",
    "For example:\n",
    "\n",
    "        imprime_carton([6, 4, 15, 8, 18, 1, 11, 17, 3], [])\n",
    "\n",
    "        |  6|  4| 15|\n",
    "        |  8| 18|  1|\n",
    "        | 11| 17|  3|\n",
    "        \n",
    "        imprime_carton([6, 4, 15, 8, 18, 1, 11, 17, 3], [1,2,3,4,5,6,7,8])\n",
    "        \n",
    "        |  X|  X| 15|\n",
    "        |  X| 18|  X|\n",
    "        | 11| 17|  X|"
   ]
  },
  {
   "cell_type": "code",
   "execution_count": 49,
   "metadata": {},
   "outputs": [
    {
     "name": "stdout",
     "output_type": "stream",
     "text": [
      "| X| X| X|\n",
      "|11|19| X|\n",
      "|17| X|12|"
     ]
    }
   ],
   "source": [
    "#Forma 1\n",
    "size=3\n",
    "cartas_vistas=[1,2,3,4,5,6,7,8,9,10]\n",
    "numeros=generar_carton(size,20)\n",
    "print('|',end='')\n",
    "v=0\n",
    "for i in numeros:\n",
    "    if v ==size:\n",
    "        print('\\n',end='|')\n",
    "        v=0\n",
    "    if i in cartas_vistas:\n",
    "        print(\"{:>2s}\".format('X'),end='|')\n",
    "    else:\n",
    "        print(\"{:>2s}\".format(str(i)),end='|')\n",
    "    v+=1"
   ]
  },
  {
   "cell_type": "code",
   "execution_count": 2,
   "metadata": {},
   "outputs": [],
   "source": [
    "import numpy as np\n",
    "def imprime_carton(card,numbers):\n",
    "    side=int(np.sqrt(len(card)))\n",
    "    index=0\n",
    "    for row in range(side):\n",
    "        for col in range(side):\n",
    "            if card[index] not in numbers:\n",
    "                print(\"|%3d\" % card[index],end=\"\")\n",
    "            else:\n",
    "                print(\"|%3s\" % \"X\",end=\"\")\n",
    "            index+=1\n",
    "        print(\"|\")"
   ]
  },
  {
   "cell_type": "markdown",
   "metadata": {},
   "source": [
    "### Create a method that simulates the Bing drum\n",
    "\n",
    "With this definition:\n",
    "\n",
    "        def simulate_drum(maximum,numbers)\n",
    "        \n",
    "Where \"maximum\" is the maximum value we are playing with and \"numbers\" is a list with all the number_balls that have already being popped out from the bingo drum. It must return a number that is in the Bingo drum (not any fo the numbers that have already being popped out)\n",
    "\n",
    "For example:\n",
    "\n",
    "        new_ball=simulate_drum(20, [1,2,3,4,5,6,7,8,9,10,11,12,13,14,15,16,17])\n",
    "        print(new_ball)\n",
    "        19"
   ]
  },
  {
   "cell_type": "code",
   "execution_count": 3,
   "metadata": {},
   "outputs": [],
   "source": [
    "def simulate_drum(maximum,numbers):\n",
    "    available=list(range(0,maximum))\n",
    "    for i in numbers:\n",
    "        available.remove(i)\n",
    "    return random.sample(available,1)[0]\n",
    "    "
   ]
  },
  {
   "cell_type": "markdown",
   "metadata": {},
   "source": [
    "### Create a method that returns True when all the numbers in the Bingo Play Card have allready beoing popped out\n",
    "\n",
    "With this definition:\n",
    "\n",
    "        def finished(card,numbers)\n",
    "        \n",
    "Where \"card\" is the generated list with random numbers and \"numbers\" is a list with all the number_balls that have already being popped out from the bingo drum. It must return TRUE if the play card is complete or FALSE otherwise."
   ]
  },
  {
   "cell_type": "code",
   "execution_count": 4,
   "metadata": {},
   "outputs": [],
   "source": [
    "def finished(card,numbers):\n",
    "    match=[]\n",
    "    for i in card:\n",
    "        if i in numbers:\n",
    "            match.append(True)\n",
    "    if len(match)==len(card):\n",
    "        return True\n",
    "    else:\n",
    "        return False"
   ]
  },
  {
   "cell_type": "markdown",
   "metadata": {},
   "source": [
    "### Test and understand this method to play the game"
   ]
  },
  {
   "cell_type": "code",
   "execution_count": 5,
   "metadata": {},
   "outputs": [],
   "source": [
    "def play_game(size,maximum):\n",
    "    numbers_from_the_drum=[]\n",
    "    balls=0\n",
    "    card=generar_carton(size, maximum)\n",
    "    imprime_carton(card,numbers_from_the_drum)\n",
    "    while not finished(card,numbers_from_the_drum):\n",
    "        new_ball=simulate_drum(maximum,numbers_from_the_drum)\n",
    "        balls=balls+1\n",
    "        print(\"New Number: \",new_ball)\n",
    "        numbers_from_the_drum.append(new_ball)\n",
    "        print(\"Updated Play Card: \")\n",
    "        imprime_carton(card,numbers_from_the_drum)\n",
    "    return balls"
   ]
  },
  {
   "cell_type": "code",
   "execution_count": null,
   "metadata": {},
   "outputs": [],
   "source": [
    "size=int(input(\"Get Size: \"))\n",
    "maximum=int(input(\"Get Maximum: \"))\n",
    "play_game(size,maximum)"
   ]
  },
  {
   "cell_type": "markdown",
   "metadata": {},
   "source": [
    "### Create a version of the previous method with no printouts\n",
    "\n",
    "With this definition:\n",
    "    \n",
    "        def play_game_no_display(size,maximum)"
   ]
  },
  {
   "cell_type": "code",
   "execution_count": 6,
   "metadata": {},
   "outputs": [],
   "source": [
    "def play_game_no_display(size,maximum):\n",
    "    numbers_from_the_drum=[]\n",
    "    balls=0\n",
    "    card=generar_carton(size, maximum)\n",
    "    while not finished(card,numbers_from_the_drum):\n",
    "        new_ball=simulate_drum(maximum,numbers_from_the_drum)\n",
    "        balls=balls+1\n",
    "        numbers_from_the_drum.append(new_ball)\n",
    "    return balls"
   ]
  },
  {
   "cell_type": "markdown",
   "metadata": {},
   "source": [
    "### Create python script that simulates a game for card sizes from 1 to 9 with 100 balls in the Bingo drum that simulates 10 games per size. It must compute the average of the number of balls required to complete the card for every size.\n",
    "\n",
    "You must finished with an X vector like this [1,2,3,4,5,6,7,8,9]\n",
    "And a Y vector with the average number of balls required for 10 repetitions of a Bing game for each size\n",
    "\n",
    "Plot the evolution of \"Average number of balls required\" Vs \"Card size\""
   ]
  },
  {
   "cell_type": "code",
   "execution_count": 8,
   "metadata": {},
   "outputs": [
    {
     "data": {
      "image/png": "[encoded data removed]",
      "text/plain": [
       "<Figure size 432x288 with 1 Axes>"
      ]
     },
     "metadata": {
      "needs_background": "light"
     },
     "output_type": "display_data"
    }
   ],
   "source": [
    "import matplotlib.pyplot as plt\n",
    "\n",
    "balls=[]\n",
    "maximum=100\n",
    "for size in range(1,10):\n",
    "    repetition=[]\n",
    "    for repetitions in range(10):\n",
    "        num=play_game_no_display(size,maximum)\n",
    "        repetition.append(num)\n",
    "    balls.append(np.mean(repetition))\n",
    "plt.plot(np.linspace(1,9,9)**2,balls) \n",
    "plt.xlabel(\"Numbers in a card\")\n",
    "plt.ylabel(\"Average number of balls required\")\n",
    "plt.show()"
   ]
  },
  {
   "cell_type": "code",
   "execution_count": null,
   "metadata": {},
   "outputs": [],
   "source": []
  }
 ],
 "metadata": {
  "kernelspec": {
   "display_name": "Python 3",
   "language": "python",
   "name": "python3"
  },
  "language_info": {
   "codemirror_mode": {
    "name": "ipython",
    "version": 3
   },
   "file_extension": ".py",
   "mimetype": "text/x-python",
   "name": "python",
   "nbconvert_exporter": "python",
   "pygments_lexer": "ipython3",
   "version": "3.8.3"
  }
 },
 "nbformat": 4,
 "nbformat_minor": 2
}
