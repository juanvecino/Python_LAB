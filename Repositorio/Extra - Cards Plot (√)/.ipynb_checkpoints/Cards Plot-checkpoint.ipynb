{
 "cells": [
  {
   "cell_type": "markdown",
   "metadata": {},
   "source": [
    "# Juego de Cartas visual"
   ]
  },
  {
   "cell_type": "markdown",
   "metadata": {},
   "source": [
    "Crear diciconario 13 símbolos forma string y cada símbolo 11 líneas.\n",
    "\n",
    "diccionario:\n",
    "\n",
    "cards={1: <....>,\n",
    "        2: <...>,\n",
    "        ....}"
   ]
  },
  {
   "cell_type": "code",
   "execution_count": 15,
   "metadata": {},
   "outputs": [],
   "source": [
    "#Forma 1\n",
    "cards={}\n",
    "with open(\"cards.txt\",\"r\") as f:\n",
    "    f=f.read()\n",
    "    f=f.splitlines()\n",
    "    contador=0\n",
    "    for i in range(13):\n",
    "        cards[i+1]=\"\\n\".join(f[contador:contador+11])\n",
    "        contador+=11"
   ]
  },
  {
   "cell_type": "code",
   "execution_count": 16,
   "metadata": {},
   "outputs": [],
   "source": [
    "#Forma 2\n",
    "\n",
    "cards2={}\n",
    "with open(\"cards.txt\",\"r\") as f:\n",
    "    f=f.read()\n",
    "    f=f.split('\\n')\n",
    "    for i in range(13):\n",
    "        texto=[]\n",
    "        for v in range(11):\n",
    "            texto.append(f[0])\n",
    "            del f[0]\n",
    "        cards2[i+1]=\"\\n\".join(texto)"
   ]
  },
  {
   "cell_type": "code",
   "execution_count": 18,
   "metadata": {},
   "outputs": [
    {
     "name": "stdout",
     "output_type": "stream",
     "text": [
      "{1: \" .----------------. \\n| .--------------. |\\n| |     __       | |\\n| |    /  |      | |\\n| |    `| |      | |\\n| |     | |      | |\\n| |    _| |_     | |\\n| |   |_____|    | |\\n| |              | |\\n| '--------------' |\\n '----------------' \\n\", 2: \" .----------------. \\n| .--------------. |\\n| |    _____     | |\\n| |   / ___ `.   | |\\n| |  |_/___) |   | |\\n| |   .'____.'   | |\\n| |  / /____     | |\\n| |  |_______|   | |\\n| |              | |\\n| '--------------' |\\n '----------------' \\n\", 3: \" .----------------. \\n| .--------------. |\\n| |    ______    | |\\n| |   / ____ `.  | |\\n| |   `'  __) |  | |\\n| |   _  |__ '.  | |\\n| |  | \\\\____) |  | |\\n| |   \\\\______.'  | |\\n| |              | |\\n| '--------------' |\\n '----------------' \\n\", 4: \" .----------------. \\n| .--------------. |\\n| |   _    _     | |\\n| |  | |  | |    | |\\n| |  | |__| |_   | |\\n| |  |____   _|  | |\\n| |      _| |_   | |\\n| |     |_____|  | |\\n| |              | |\\n| '--------------' |\\n '----------------' \\n\", 5: \" .----------------. \\n| .--------------. |\\n| |   _______    | |\\n| |  |  _____|   | |\\n| |  | |____     | |\\n| |  '_.____''.  | |\\n| |  | \\\\____) |  | |\\n| |   \\\\______.'  | |\\n| |              | |\\n| '--------------' |\\n '----------------' \\n\", 6: \" .----------------. \\n| .--------------. |\\n| |    ______    | |\\n| |  .' ____ \\\\   | |\\n| |  | |____\\\\_|  | |\\n| |  | '____`'.  | |\\n| |  | (____) |  | |\\n| |  '.______.'  | |\\n| |              | |\\n| '--------------' |\\n '----------------' \\n\", 7: \" .----------------. \\n| .--------------. |\\n| |   _______    | |\\n| |  |  ___  |   | |\\n| |  |_/  / /    | |\\n| |      / /     | |\\n| |     / /      | |\\n| |    /_/       | |\\n| |              | |\\n| '--------------' |\\n '----------------' \\n\", 8: \" .----------------. \\n| .--------------. |\\n| |     ____     | |\\n| |   .' __ '.   | |\\n| |   | (__) |   | |\\n| |   .`____'.   | |\\n| |  | (____) |  | |\\n| |  `.______.'  | |\\n| |              | |\\n| '--------------' |\\n '----------------' \\n\", 9: \" .----------------. \\n| .--------------. |\\n| |    ______    | |\\n| |  .' ____ '.  | |\\n| |  | (____) |  | |\\n| |  '_.____. |  | |\\n| |  | \\\\____| |  | |\\n| |   \\\\______,'  | |\\n| |              | |\\n| '--------------' |\\n '----------------' \\n\", 10: \" .----------------. \\n| .--------------. |\\n| |  _    ____   | |\\n| | / |  ( __ )  | |\\n| | `||  |(  )|  | |\\n| |  ||  ||  ||  | |\\n| | _||_ |(__)|  | |\\n| ||____|(____)  | |\\n| |              | |\\n| '--------------' |\\n '----------------' \\n\", 11: \"  .----------------. \\n| .--------------. |\\n| |     _____    | |\\n| |    |_   _|   | |\\n| |      | |     | |\\n| |   _  | |     | |\\n| |  | |_' |     | |\\n| |  `.___.'     | |\\n| |              | |\\n| '--------------' |\\n '----------------' \\n\", 12: \"  .----------------. \\n| .--------------. |\\n| |    ___       | |\\n| |  .'   '.     | |\\n| | /  .-.  \\\\    | |\\n| | | |   | |    | |\\n| | \\\\  `-'  \\\\_   | |\\n| |  `.___.\\\\__|  | |\\n| |              | |\\n| '--------------' |\\n '----------------'\\n\", 13: \"  .----------------. \\n| .--------------. |\\n| |  ___  ____   | |\\n| | |_  ||_  _|  | |\\n| |   | |_/ /    | |\\n| |   |  __'.    | |\\n| |  _| |  \\\\ \\\\_  | |\\n| | |____||____| | |\\n| |              | |\\n| '--------------' |\\n '----------------' \"}\n"
     ]
    }
   ],
   "source": [
    "# Forma de Luis\n",
    "cards={}\n",
    "with open(\"cards.txt\",\"r\") as f:\n",
    "    for i in range(1,14):\n",
    "        number=\"\"\n",
    "        for j in range(11):\n",
    "            number=number+f.readline()\n",
    "        cards[i]=number\n",
    "print(cards)"
   ]
  },
  {
   "cell_type": "markdown",
   "metadata": {},
   "source": [
    "## Ej2. Salvado a fichero binario\n",
    "\n",
    "Guarda el diccionario del ejercicio anterior a un fichero binario llamado \"backup.dat\". Comprueba que se ha guardado correctamente volviendo a leerlo en otra variable diferente."
   ]
  },
  {
   "cell_type": "code",
   "execution_count": 20,
   "metadata": {},
   "outputs": [],
   "source": [
    "import pickle\n",
    "with open(\"backup.dat\",'wb') as file:\n",
    "    pickle.dump(cards,file)"
   ]
  },
  {
   "cell_type": "code",
   "execution_count": 24,
   "metadata": {},
   "outputs": [],
   "source": [
    "import pickle\n",
    "with open(\"backup.dat\",\"rb\") as file:\n",
    "    pickle.load(file)"
   ]
  },
  {
   "cell_type": "code",
   "execution_count": 42,
   "metadata": {},
   "outputs": [],
   "source": [
    "import pickle\n",
    "with open(\"backup.dat\",\"rb\") as file:\n",
    "    dict_restored=pickle.load(file)"
   ]
  },
  {
   "attachments": {
    "image.png": {
     "image/png": "[encoded data removed]"
    }
   },
   "cell_type": "markdown",
   "metadata": {},
   "source": [
    "## Ej3. Crea una función que devuelva y presente N cartas\n",
    "\n",
    "Utiliza el diccionario generado en el apartado anterior para imprimir una secuencia de N cartas. Para ello habrá que crear una función llamada **print_cards** que recibirá como argumento el diccionario del ejercicio anterior y un número entero N de cartas que queremos imprimir. El código debe imprimir los símbolos uno al lado del otro. Para ello habrá que dividir las cartas en lineas y hacer un código que vaya imprimiendo la primera linea de las N cartas, la segunda linea de las N cartas, la tercera línea de  las N cartas,....\n",
    "\n",
    "El resultado debe ser similar a este:\n",
    "\n",
    "![image.png](attachment:image.png)"
   ]
  },
  {
   "cell_type": "code",
   "execution_count": 37,
   "metadata": {},
   "outputs": [
    {
     "name": "stdout",
     "output_type": "stream",
     "text": [
      " .----------------.   .----------------.   .----------------.   .----------------.   .----------------.  \n",
      "| .--------------. | | .--------------. | | .--------------. | | .--------------. | | .--------------. | \n",
      "| |   _______    | | | |    ______    | | | |    _____     | | | |     ____     | | | |    ______    | | \n",
      "| |  |  _____|   | | | |  .' ____ '.  | | | |   / ___ `.   | | | |   .' __ '.   | | | |  .' ____ \\   | | \n",
      "| |  | |____     | | | |  | (____) |  | | | |  |_/___) |   | | | |   | (__) |   | | | |  | |____\\_|  | | \n",
      "| |  '_.____''.  | | | |  '_.____. |  | | | |   .'____.'   | | | |   .`____'.   | | | |  | '____`'.  | | \n",
      "| |  | \\____) |  | | | |  | \\____| |  | | | |  / /____     | | | |  | (____) |  | | | |  | (____) |  | | \n",
      "| |   \\______.'  | | | |   \\______,'  | | | |  |_______|   | | | |  `.______.'  | | | |  '.______.'  | | \n",
      "| |              | | | |              | | | |              | | | |              | | | |              | | \n",
      "| '--------------' | | '--------------' | | '--------------' | | '--------------' | | '--------------' | \n",
      " '----------------'   '----------------'   '----------------'   '----------------'   '----------------'  \n"
     ]
    }
   ],
   "source": [
    "def print_cards(cards,n):\n",
    "    import random\n",
    "    if n>=6:\n",
    "        print('Por favor escoja un número menor la pantalla del output es más pequeña y esto puede causar problemas')\n",
    "        return \n",
    "    numeros=range(1,14)\n",
    "    r=random.sample(numeros,n)\n",
    "    for v in range(11):    \n",
    "        for i in r:\n",
    "            print(cards[i].split('\\n')[v],end=' ')\n",
    "        print()\n",
    "print_cards(cards,5)"
   ]
  },
  {
   "cell_type": "code",
   "execution_count": 25,
   "metadata": {},
   "outputs": [],
   "source": [
    "import random\n",
    "\n",
    "def print_cards(cards, N):\n",
    "    options=cards.keys()\n",
    "    sequence_of_nums=random.sample(list(options),N)\n",
    "    sequence_of_cards=[cards[i] for i in sequence_of_nums]\n",
    "    sequence_of_cards_per_lines= [card.split(\"\\n\") for card in sequence_of_cards]\n",
    "    for line in range(11):\n",
    "        for card in range(N):\n",
    "            print(sequence_of_cards_per_lines[card][line],end=\" \")\n",
    "        print()"
   ]
  },
  {
   "cell_type": "code",
   "execution_count": 39,
   "metadata": {},
   "outputs": [
    {
     "name": "stdout",
     "output_type": "stream",
     "text": [
      " .----------------.    .----------------.   .----------------.   .----------------.   .----------------.  \n",
      "| .--------------. | | .--------------. | | .--------------. | | .--------------. | | .--------------. | \n",
      "| |     __       | | | |  ___  ____   | | | |    ______    | | | |    ______    | | | |   _______    | | \n",
      "| |    /  |      | | | | |_  ||_  _|  | | | |  .' ____ '.  | | | |  .' ____ \\   | | | |  |  ___  |   | | \n",
      "| |    `| |      | | | |   | |_/ /    | | | |  | (____) |  | | | |  | |____\\_|  | | | |  |_/  / /    | | \n",
      "| |     | |      | | | |   |  __'.    | | | |  '_.____. |  | | | |  | '____`'.  | | | |      / /     | | \n",
      "| |    _| |_     | | | |  _| |  \\ \\_  | | | |  | \\____| |  | | | |  | (____) |  | | | |     / /      | | \n",
      "| |   |_____|    | | | | |____||____| | | | |   \\______,'  | | | |  '.______.'  | | | |    /_/       | | \n",
      "| |              | | | |              | | | |              | | | |              | | | |              | | \n",
      "| '--------------' | | '--------------' | | '--------------' | | '--------------' | | '--------------' | \n",
      " '----------------'   '----------------'   '----------------'   '----------------'   '----------------'  \n"
     ]
    }
   ],
   "source": [
    "print_cards(cards,5)"
   ]
  },
  {
   "cell_type": "markdown",
   "metadata": {},
   "source": [
    "## Ejercicios propuestos. \n",
    "\n",
    "* Haz un código que añada un string: \"Corazones\",\"Picas\",\"Trevoles\",\"Diamantes\" a cada una de las cartas\n",
    "* Genera una baraja completa\n",
    "* Haz un código que te genere N cartas no repetidas de una baraja completa, con su número y su palo"
   ]
  },
  {
   "cell_type": "code",
   "execution_count": 45,
   "metadata": {},
   "outputs": [],
   "source": [
    "palos= [\"Corazones\",\"Picas\",\"Trevoles\",\"Diamantes\"]\n",
    "baraja=[]\n",
    "for i in palos:\n",
    "    for numero in cards.values():\n",
    "        baraja.append([numero,i])"
   ]
  },
  {
   "cell_type": "code",
   "execution_count": 284,
   "metadata": {},
   "outputs": [
    {
     "name": "stdout",
     "output_type": "stream",
     "text": [
      "\n",
      "Mano1:\n",
      " .----------------.   .----------------.  .----------------.  .----------------. \n",
      "| .--------------. || .--------------. || .--------------. || .--------------. |\n",
      "| |    ______    | || |     _____    | || |     __       | || |    ______    | |\n",
      "| |  .' ____ \\   | || |    |_   _|   | || |    /  |      | || |   / ____ `.  | |\n",
      "| |  | |____\\_|  | || |      | |     | || |    `| |      | || |   `'  __) |  | |\n",
      "| |  | '____`'.  | || |   _  | |     | || |     | |      | || |   _  |__ '.  | |\n",
      "| |  | (____) |  | || |  | |_' |     | || |    _| |_     | || |  | \\____) |  | |\n",
      "| |  '.______.'  | || |  `.___.'     | || |   |_____|    | || |   \\______.'  | |\n",
      "| |              | || |              | || |              | || |              | |\n",
      "| '--------------' || '--------------' || '--------------' || '--------------' |\n",
      " '----------------'  '----------------'  '----------------'  '----------------' \n",
      "Palos: Picas,Trevoles,Corazones,Picas,\n",
      "\n",
      "Mano2:\n",
      " .----------------.   .----------------.  .----------------.  .----------------. \n",
      "| .--------------. || .--------------. || .--------------. || .--------------. |\n",
      "| |    _____     | || |    ___       | || |   _    _     | || |     __       | |\n",
      "| |   / ___ `.   | || |  .'   '.     | || |  | |  | |    | || |    /  |      | |\n",
      "| |  |_/___) |   | || | /  .-.  \\    | || |  | |__| |_   | || |    `| |      | |\n",
      "| |   .'____.'   | || | | |   | |    | || |  |____   _|  | || |     | |      | |\n",
      "| |  / /____     | || | \\  `-'  \\_   | || |      _| |_   | || |    _| |_     | |\n",
      "| |  |_______|   | || |  `.___.\\__|  | || |     |_____|  | || |   |_____|    | |\n",
      "| |              | || |              | || |              | || |              | |\n",
      "| '--------------' || '--------------' || '--------------' || '--------------' |\n",
      " '----------------'  '----------------' '----------------'  '----------------' \n",
      "Palos: Corazones,Picas,Diamantes,Trevoles,\n",
      "\n",
      "Mano3:\n",
      " .----------------.  .----------------.  .----------------.   .----------------. \n",
      "| .--------------. || .--------------. || .--------------. || .--------------. |\n",
      "| |    ______    | || |    _____     | || |     __       | || |    ___       | |\n",
      "| |  .' ____ '.  | || |   / ___ `.   | || |    /  |      | || |  .'   '.     | |\n",
      "| |  | (____) |  | || |  |_/___) |   | || |    `| |      | || | /  .-.  \\    | |\n",
      "| |  '_.____. |  | || |   .'____.'   | || |     | |      | || | | |   | |    | |\n",
      "| |  | \\____| |  | || |  / /____     | || |    _| |_     | || | \\  `-'  \\_   | |\n",
      "| |   \\______,'  | || |  |_______|   | || |   |_____|    | || |  `.___.\\__|  | |\n",
      "| |              | || |              | || |              | || |              | |\n",
      "| '--------------' || '--------------' || '--------------' || '--------------' |\n",
      " '----------------'  '----------------'  '----------------'  '----------------'\n",
      "Palos: Diamantes,Diamantes,Picas,Trevoles,\n",
      "\n",
      "Mano4:\n",
      " .----------------.   .----------------.  .----------------.  .----------------. \n",
      "| .--------------. || .--------------. || .--------------. || .--------------. |\n",
      "| |     ____     | || |  ___  ____   | || |    ______    | || |    ______    | |\n",
      "| |   .' __ '.   | || | |_  ||_  _|  | || |  .' ____ \\   | || |   / ____ `.  | |\n",
      "| |   | (__) |   | || |   | |_/ /    | || |  | |____\\_|  | || |   `'  __) |  | |\n",
      "| |   .`____'.   | || |   |  __'.    | || |  | '____`'.  | || |   _  |__ '.  | |\n",
      "| |  | (____) |  | || |  _| |  \\ \\_  | || |  | (____) |  | || |  | \\____) |  | |\n",
      "| |  `.______.'  | || | |____||____| | || |  '.______.'  | || |   \\______.'  | |\n",
      "| |              | || |              | || |              | || |              | |\n",
      "| '--------------' || '--------------' || '--------------' || '--------------' |\n",
      " '----------------'  '----------------'  '----------------'  '----------------' \n",
      "Palos: Trevoles,Diamantes,Corazones,Corazones,\n"
     ]
    }
   ],
   "source": [
    "import random\n",
    "random.shuffle(baraja)\n",
    "n=4\n",
    "manos=4\n",
    "\n",
    "for f in range(manos):\n",
    "    print(f'\\nMano{f+1}:')\n",
    "    for v in range(11):\n",
    "        for i in range(1,n+1):\n",
    "            print(baraja[i][0].split('\\n')[v],end='')\n",
    "        print()\n",
    "        if v == 10:\n",
    "            print('Palos: ',end='')\n",
    "            for i in range(1,n+1):\n",
    "                print(baraja[i][1],end=',')\n",
    "    for x in range(n):\n",
    "        del baraja[0]\n",
    "    print()"
   ]
  },
  {
   "cell_type": "code",
   "execution_count": null,
   "metadata": {},
   "outputs": [],
   "source": []
  }
 ],
 "metadata": {
  "kernelspec": {
   "display_name": "Python 3",
   "language": "python",
   "name": "python3"
  },
  "language_info": {
   "codemirror_mode": {
    "name": "ipython",
    "version": 3
   },
   "file_extension": ".py",
   "mimetype": "text/x-python",
   "name": "python",
   "nbconvert_exporter": "python",
   "pygments_lexer": "ipython3",
   "version": "3.8.3"
  }
 },
 "nbformat": 4,
 "nbformat_minor": 2
}
