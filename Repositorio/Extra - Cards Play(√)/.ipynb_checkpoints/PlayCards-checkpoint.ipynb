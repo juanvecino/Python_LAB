{
 "cells": [
  {
   "cell_type": "markdown",
   "metadata": {},
   "source": [
    "# Playing with French Cards"
   ]
  },
  {
   "cell_type": "markdown",
   "metadata": {},
   "source": [
    "Let's start implementing some methods that we will use to implement a card game  \n",
    "Our cards will be tuples of the form:  \n",
    "\n",
    "    (suit, value)  \n",
    "    \n",
    "Our decks will be list of tuples on the form:  \n",
    "\n",
    "    [(suit, value),(suit, value),(suit, value),(suit, value),....]\n",
    "    "
   ]
  },
  {
   "cell_type": "markdown",
   "metadata": {},
   "source": [
    "## 1. Define two variables:\n",
    "* A variable called \"numbers\" with a list with all the card numbers (1,2,..11,12,13) where 11 is J, 12 is Q and 13 is K \n",
    "* A variable called \"suits\" with a list with \"hearts\", \"diamonds\", \"clubs\" and \"spades\""
   ]
  },
  {
   "cell_type": "code",
   "execution_count": 14,
   "metadata": {},
   "outputs": [],
   "source": [
    "numbers=range(1,14)"
   ]
  },
  {
   "cell_type": "code",
   "execution_count": 15,
   "metadata": {},
   "outputs": [],
   "source": [
    "suits=[\"hearts\", \"diamonds\", \"clubs\" , \"spades\"]"
   ]
  },
  {
   "cell_type": "markdown",
   "metadata": {},
   "source": [
    "## 2. Generate full deck:\n",
    "Create a function that takes as arguments variables \"numbers\" and \"suits\" and returns as output a list of tuples (suit,number) for the 52 cards\n",
    "\n",
    "out=[(\"hearts\",1),(\"spades\",5),....]"
   ]
  },
  {
   "cell_type": "code",
   "execution_count": 24,
   "metadata": {},
   "outputs": [],
   "source": [
    "def create_deck(numbers, suits):\n",
    "    import random\n",
    "    out=[]\n",
    "    for palo in suits:\n",
    "        for num in numbers:\n",
    "            out.append((palo,num))\n",
    "    random.shuffle(out)\n",
    "    return out\n",
    "deck = create_deck(numbers,suits)"
   ]
  },
  {
   "cell_type": "markdown",
   "metadata": {},
   "source": [
    "## 3. Order any deck:\n",
    "\n",
    "Create a function that takes as argument a list of tuples like this:\n",
    "\n",
    "    deck=[(\"hearts\",1),(\"spades\",5),....]\n",
    "\n",
    "And generates as output an ordered list of tuples considering that the order of the suits is:\n",
    "\n",
    "1.clubs  \n",
    "2.diamonds  \n",
    "3.hearts  \n",
    "4.spades  \n",
    "\n",
    "This method must order any list of typles independently of the number of tuples. That means that I can call this method to order the full deck (52 cards) but also I could also call this method to order a subset of this list.\n"
   ]
  },
  {
   "cell_type": "code",
   "execution_count": 60,
   "metadata": {},
   "outputs": [],
   "source": [
    "def order_deck(deck):\n",
    "    order='clubs','diamonds','hearts','spades'\n",
    "    contador=0\n",
    "    ordenado=[]\n",
    "    for i in deck:\n",
    "        if contador==0:\n",
    "            ordenado.append(i)\n",
    "        else:\n",
    "            if order.index(ordenado[contador-1][0])< order.index(i[0]):\n",
    "                ordenado.append(i)\n",
    "            else:\n",
    "                ordenado.append(i)\n",
    "                j=1\n",
    "                while order.index(ordenado[contador-j][0])> order.index(i[0]):\n",
    "                    ordenado[contador-j], ordenado[contador-j+1]=i, ordenado[contador-j]\n",
    "                    j+=1\n",
    "                    if contador-j== -1:\n",
    "                        break\n",
    "        contador+=1\n",
    "    return ordenado"
   ]
  },
  {
   "cell_type": "code",
   "execution_count": 66,
   "metadata": {},
   "outputs": [],
   "source": [
    "deck = order_deck(deck)"
   ]
  },
  {
   "cell_type": "markdown",
   "metadata": {},
   "source": [
    "## 4. Translate figures:\n",
    "Write a function called translate(). This function takes one card as an argument, and returns the another card with the right figure on it.\n",
    "\n",
    "E.g.\n",
    "\n",
    "        output=translate((\"hearts\",11))  \n",
    "        print(output)\n",
    "\n",
    "        (\"hearts\",\"J\")\n",
    "\n",
    "        output=translate((\"hearts\",12))  \n",
    "        print(output)\n",
    "\n",
    "        (\"hearts\",\"Q\")\n",
    "\n",
    "        output=translate((\"hearts\",13))  \n",
    "        print(output)\n",
    "\n",
    "        (\"hearts\",\"K\")\n"
   ]
  },
  {
   "cell_type": "code",
   "execution_count": 46,
   "metadata": {},
   "outputs": [],
   "source": [
    "def translate(card):\n",
    "    out=[]\n",
    "    if card[1]==11:\n",
    "        out.append((card[0],'J'))\n",
    "    elif card[1]==12:\n",
    "        out.append((card[0],'Q'))\n",
    "    elif card[1]==13:\n",
    "        out.append((card[0],'K'))\n",
    "    else:\n",
    "        out.append(card)\n",
    "    return out"
   ]
  },
  {
   "cell_type": "code",
   "execution_count": 47,
   "metadata": {},
   "outputs": [
    {
     "data": {
      "text/plain": [
       "[('hearts', 'Q')]"
      ]
     },
     "execution_count": 47,
     "metadata": {},
     "output_type": "execute_result"
    }
   ],
   "source": [
    "translate(('hearts',12))"
   ]
  },
  {
   "cell_type": "markdown",
   "metadata": {},
   "source": [
    "## 5. Compare values:\n",
    "\n",
    "Write a function called same_value(). This function takes two cards, and returns True if the cards have the same value, and False if they do not.\n",
    "\n",
    "Write an extension of this method so that it works the same for any number of cards passed as arguments. E.g.\n",
    "\n",
    "    same_value(card1, card2, card3, card4)\n"
   ]
  },
  {
   "cell_type": "code",
   "execution_count": 36,
   "metadata": {},
   "outputs": [],
   "source": [
    "def same_value(*cards):\n",
    "    return all([cards[0][1]==i[1] for i in cards])"
   ]
  },
  {
   "cell_type": "markdown",
   "metadata": {},
   "source": [
    "## 6. Compare suits:\n",
    "\n",
    "Write a function called same_suit(). This function takes two cards, and returns True if the cards have the same suit, and False if they do not.\n",
    "\n",
    "Write an extension of this method so that it works the same for any number of cards passed as arguments. E.g.\n",
    "\n",
    "    same_suit(card1, card2, card3, card4)\n",
    "    "
   ]
  },
  {
   "cell_type": "code",
   "execution_count": 35,
   "metadata": {},
   "outputs": [],
   "source": [
    "def same_suits(*cards):\n",
    "    return all([cards[0][0]==i[0] for i in cards])"
   ]
  },
  {
   "cell_type": "markdown",
   "metadata": {},
   "source": [
    "## 7. Shuffle deck:\n",
    "\n",
    "Write a function called shuffle_deck() that takes as variable any list of tuples and returns the same list of cards randomized (the list can have whatever lenght)"
   ]
  },
  {
   "cell_type": "code",
   "execution_count": 37,
   "metadata": {},
   "outputs": [],
   "source": [
    "def shuffle_deck(deck):\n",
    "    import random\n",
    "    newdeck=random.shuffle(deck)\n",
    "    return newdeck"
   ]
  },
  {
   "cell_type": "markdown",
   "metadata": {},
   "source": [
    "## 8. Get card:\n",
    "\n",
    "Write a function called get_card() that returns the first card from the list and remove it from the deck. It must return the chosen card and the modified deck"
   ]
  },
  {
   "cell_type": "code",
   "execution_count": 40,
   "metadata": {},
   "outputs": [],
   "source": [
    "def get_card(deck):\n",
    "    card=deck[0]\n",
    "    del deck[0]\n",
    "    newdeck=deck\n",
    "    return card, newdeck"
   ]
  },
  {
   "cell_type": "code",
   "execution_count": 42,
   "metadata": {},
   "outputs": [
    {
     "data": {
      "text/plain": [
       "(('corzones', 10), [('picas', 5)])"
      ]
     },
     "execution_count": 42,
     "metadata": {},
     "output_type": "execute_result"
    }
   ],
   "source": [
    "get_card([('corzones',10),('picas',5)])"
   ]
  },
  {
   "cell_type": "markdown",
   "metadata": {},
   "source": [
    "## 9. Get random card:\n",
    "\n",
    "Write a function called get_random_card() that returns a random card from the list of cards and remove it from the deck. It must return the chosen card and the modified deck"
   ]
  },
  {
   "cell_type": "code",
   "execution_count": 52,
   "metadata": {},
   "outputs": [],
   "source": [
    "def get_random_card(deck):\n",
    "    import random\n",
    "    card_num=random.randint(0,len(deck))\n",
    "    card=deck[card_num]\n",
    "    del deck[card_num]\n",
    "    newdeck=deck\n",
    "    return card, newdeck"
   ]
  },
  {
   "cell_type": "markdown",
   "metadata": {},
   "source": [
    "## 10. Deal hand:  \n",
    "Write a function called deal_hand(). This function accepts a deck as an argument, and the size of the hand. The function returns a list containing the cards in the hand. The function also removes these cards from the deck."
   ]
  },
  {
   "cell_type": "code",
   "execution_count": 62,
   "metadata": {},
   "outputs": [],
   "source": [
    "def get_random_card(deck,number):\n",
    "    import random\n",
    "    random.shuffle(deck)\n",
    "    hand= deck[:number]\n",
    "    del deck[:number]\n",
    "    newdeck=deck\n",
    "    return hand, newdeck"
   ]
  },
  {
   "cell_type": "code",
   "execution_count": 69,
   "metadata": {},
   "outputs": [
    {
     "data": {
      "text/plain": [
       "([('trevol', 5), ('diamantes', 1)],\n",
       " [('diamantes', 5), ('picas', 10), ('corazones', 1)])"
      ]
     },
     "execution_count": 69,
     "metadata": {},
     "output_type": "execute_result"
    }
   ],
   "source": [
    "deck=[('corazones',1),('diamantes',5),('picas',10),('diamantes',1),('trevol',5)]\n",
    "get_random_card(deck,2)"
   ]
  },
  {
   "cell_type": "markdown",
   "metadata": {},
   "source": [
    "## 11. Who is the largest card:  \n",
    "Write a function called largest_card(). This function accepts two cards and returns:\n",
    "    * number 1 if the first card is larger than the second\n",
    "    * number 2 if the second card is larger than the first\n",
    "    * number 0 it both cards have the same value\n",
    "    \n",
    "Write an extension of this method so that we can pass more than two cards.  \n",
    "E.g\n",
    "\n",
    "        largest_card(card1,card2,card3,card4)"
   ]
  },
  {
   "cell_type": "code",
   "execution_count": 145,
   "metadata": {},
   "outputs": [],
   "source": [
    "#Forma con lambda\n",
    "def largest_card(*cards):\n",
    "    cards=list(cards)\n",
    "    cards_comprobacion= cards[:]\n",
    "    cards.sort(key= lambda numero: numero[1], reverse=True)\n",
    "    winner=cards_comprobacion.index(cards[0])+1\n",
    "    return winner"
   ]
  },
  {
   "cell_type": "code",
   "execution_count": 146,
   "metadata": {},
   "outputs": [
    {
     "data": {
      "text/plain": [
       "2"
      ]
     },
     "execution_count": 146,
     "metadata": {},
     "output_type": "execute_result"
    }
   ],
   "source": [
    "largest_card(('Corazones',1),('Diamantes',3),('Trevoles',2))"
   ]
  },
  {
   "cell_type": "code",
   "execution_count": 148,
   "metadata": {},
   "outputs": [
    {
     "data": {
      "text/plain": [
       "('Diamantes', 3)"
      ]
     },
     "execution_count": 148,
     "metadata": {},
     "output_type": "execute_result"
    }
   ],
   "source": [
    "# Forma sin lambda\n",
    "\n",
    "deck=[('Corazones',1),('Diamantes',3),('Trevoles',2)]\n",
    "deck_valores=[]\n",
    "for k,v in deck:\n",
    "    deck_valores.append(v)\n",
    "idx_max=deck_valores.index(max(deck_valores))\n",
    "deck[idx_max]"
   ]
  },
  {
   "cell_type": "markdown",
   "metadata": {},
   "source": [
    "## 12 Implement Game\n",
    "\n",
    "Implement a game of Go Fish that you can play against the computer. A basic Go Fish game has the following rules:\n",
    "\n",
    "1. Each player is dealt a hand of 7 cards.\n",
    "2. If either player has a pair, they pull the pair from their hands and place them on the table.\n",
    "3. One player goes first.\n",
    "4. The player picks a card in their hand that they’re trying to match, and they say, “Do you have a Jack?” If the other player has a Jack, the asking player gets that card and places both Jacks on the table. The asking player goes again.\n",
    "5. If the other player doesn’t have a Jack, they say “Go Fish!” The asking player draws a card from the deck and puts it in their hand.\n",
    "6. If the drawn card is the card they asked for, they place the pair on the table and go again.\n",
    "7. If the drawn card matches any other card in their hand, they place the pair on the table but don’t go again.\n",
    "8. The game is over whenever one player runs out of cards.\n",
    "9. The player with the most pairs at the end of the game wins, regardless of who ran out of cards first."
   ]
  },
  {
   "cell_type": "code",
   "execution_count": null,
   "metadata": {},
   "outputs": [],
   "source": []
  }
 ],
 "metadata": {
  "kernelspec": {
   "display_name": "Python 3",
   "language": "python",
   "name": "python3"
  },
  "language_info": {
   "codemirror_mode": {
    "name": "ipython",
    "version": 3
   },
   "file_extension": ".py",
   "mimetype": "text/x-python",
   "name": "python",
   "nbconvert_exporter": "python",
   "pygments_lexer": "ipython3",
   "version": "3.8.3"
  }
 },
 "nbformat": 4,
 "nbformat_minor": 2
}
