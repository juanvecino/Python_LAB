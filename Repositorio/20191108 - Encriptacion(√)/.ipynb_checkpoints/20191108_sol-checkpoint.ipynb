{
 "cells": [
  {
   "cell_type": "markdown",
   "metadata": {},
   "source": [
    "# Friday Meet Up - Files\n",
    "\n",
    "\n",
    "### Student: Name Surname\n",
    "### Group:    GroupID\n",
    "### Date:       8/NOV/2019"
   ]
  },
  {
   "cell_type": "markdown",
   "metadata": {},
   "source": [
    "### Encriptación de contraseñas (10 puntos)"
   ]
  },
  {
   "cell_type": "markdown",
   "metadata": {},
   "source": [
    "#### Problema:\n",
    "\n",
    "El servicio de seguridad y detección de intrusos de la universidad, ha detectado un acceso no permitido al fichero passwords.txt de los alumnos. Este fichero contiene las contraseñas de email de todos los alumnos de la universidad, identificándolo por clave de alumno + password de la siguiente manera:\n",
    "\n",
    "19962312 jkdhh83l  \n",
    "20062355 hfiopwkd  \n",
    "20193782 fghjweof  \n",
    "\n",
    "Las claves están compuestas por 8 dígitos alfanuméricos.\n",
    "\n",
    "Se nos pide volver a encriptar todas las claves para evitar la filtración de información. Para ello deberemos seguir los siguientes pasos:\n",
    "\n",
    "1. Leer la información del fichero passwords.txt\n",
    "2. Solicitar al usuario un desplazamiento positivo mayor que 1 y menor que 26\n",
    "3. Cifrar la clave asociada a cada usuario\n",
    "4. Volver a salvaguardar esta información en un nuevo fichero de texto llamado passwords_new.txt\n",
    "\n",
    "El proceso de cifrado consiste en lo siguiente:\n",
    "\n",
    "* Los caracteres especiales no se codifican\n",
    "* Los caracteres alfabéticos se codifican utilizando el método Julio César: “En criptografía, el cifrado César, también conocido como cifrado por desplazamiento, código de César o desplazamiento de César, es una de las técnicas de cifrado más simples y más usadas. Es un tipo de cifrado por sustitución en el que una letra en el texto original es reemplazada por otra letra que se encuentra un número fijo de posiciones más adelante en el alfabeto. Por ejemplo, con un desplazamiento de 3, la A sería sustituida por la D (situada 3 lugares a la derecha de la A), la B sería reemplazada por la E, etc. Este método debe su nombre a Julio César, que lo usaba para comunicarse con sus generales.” . De tal manera que deberemos pedir primero el número de caracteres a desplazar y sustituir en la password el carácter resultante. \n",
    "* Los dígitos se codifican con el mismo desplazamiento utilizado para cifrar los caracteres alfabéticos pero suponiendo un desplazamiento circular en una secuencia de dígitos de 0,1,2....8,9. Es decir, si el desplazamiento es de 3, el dígito 4 se codificaria como 7 y el dígito 9 se codificaría como 2.\n",
    "\n",
    "Considerar la secuencia alfabética como: abcdefghijklmnopqrstuvwxyz  \n",
    "Considerar la secuencia numérica como: 0123456789  \n",
    "\n",
    "#### Ejemplo \n",
    "\n",
    "password: bf!%xa8$\n",
    "\n",
    "Introduzca un número de desplazamiento: 5\n",
    "\n",
    "La nueva password sería: gk!%cf3$"
   ]
  },
  {
   "cell_type": "markdown",
   "metadata": {},
   "source": [
    "## Generar fichero de 200 usuarios/contraseñas"
   ]
  },
  {
   "cell_type": "code",
   "execution_count": 1,
   "metadata": {},
   "outputs": [],
   "source": [
    "import random\n",
    "def gen_password():\n",
    "    letters=\"abcdefghijklmnopqrstuvwxyz\"\n",
    "    letters_upper=\"ABCDEFGHIJKLMNOPQRSTUVWXYZ\"\n",
    "    digits=\"0123456789\"\n",
    "    symbols=\"$%&=*!^\"\n",
    "    random_letters=random.sample(letters,2)\n",
    "    random_letters_upper=random.sample(letters_upper,2)\n",
    "    random_digits=random.sample(digits,2)\n",
    "    random_symbols=random.sample(symbols,2)\n",
    "    password=random_letters+random_letters_upper+random_digits+random_symbols\n",
    "    random.shuffle(password)\n",
    "    return \"\".join(password)"
   ]
  },
  {
   "cell_type": "code",
   "execution_count": 2,
   "metadata": {},
   "outputs": [],
   "source": [
    "def gen_student(n):\n",
    "    out=[str(anio)+str(mes)+str(dia) for dia in range(100,600) for mes in range(10,20) for anio in range(1990,2019)]\n",
    "    return random.sample(out,n)"
   ]
  },
  {
   "cell_type": "code",
   "execution_count": 9,
   "metadata": {},
   "outputs": [],
   "source": [
    "with open(\"passwords.txt\",\"w\",encoding=\"utf-8\") as file:\n",
    "    for i in gen_student(200):\n",
    "        file.write(i+\" \"+gen_password()+\"\\n\")"
   ]
  },
  {
   "cell_type": "code",
   "execution_count": 12,
   "metadata": {
    "scrolled": false
   },
   "outputs": [
    {
     "name": "stdout",
     "output_type": "stream",
     "text": [
      "['201316388', 'fn51^V!R', '201010593', 'Q%3$9Xds', '200115579', '1F^x!c3Y', '199116214', 'g*IX=9c0', '199117235', '^R=t7f2L', '201017445', '=Bs0l*T8', '201512143', '2O$Ac1v!', '199017260', 'C1f8d^%F', '201616431', '1&djNZ3^', '200217222', '3Q%0!Nne', '199916498', 'E5!oLi^2', '199211526', 'R*7kF8g$', '199319321', '%3X$tJ5h', '200219285', 'i&Yz69D$', '201212480', 'U8wE%$d5', '201413427', '^cY$O80f', '199517207', '^*Cq29Od', '201712364', '%Ty48&So', '201415316', 'yS!G5^p1', '199113541', 'k$WZ0v5*', '201615200', 'o&DSc=30', '199315465', 'k2^SX$4c', '199312500', 'VptE!7^6', '200116576', '8Ztb^2=S', '201310569', '3c%IZ^5s', '201218213', '^=eD9a3E', '199615332', 'Br93$hW*', '201714168', 'T%3oH9u=', '201118551', '!80&EwNn', '201312496', 'jU0s5$=T', '200919175', '&y4PnC*9', '201612357', 'X&q6J=t0', '199613159', 'v1TS&a9%', '199017477', '$eTw6%K7', '199211317', 'oP%9&Tf4', '200910476', 'H!p2Ah*6', '200111282', '=yxD8X^7', '200511418', '5*%sMpS1', '199114527', '0L=!6Vxz', '199415566', '$pI38H^l', '200617515', 'Qm96&u$M', '199113347', '=kSe$1Q4', '200813382', '7&=AqN8m', '201115166', '&3p9F%uC', '199411227', 'x0S%1!nM', '200811411', '^3%bAQ2w', '201113254', 'Lu2^1H=f', '199718112', 'a^RmN!68', '199912125', '5I2!^Fxg', '199512470', 'S=^K58if', '200715457', 'b3w%=FA9', '201712208', '%Zk6yU1!', '199318373', 'Q$7!2Ikn', '200510246', '*=XE4t1h', '200612508', 'h=Hy%K81', '199915144', '*M=2fHt5', '201112479', '0T$*8Ofx', '199817372', '$u=C7vN2', '199414548', '62%*QrWp', '201417261', 'zc0*T1L%', '201118274', 'qJ7j%W=0', '200016534', '1*fYw!8X', '201310446', 'R9hf*V2=', '199015497', '$4xTyJ^7', '201413475', 'gz3%K^C7', '199512165', 'TD9*l8n=', '200416467', 'bW2O=*w5', '199710524', '^A1sGj$4', '200418185', '%8HGbz^0', '199214351', '8*ZR5h^g', '200216515', '9pP*cH3=', '200516182', 'v$aWR7*4', '200012129', '&m4j5Y%L', '199311346', '$4!u7CPo', '201017122', '2Z9!rC=d', '200219296', 'i^05Yx*L', '200911264', 'Qn^1p8*N', '200510247', '2q8DL*&k', '200214533', '!2&Act4K', '200012313', '&%5iV4oD', '201417415', 'mYF9%d$7', '200713312', 'Pm!8y6^X', '200813143', '$oj6=RO3', '200517269', 'If&28m!E', '200212416', 'I8Y&0!nm', '199514309', '0C&H9=ez', '201416324', 'zE&85s*L', '201719436', 'N1m5Mi$%', '199310481', 'Vq4Bv&9^', '199316294', 'fS3%x!Q2', '201611237', '0Nn=!9cL', '201115165', '&56G*Zzv', '201019386', 'Yqc7W9*^', '200719283', 'd7Fr^*9L', '200912474', '^vkE=9P0', '199312283', 'j=6RDx4*', '199514383', '&h23DlA$', '199610418', '$t=0SFo2', '201618327', '02j=^gZX', '199716471', 'AR13gw$%', '199713244', 'F=b5t7L!', '201518208', 'W&6w9Vv=', '200217217', 'whA$B51=', '200619436', 'Qi$x0K3=', '200011518', 'u&2=yO7S', '201819272', 'W$32&rtA', '200716247', 'c$*m9G6L', '199511473', '71*pfH%U', '200911543', 'I%s*aT02', '200913581', 'e^P5=y6Q', '199412202', 's^1fW!4K', '201716407', 'V24*seO&', '200416311', '&Lfe9!U5', '199310150', '1^F*h3Hd', '199913266', '=R*X6w9a', '201418233', '5$3gO%xE', '200419527', 'FD!i8^c6', '200310367', '0yHOu9!%', '200218306', 'l4=9G^Zr', '200314321', '1i^8&AnB', '201610417', 'Yc4L2o%&', '199113148', 'yP$1&e2M', '200915439', 'L$w^82mQ', '201317556', 'C8!1h*Nq', '200810309', 'Re0=P3*y', '199916593', 'q8J2W&*p', '199617110', '*T1n0iU&', '200112257', 'sU5&*f3H', '199815112', '71BbN$%o', '200212397', 'ue!9^BY5', '199615574', 'Cxu9^=A8', '201318543', '9w!OoN%1', '201316257', '5pO3%$tT', '201417338', '!yFO16h&', '201319181', 'F*c%Wl17', '201417383', '*VU85%we', '200417309', '&oW=3h9R', '200319174', 'zHUy16=$', '200017384', 'Q*i6$I1r', '200719472', 'I0m4=&Ug', '200811322', 'f=2jSX4!', '200513108', '8$OZ5hw^', '200610220', 'i%3!t9VS', '200218480', '70&dPK%r', '199116331', 'F=9P1o!c', '201714458', 'ul8FL*6&', '199318413', '$%t6JxU4', '199713112', '!PJ7sp2=', '201613253', '*v!17jIF', '199811116', 't&4^xS3L', '199118232', '&51K=Gaq', '199712230', 's^K51=Sn', '200116463', 'Tu6V&!1b', '201317215', 'Pj5Y^l8&', '201118264', '8GW4!=gn', '199318390', '^TOzo2&0', '199619501', '&Lm=qC16', '200714569', '61h*S=dK', '201117484', '6C=F0!nw', '199518311', 'HX=^f4t0', '201411142', '08P%u=Do', '200916324', 'H*5%lc8Q', '199213237', 'xm*CO=20', '200919301', 'X62$lwJ=', '200314141', 'S1ie%8N!', '201815468', 'v^*4UWy3', '201112191', '=2T5Iy!e', '199415417', 'XiP2%&6n', '199811370', '^!W2Lzq1', '201614153', 'vhE%3L4^', '200314327', '16mG&%Dk', '199419276', '^XxvS91&', '200812374', 'XeBz$76=', '200910558', '5c%l7U*Q', '201110578', '5q&S$N2j', '200116369', '^jVM50d$', '199012509', 'Iso04$!T', '199719227', '4bmCD=^9', '201511597', 'gQ^&o8T3', '201417156', '&T7Bjy0^', '200914106', '0ZL$=mb1', '199713274', 'xG%$2eO5', '200710398', 'Y28vq&^P', '199116465', '$0=ca9QL', '200311503', 'q5VG$g3^', '199717139', '=M86Klt$', '199217250', 'M=gw*0U9', '200318323', 'Z8b$Ia0=', '201412556', '*JfK7$0n', '201716281', 'DP1*2q%z', '201118497', '1!R0Tya$', '201813212', 'kO1B&4!m', '201417232', '8Ia=9&Lp', '201614201', 'nS93H&x^', '200116426', '5&F3n$Ec', '199519370', '2&k3LsG%', '200818425', 'B&s4^z8Z', '199114256', 'fa%F2D=9', '199415418', '90b=Ka!E', '201815296', '*2zgEK1^']\n"
     ]
    }
   ],
   "source": [
    "with open(\"passwords.txt\",\"r\",encoding=\"utf-8\") as file:\n",
    "    file = file.read()\n",
    "    file=file.split()\n",
    "    print(file)\n",
    "    for i in range(file)"
   ]
  },
  {
   "cell_type": "markdown",
   "metadata": {},
   "source": [
    "## Solucion:"
   ]
  },
  {
   "cell_type": "code",
   "execution_count": 34,
   "metadata": {},
   "outputs": [],
   "source": [
    "def crypth(passwd,shift):\n",
    "    letters=\"abcdefghijklmnopqrstuvwxyz\"\n",
    "    letters_upper=\"ABCDEFGHIJKLMNOPQRSTUVWXYZ\"\n",
    "    digits=\"0123456789\"\n",
    "    new=\"\"\n",
    "    for i in passwd:\n",
    "        if i in letters:\n",
    "            # circle shift letters\n",
    "            newletter=letters[(letters.find(i)+shift)%len(letters)]\n",
    "            new=new+newletter\n",
    "        elif i in letters_upper:\n",
    "            # circle shift upper letters\n",
    "            newletter=letters_upper[(letters_upper.find(i)+shift)%len(letters_upper)]\n",
    "            new=new+newletter\n",
    "        elif i in digits:\n",
    "            # circle shift digits\n",
    "            newdigit=digits[(digits.find(i)+shift)%len(digits)]\n",
    "            new=new+newdigit\n",
    "        else:\n",
    "            # do nothing\n",
    "            new=new+i\n",
    "    return new     "
   ]
  },
  {
   "cell_type": "code",
   "execution_count": 38,
   "metadata": {},
   "outputs": [
    {
     "name": "stdout",
     "output_type": "stream",
     "text": [
      "Introduce shift for encription (1..26): 1\n"
     ]
    }
   ],
   "source": [
    "shift=int(input(\"Introduce shift for encription (1..26): \"))\n",
    "with open(\"passwords_new.txt\",\"w\",encoding=\"utf-8\") as file_new:\n",
    "    with open(\"passwords.txt\",\"r\",encoding=\"utf-8\") as file:\n",
    "        students=file.readlines()\n",
    "        for i in students:\n",
    "            user,password=i.split(\" \")\n",
    "            new_password=crypth(password[:-1],shift)\n",
    "            file_new.write(user+\" \"+new_password+\"\\n\")"
   ]
  }
 ],
 "metadata": {
  "kernelspec": {
   "display_name": "Python 3",
   "language": "python",
   "name": "python3"
  },
  "language_info": {
   "codemirror_mode": {
    "name": "ipython",
    "version": 3
   },
   "file_extension": ".py",
   "mimetype": "text/x-python",
   "name": "python",
   "nbconvert_exporter": "python",
   "pygments_lexer": "ipython3",
   "version": "3.8.3"
  }
 },
 "nbformat": 4,
 "nbformat_minor": 2
}
