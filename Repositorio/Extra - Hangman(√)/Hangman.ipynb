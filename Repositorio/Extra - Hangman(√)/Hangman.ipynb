{
 "cells": [
  {
   "cell_type": "markdown",
   "metadata": {},
   "source": [
    "# Hangman"
   ]
  },
  {
   "cell_type": "markdown",
   "metadata": {},
   "source": [
    "## Read file with spanish words and remove accents\n",
    "You need to install the package unidecode from the Anaconda console:\n",
    "\n",
    "*conda install unidecode*"
   ]
  },
  {
   "cell_type": "code",
   "execution_count": 3,
   "metadata": {},
   "outputs": [
    {
     "name": "stdout",
     "output_type": "stream",
     "text": [
      "Number of words:  80383\n",
      "Example of some elements [('a', 1), ('aaronita', 8), ('aaronico', 8), ('aba', 3), ('ababa', 5)]\n"
     ]
    }
   ],
   "source": [
    "import unidecode\n",
    "lista=[]\n",
    "with open(\"spanish_words.txt\",\"r\",encoding=\"utf8\") as file:\n",
    "    for word in file:\n",
    "        # remove accents and \\n\n",
    "        word_without_accents=unidecode.unidecode(word[:-1])\n",
    "        # create a list with elements of type: (word, length)\n",
    "        lista.append((word_without_accents,len(word_without_accents)))\n",
    "print(\"Number of words: \",len(lista))\n",
    "print(\"Example of some elements\",lista[:5])"
   ]
  },
  {
   "cell_type": "markdown",
   "metadata": {},
   "source": [
    "## Ask user for the lenght of the word to guess and get a random word of that length"
   ]
  },
  {
   "cell_type": "code",
   "execution_count": 4,
   "metadata": {},
   "outputs": [],
   "source": [
    "import random\n",
    "def returnWord(lista,length):\n",
    "    candidates=[w for w,l in lista if l==length]\n",
    "    return random.choice(candidates)"
   ]
  },
  {
   "cell_type": "code",
   "execution_count": 5,
   "metadata": {},
   "outputs": [
    {
     "name": "stdout",
     "output_type": "stream",
     "text": [
      "Enter length of word: 7\n"
     ]
    }
   ],
   "source": [
    "length=int(input(\"Enter length of word: \"))"
   ]
  },
  {
   "cell_type": "code",
   "execution_count": 6,
   "metadata": {},
   "outputs": [],
   "source": [
    "secret=returnWord(lista,length)"
   ]
  },
  {
   "cell_type": "markdown",
   "metadata": {},
   "source": [
    "## Implement a method that prints the secret panel with the selected letters"
   ]
  },
  {
   "cell_type": "code",
   "execution_count": 9,
   "metadata": {},
   "outputs": [
    {
     "name": "stdout",
     "output_type": "stream",
     "text": [
      "_ _ _ _ \n"
     ]
    }
   ],
   "source": [
    "def printpanel(secret,words):\n",
    "    for i in secret:\n",
    "        if i.lower() in words:\n",
    "            print(i,end=\"\")\n",
    "        else:\n",
    "            print(\"_ \",end=\"\")\n",
    "    print(\"\")\n",
    "printpanel('hola','')"
   ]
  },
  {
   "cell_type": "markdown",
   "metadata": {},
   "source": [
    "## Implement a method that finds out if the word has been guessed"
   ]
  },
  {
   "cell_type": "code",
   "execution_count": 8,
   "metadata": {},
   "outputs": [],
   "source": [
    "def isdone(secret,words):\n",
    "    if len([True for i in secret.lower() if i in words])==len(secret): return True\n",
    "    else: return False"
   ]
  },
  {
   "cell_type": "code",
   "execution_count": 9,
   "metadata": {},
   "outputs": [
    {
     "data": {
      "text/plain": [
       "False"
      ]
     },
     "execution_count": 9,
     "metadata": {},
     "output_type": "execute_result"
    }
   ],
   "source": [
    "isdone(\"wikipedia\",[\"i\",\"w\",\"k\",\"d\",\"a\",\"p\"])"
   ]
  },
  {
   "cell_type": "code",
   "execution_count": 10,
   "metadata": {},
   "outputs": [
    {
     "data": {
      "text/plain": [
       "True"
      ]
     },
     "execution_count": 10,
     "metadata": {},
     "output_type": "execute_result"
    }
   ],
   "source": [
    "isdone(\"wikipedia\",[\"i\",\"w\",\"k\",\"d\",\"a\",\"p\",\"e\"])"
   ]
  },
  {
   "cell_type": "markdown",
   "metadata": {},
   "source": [
    "## Implement the game with 6 errors maximum"
   ]
  },
  {
   "cell_type": "code",
   "execution_count": 10,
   "metadata": {},
   "outputs": [
    {
     "name": "stdout",
     "output_type": "stream",
     "text": [
      "You have 6 tries\n",
      "Chose letter: a\n"
     ]
    },
    {
     "ename": "NameError",
     "evalue": "name 'secret' is not defined",
     "output_type": "error",
     "traceback": [
      "\u001b[0;31m---------------------------------------------------------------------------\u001b[0m",
      "\u001b[0;31mNameError\u001b[0m                                 Traceback (most recent call last)",
      "\u001b[0;32m<ipython-input-10-2f889a1fa7d7>\u001b[0m in \u001b[0;36m<module>\u001b[0;34m\u001b[0m\n\u001b[1;32m      9\u001b[0m         \u001b[0mprint\u001b[0m\u001b[0;34m(\u001b[0m\u001b[0;34m\"You already use that letter\"\u001b[0m\u001b[0;34m)\u001b[0m\u001b[0;34m\u001b[0m\u001b[0;34m\u001b[0m\u001b[0m\n\u001b[1;32m     10\u001b[0m         \u001b[0mprintpanel\u001b[0m\u001b[0;34m(\u001b[0m\u001b[0msecret\u001b[0m\u001b[0;34m,\u001b[0m\u001b[0mlettersgood\u001b[0m\u001b[0;34m)\u001b[0m\u001b[0;34m\u001b[0m\u001b[0;34m\u001b[0m\u001b[0m\n\u001b[0;32m---> 11\u001b[0;31m     \u001b[0;32melif\u001b[0m \u001b[0mletter\u001b[0m \u001b[0;32min\u001b[0m \u001b[0msecret\u001b[0m\u001b[0;34m.\u001b[0m\u001b[0mlower\u001b[0m\u001b[0;34m(\u001b[0m\u001b[0;34m)\u001b[0m\u001b[0;34m:\u001b[0m\u001b[0;34m\u001b[0m\u001b[0;34m\u001b[0m\u001b[0m\n\u001b[0m\u001b[1;32m     12\u001b[0m         \u001b[0mlettersgood\u001b[0m\u001b[0;34m.\u001b[0m\u001b[0mappend\u001b[0m\u001b[0;34m(\u001b[0m\u001b[0mletter\u001b[0m\u001b[0;34m)\u001b[0m\u001b[0;34m\u001b[0m\u001b[0;34m\u001b[0m\u001b[0m\n\u001b[1;32m     13\u001b[0m         \u001b[0mprintpanel\u001b[0m\u001b[0;34m(\u001b[0m\u001b[0msecret\u001b[0m\u001b[0;34m,\u001b[0m\u001b[0mlettersgood\u001b[0m\u001b[0;34m)\u001b[0m\u001b[0;34m\u001b[0m\u001b[0;34m\u001b[0m\u001b[0m\n",
      "\u001b[0;31mNameError\u001b[0m: name 'secret' is not defined"
     ]
    }
   ],
   "source": [
    "errors=6\n",
    "finished=False\n",
    "lettersgood=[]\n",
    "lettersbad=[]\n",
    "while errors!=0:\n",
    "    print(\"You have {} tries\".format(errors))\n",
    "    letter=input(\"Chose letter: \").lower()\n",
    "    if letter in lettersgood or letter in lettersbad: \n",
    "        print(\"You already use that letter\")\n",
    "        printpanel(secret,lettersgood)\n",
    "    elif letter in secret.lower():\n",
    "        lettersgood.append(letter)\n",
    "        printpanel(secret,lettersgood)\n",
    "        if isdone(secret,lettersgood): break\n",
    "    else:\n",
    "        print(\"Wrong choice\")\n",
    "        lettersbad.append(letter)\n",
    "        printpanel(secret,lettersgood)\n",
    "        errors-=1\n",
    "if isdone(secret,lettersgood): print(\"You did it\")\n",
    "else: print(\"You failed. Secret word is: \",secret)"
   ]
  },
  {
   "cell_type": "code",
   "execution_count": null,
   "metadata": {},
   "outputs": [],
   "source": []
  }
 ],
 "metadata": {
  "kernelspec": {
   "display_name": "Python 3",
   "language": "python",
   "name": "python3"
  },
  "language_info": {
   "codemirror_mode": {
    "name": "ipython",
    "version": 3
   },
   "file_extension": ".py",
   "mimetype": "text/x-python",
   "name": "python",
   "nbconvert_exporter": "python",
   "pygments_lexer": "ipython3",
   "version": "3.8.3"
  }
 },
 "nbformat": 4,
 "nbformat_minor": 2
}
