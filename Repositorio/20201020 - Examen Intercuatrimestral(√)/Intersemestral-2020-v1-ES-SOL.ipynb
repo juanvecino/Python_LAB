{
 "cells": [
  {
   "cell_type": "markdown",
   "metadata": {},
   "source": [
    "# Examen Inter-semestral\n",
    "# Fundamentos de la Informática\n",
    "# 20-Oct-2019\n",
    "\n",
    "## *Rellena la siguiente información*:\n",
    "\n",
    "### Nombre completo:\n",
    "### Grupo:"
   ]
  },
  {
   "cell_type": "markdown",
   "metadata": {},
   "source": [
    "#### Problema 1 (2 ptos.)\n",
    "\n",
    "Disponemos de la siguiente URL: \n",
    "\n",
    "   \"www.datosdetrafico.com/api/v1/city=XXXX&day=DD&month=MM&year=YYYY\"\n",
    "    \n",
    "En función de los datos que escribamos en XXXX, DD, MM e YYYY accederemos a una web que nos devuelve el tráfico para esa ciudad en esa fecha. Por ejemplo, la URL:\n",
    "\n",
    "    \"www.datosdetrafico.com/api/v1/city=Cuenca&day=1&month=8&year=2019\"\n",
    "    \n",
    "Devolvería datos de tráfico para el 1 de agosto de 2019 para la ciudad de Cuenca. Necesitamos acceder a los los datos para las siguientes combinaciones:\n",
    "\n",
    "* Ciudades: Cuenca, Guadalajara, Madrid, Córdoba, Soria\n",
    "* Años: 2019\n",
    "* Meses: De Enero a Diciembre\n",
    "* Días 1,8,15,22 y 29\n",
    "\n",
    "Implementar un código que genere todas las URLs y las almacene en una variable de tipo lista"
   ]
  },
  {
   "cell_type": "markdown",
   "metadata": {},
   "source": [
    "#### SOLUCION: "
   ]
  },
  {
   "cell_type": "code",
   "execution_count": 14,
   "metadata": {},
   "outputs": [],
   "source": [
    "lista=[]\n",
    "for city in [\"Cuenca\", \"Guadalajara\", \"Madrid\", \"Córdoba\",\"Soria\"]:\n",
    "    for mes in range(1,13):\n",
    "        for dia in [1,8,15,22,29]:\n",
    "            url= \"www.datosdetrafico.com/api/v1/city={}&day={}&month={}&year={}\".format(city,dia,mes,2019)\n",
    "            lista.append(url)"
   ]
  },
  {
   "cell_type": "markdown",
   "metadata": {},
   "source": [
    "#### Problema 2 (4 ptos.)\n",
    "\n",
    "Tenemos estas dos variables para simular una baraja francesa de 52 cartas:\n",
    "\n",
    "    palos=[\"♥\",\"♦\",\"♠\",\"♣\"]\n",
    "    valores=[1,2,3,4,5,6,7,8,9,10,11,12,13]\n",
    "\n",
    "\n",
    "Implementa un código que reparta 6 cartas aleatorias a 4 jugadores. Recuerda que no debería ser posible entregar la misma carta a dos personas. El resultado del código debería generar una salida como esta:\n",
    "\n",
    "\n",
    "    Jugador1: ♦10  ♥9   ♦7   ♦5   ♣1   ♠5   \n",
    "    Jugador2: ♥13  ♦3   ♣7   ♠1   ♦12  ♠11  \n",
    "    Jugador3: ♣8   ♥4   ♠10  ♥6   ♣5   ♣3   \n",
    "    Jugador4: ♥11  ♠4   ♦4   ♣12  ♠3   ♥10\n",
    "    \n",
    "\n",
    "Las funciones vistas en los laboratorios de la librería RANDOM pueden resultarte de utilidad (shuffle, sample, randint,...)"
   ]
  },
  {
   "cell_type": "markdown",
   "metadata": {},
   "source": [
    "#### SOLUCION 1."
   ]
  },
  {
   "cell_type": "code",
   "execution_count": 1,
   "metadata": {},
   "outputs": [],
   "source": [
    "import random as rnd\n",
    "\n",
    "palos=[\"♥\",\"♦\",\"♠\",\"♣\"]\n",
    "valores=[1,2,3,4,5,6,7,8,9,10,11,12,13]\n",
    "\n",
    "baraja=[]\n",
    "for i in palos:\n",
    "    for j in valores:\n",
    "        baraja.append(i+str(j))"
   ]
  },
  {
   "cell_type": "code",
   "execution_count": 9,
   "metadata": {},
   "outputs": [
    {
     "name": "stdout",
     "output_type": "stream",
     "text": [
      "Jugador1: ♥1   ♥3   ♥12  ♦10  ♦8   ♦5   \n",
      "Jugador2: ♥11  ♣11  ♣8   ♠4   ♠13  ♠10  \n",
      "Jugador3: ♠9   ♥2   ♠7   ♣10  ♣4   ♠8   \n",
      "Jugador4: ♦12  ♦3   ♥5   ♠6   ♣12  ♦4   \n"
     ]
    }
   ],
   "source": [
    "rnd.shuffle(baraja)\n",
    "juego={\"Jugador1\":baraja[0:6],\"Jugador2\":baraja[6:12],\"Jugador3\":baraja[12:18],\"Jugador4\":baraja[18:24]}\n",
    "for k,v in juego.items():\n",
    "    print(\"{0:7s}: {1:5s}{2:5s}{3:5s}{4:5s}{5:5s}{6:5s}\".format(k,v[0],v[1],v[2],v[3],v[4],v[5]))"
   ]
  },
  {
   "cell_type": "markdown",
   "metadata": {},
   "source": [
    "#### SOLUCION 2."
   ]
  },
  {
   "cell_type": "code",
   "execution_count": 10,
   "metadata": {},
   "outputs": [
    {
     "name": "stdout",
     "output_type": "stream",
     "text": [
      "jugador1: ♠3   ♦2   ♠4   ♠6   ♥1   ♠12  \n",
      "jugador2: ♠5   ♦12  ♦9   ♥4   ♦4   ♠13  \n",
      "jugador3: ♠7   ♦1   ♣8   ♦13  ♣3   ♣2   \n",
      "jugador4: ♠10  ♣11  ♥10  ♦6   ♣1   ♥9   \n"
     ]
    }
   ],
   "source": [
    "jugadores=dict(jugador1=[],jugador2=[],jugador3=[],jugador4=[])\n",
    "for jugador in jugadores.keys():\n",
    "    while len(jugadores[jugador])!=6:\n",
    "        carta=rnd.sample(palos,1)+rnd.sample(valores,1)\n",
    "        carta=carta[0]+str(carta[1])\n",
    "        if carta not in jugadores[\"jugador1\"] and carta not in jugadores[\"jugador2\"] and carta not in jugadores[\"jugador3\"] and carta not in jugadores[\"jugador4\"]:\n",
    "            jugadores[jugador].append(carta)\n",
    "for k,v in jugadores.items():\n",
    "    print(\"{0:7s}: {1:5s}{2:5s}{3:5s}{4:5s}{5:5s}{6:5s}\".format(k,v[0],v[1],v[2],v[3],v[4],v[5]))"
   ]
  },
  {
   "cell_type": "markdown",
   "metadata": {},
   "source": [
    "#### Problema 3 (2 ptos.)\n",
    "\n",
    "Modifica el código proporcionado para conseguir el siguiente efecto:\n",
    "\n",
    "    Universidad\n",
    "    Universida\n",
    "    Universid\n",
    "    Universi\n",
    "    Univers\n",
    "    Univer\n",
    "    Unive\n",
    "    Univ\n",
    "    Uni\n",
    "    Un\n",
    "    U"
   ]
  },
  {
   "cell_type": "code",
   "execution_count": 54,
   "metadata": {
    "scrolled": true
   },
   "outputs": [
    {
     "name": "stdout",
     "output_type": "stream",
     "text": [
      "Universidad\n",
      "niversidad\n",
      "iversidad\n",
      "versidad\n",
      "ersidad\n",
      "rsidad\n",
      "sidad\n",
      "idad\n",
      "dad\n",
      "ad\n",
      "d\n"
     ]
    }
   ],
   "source": [
    "sentence=\"Universidad\"\n",
    "for character in range (0,len(sentence)):\n",
    "    print(sentence[character:])"
   ]
  },
  {
   "cell_type": "markdown",
   "metadata": {},
   "source": [
    "#### SOLUCION: "
   ]
  },
  {
   "cell_type": "code",
   "execution_count": 55,
   "metadata": {},
   "outputs": [
    {
     "name": "stdout",
     "output_type": "stream",
     "text": [
      "Universidad\n",
      "Universida\n",
      "Universid\n",
      "Universi\n",
      "Univers\n",
      "Univer\n",
      "Unive\n",
      "Univ\n",
      "Uni\n",
      "Un\n",
      "U\n"
     ]
    }
   ],
   "source": [
    "sentence=\"Universidad\"\n",
    "for character in range (0,len(sentence)):\n",
    "    print(sentence[0:len(sentence)-character])"
   ]
  },
  {
   "cell_type": "markdown",
   "metadata": {},
   "source": [
    "#### Problema 4 (1 ptos.)\n",
    "\n",
    "Queremos crear un diccionario con las siguientes claves (identificadores) y valores (usuarios). Explica por qué no hace lo esperado y corrígelo."
   ]
  },
  {
   "cell_type": "code",
   "execution_count": 7,
   "metadata": {},
   "outputs": [
    {
     "ename": "IndexError",
     "evalue": "tuple index out of range",
     "output_type": "error",
     "traceback": [
      "\u001b[1;31m---------------------------------------------------------------------------\u001b[0m",
      "\u001b[1;31mIndexError\u001b[0m                                Traceback (most recent call last)",
      "\u001b[1;32m<ipython-input-7-49a6cc0a9087>\u001b[0m in \u001b[0;36m<module>\u001b[1;34m\u001b[0m\n\u001b[0;32m      3\u001b[0m \u001b[0malumnos\u001b[0m\u001b[1;33m=\u001b[0m\u001b[1;33m{\u001b[0m\u001b[1;33m}\u001b[0m\u001b[1;33m\u001b[0m\u001b[1;33m\u001b[0m\u001b[0m\n\u001b[0;32m      4\u001b[0m \u001b[1;32mfor\u001b[0m \u001b[0mi\u001b[0m \u001b[1;32min\u001b[0m \u001b[0midentificadores\u001b[0m\u001b[1;33m:\u001b[0m\u001b[1;33m\u001b[0m\u001b[1;33m\u001b[0m\u001b[0m\n\u001b[1;32m----> 5\u001b[1;33m     \u001b[0malumno\u001b[0m\u001b[1;33m[\u001b[0m\u001b[0mi\u001b[0m\u001b[1;33m]\u001b[0m\u001b[1;33m=\u001b[0m\u001b[0musuarios\u001b[0m\u001b[1;33m[\u001b[0m\u001b[0mi\u001b[0m\u001b[1;33m]\u001b[0m\u001b[1;33m\u001b[0m\u001b[1;33m\u001b[0m\u001b[0m\n\u001b[0m\u001b[0;32m      6\u001b[0m \u001b[0mprint\u001b[0m\u001b[1;33m(\u001b[0m\u001b[0malumnos\u001b[0m\u001b[1;33m)\u001b[0m\u001b[1;33m\u001b[0m\u001b[1;33m\u001b[0m\u001b[0m\n",
      "\u001b[1;31mIndexError\u001b[0m: tuple index out of range"
     ]
    }
   ],
   "source": [
    "identificadores=[123, 222, 323, 432]\n",
    "usuarios= \"Alvaro\", \"Manuel\",\"Elena\" \"Gonzalo\"\n",
    "alumnos={}\n",
    "for i in identificadores:\n",
    "    alumno[i]=usuarios[i]\n",
    "print(alumnos)"
   ]
  },
  {
   "cell_type": "markdown",
   "metadata": {},
   "source": [
    "#### SOLUCION: \n",
    "\n",
    "La variable i toma valores que no son índices"
   ]
  },
  {
   "cell_type": "code",
   "execution_count": 56,
   "metadata": {},
   "outputs": [
    {
     "name": "stdout",
     "output_type": "stream",
     "text": [
      "{123: 'Alvaro', 222: 'Manuel', 323: 'Elena', 432: 'Gonzalo'}\n"
     ]
    }
   ],
   "source": [
    "claves= 123, 222, 323, 432\n",
    "usuarios=\"Alvaro\", \"Manuel\",\"Elena\",\"Gonzalo\"\n",
    "alumnos={}\n",
    "j=0\n",
    "for i in claves:\n",
    "    alumnos[i]=usuarios[j]\n",
    "    j+=1\n",
    "print(alumnos)"
   ]
  },
  {
   "cell_type": "markdown",
   "metadata": {},
   "source": [
    "#### Problema 5 (1 ptos.)\n",
    "\n",
    "Queremos calcular la raiz cuadrada de una lista de números reales pero nuestra distribución de python no dispone de la librería NUMPY. Realizar un código que permita calcular la raiz cuadrada de una lista de valores sin hacer uso de esta librería."
   ]
  },
  {
   "cell_type": "markdown",
   "metadata": {},
   "source": [
    "#### SOLUCION: "
   ]
  },
  {
   "cell_type": "code",
   "execution_count": 12,
   "metadata": {},
   "outputs": [
    {
     "data": {
      "text/plain": [
       "[1.0,\n",
       " 1.4142135623730951,\n",
       " 1.7320508075688772,\n",
       " 2.0,\n",
       " 2.23606797749979,\n",
       " 2.449489742783178]"
      ]
     },
     "execution_count": 12,
     "metadata": {},
     "output_type": "execute_result"
    }
   ],
   "source": [
    "import math\n",
    "lista=[1,2,3,4,5,6]\n",
    "out=[]\n",
    "for i in lista:\n",
    "    out.append(math.sqrt(i))\n",
    "out"
   ]
  }
 ],
 "metadata": {
  "kernelspec": {
   "display_name": "Python 3",
   "language": "python",
   "name": "python3"
  },
  "language_info": {
   "codemirror_mode": {
    "name": "ipython",
    "version": 3
   },
   "file_extension": ".py",
   "mimetype": "text/x-python",
   "name": "python",
   "nbconvert_exporter": "python",
   "pygments_lexer": "ipython3",
   "version": "3.8.3"
  }
 },
 "nbformat": 4,
 "nbformat_minor": 4
}
